{
 "cells": [
  {
   "cell_type": "markdown",
   "id": "5121fbc3",
   "metadata": {},
   "source": [
    "# Bankrupty_Prevenstion_System"
   ]
  },
  {
   "cell_type": "markdown",
   "id": "69ce996c",
   "metadata": {},
   "source": [
    "__Problem Statement :__\n",
    "\n",
    "Business Objective :\n",
    "This is a classification project, since the variable to predict is binary (bankruptcy or non-bankruptcy). The goal here is to model the probability that a business goes bankrupt from different features.\n"
   ]
  },
  {
   "cell_type": "code",
   "execution_count": 1,
   "id": "8bd49e38",
   "metadata": {},
   "outputs": [],
   "source": [
    "#importing required libraries \n",
    "\n",
    "import pandas as pd\n",
    "import numpy as np \n",
    "import matplotlib.pyplot as plt\n",
    "import seaborn as sns \n",
    "import warnings\n",
    "warnings.filterwarnings('ignore')\n"
   ]
  },
  {
   "cell_type": "code",
   "execution_count": 2,
   "id": "2d16be9a",
   "metadata": {
    "scrolled": true
   },
   "outputs": [
    {
     "data": {
      "text/html": [
       "<div>\n",
       "<style scoped>\n",
       "    .dataframe tbody tr th:only-of-type {\n",
       "        vertical-align: middle;\n",
       "    }\n",
       "\n",
       "    .dataframe tbody tr th {\n",
       "        vertical-align: top;\n",
       "    }\n",
       "\n",
       "    .dataframe thead th {\n",
       "        text-align: right;\n",
       "    }\n",
       "</style>\n",
       "<table border=\"1\" class=\"dataframe\">\n",
       "  <thead>\n",
       "    <tr style=\"text-align: right;\">\n",
       "      <th></th>\n",
       "      <th>industrial_risk</th>\n",
       "      <th>management_risk</th>\n",
       "      <th>financial_flexibility</th>\n",
       "      <th>credibility</th>\n",
       "      <th>competitiveness</th>\n",
       "      <th>operating_risk</th>\n",
       "      <th>class</th>\n",
       "    </tr>\n",
       "  </thead>\n",
       "  <tbody>\n",
       "    <tr>\n",
       "      <th>0</th>\n",
       "      <td>0.5</td>\n",
       "      <td>1.0</td>\n",
       "      <td>0.0</td>\n",
       "      <td>0.0</td>\n",
       "      <td>0.0</td>\n",
       "      <td>0.5</td>\n",
       "      <td>bankruptcy</td>\n",
       "    </tr>\n",
       "    <tr>\n",
       "      <th>1</th>\n",
       "      <td>0.0</td>\n",
       "      <td>1.0</td>\n",
       "      <td>0.0</td>\n",
       "      <td>0.0</td>\n",
       "      <td>0.0</td>\n",
       "      <td>1.0</td>\n",
       "      <td>bankruptcy</td>\n",
       "    </tr>\n",
       "    <tr>\n",
       "      <th>2</th>\n",
       "      <td>1.0</td>\n",
       "      <td>0.0</td>\n",
       "      <td>0.0</td>\n",
       "      <td>0.0</td>\n",
       "      <td>0.0</td>\n",
       "      <td>1.0</td>\n",
       "      <td>bankruptcy</td>\n",
       "    </tr>\n",
       "    <tr>\n",
       "      <th>3</th>\n",
       "      <td>0.5</td>\n",
       "      <td>0.0</td>\n",
       "      <td>0.0</td>\n",
       "      <td>0.5</td>\n",
       "      <td>0.0</td>\n",
       "      <td>1.0</td>\n",
       "      <td>bankruptcy</td>\n",
       "    </tr>\n",
       "    <tr>\n",
       "      <th>4</th>\n",
       "      <td>1.0</td>\n",
       "      <td>1.0</td>\n",
       "      <td>0.0</td>\n",
       "      <td>0.0</td>\n",
       "      <td>0.0</td>\n",
       "      <td>1.0</td>\n",
       "      <td>bankruptcy</td>\n",
       "    </tr>\n",
       "    <tr>\n",
       "      <th>...</th>\n",
       "      <td>...</td>\n",
       "      <td>...</td>\n",
       "      <td>...</td>\n",
       "      <td>...</td>\n",
       "      <td>...</td>\n",
       "      <td>...</td>\n",
       "      <td>...</td>\n",
       "    </tr>\n",
       "    <tr>\n",
       "      <th>245</th>\n",
       "      <td>0.0</td>\n",
       "      <td>1.0</td>\n",
       "      <td>1.0</td>\n",
       "      <td>1.0</td>\n",
       "      <td>1.0</td>\n",
       "      <td>1.0</td>\n",
       "      <td>non-bankruptcy</td>\n",
       "    </tr>\n",
       "    <tr>\n",
       "      <th>246</th>\n",
       "      <td>1.0</td>\n",
       "      <td>1.0</td>\n",
       "      <td>0.5</td>\n",
       "      <td>1.0</td>\n",
       "      <td>1.0</td>\n",
       "      <td>0.0</td>\n",
       "      <td>non-bankruptcy</td>\n",
       "    </tr>\n",
       "    <tr>\n",
       "      <th>247</th>\n",
       "      <td>0.0</td>\n",
       "      <td>1.0</td>\n",
       "      <td>1.0</td>\n",
       "      <td>0.5</td>\n",
       "      <td>0.5</td>\n",
       "      <td>0.0</td>\n",
       "      <td>non-bankruptcy</td>\n",
       "    </tr>\n",
       "    <tr>\n",
       "      <th>248</th>\n",
       "      <td>1.0</td>\n",
       "      <td>0.0</td>\n",
       "      <td>0.5</td>\n",
       "      <td>1.0</td>\n",
       "      <td>0.5</td>\n",
       "      <td>0.0</td>\n",
       "      <td>non-bankruptcy</td>\n",
       "    </tr>\n",
       "    <tr>\n",
       "      <th>249</th>\n",
       "      <td>1.0</td>\n",
       "      <td>0.0</td>\n",
       "      <td>0.5</td>\n",
       "      <td>0.5</td>\n",
       "      <td>1.0</td>\n",
       "      <td>1.0</td>\n",
       "      <td>non-bankruptcy</td>\n",
       "    </tr>\n",
       "  </tbody>\n",
       "</table>\n",
       "<p>250 rows × 7 columns</p>\n",
       "</div>"
      ],
      "text/plain": [
       "     industrial_risk  management_risk  financial_flexibility  credibility  \\\n",
       "0                0.5              1.0                    0.0          0.0   \n",
       "1                0.0              1.0                    0.0          0.0   \n",
       "2                1.0              0.0                    0.0          0.0   \n",
       "3                0.5              0.0                    0.0          0.5   \n",
       "4                1.0              1.0                    0.0          0.0   \n",
       "..               ...              ...                    ...          ...   \n",
       "245              0.0              1.0                    1.0          1.0   \n",
       "246              1.0              1.0                    0.5          1.0   \n",
       "247              0.0              1.0                    1.0          0.5   \n",
       "248              1.0              0.0                    0.5          1.0   \n",
       "249              1.0              0.0                    0.5          0.5   \n",
       "\n",
       "     competitiveness  operating_risk           class  \n",
       "0                0.0             0.5      bankruptcy  \n",
       "1                0.0             1.0      bankruptcy  \n",
       "2                0.0             1.0      bankruptcy  \n",
       "3                0.0             1.0      bankruptcy  \n",
       "4                0.0             1.0      bankruptcy  \n",
       "..               ...             ...             ...  \n",
       "245              1.0             1.0  non-bankruptcy  \n",
       "246              1.0             0.0  non-bankruptcy  \n",
       "247              0.5             0.0  non-bankruptcy  \n",
       "248              0.5             0.0  non-bankruptcy  \n",
       "249              1.0             1.0  non-bankruptcy  \n",
       "\n",
       "[250 rows x 7 columns]"
      ]
     },
     "execution_count": 2,
     "metadata": {},
     "output_type": "execute_result"
    }
   ],
   "source": [
    "#read the dataset\n",
    "dataframe = pd.read_csv(\"bankruptcy-prevention.csv\")\n",
    "dataframe"
   ]
  },
  {
   "cell_type": "markdown",
   "id": "f4e68154",
   "metadata": {},
   "source": [
    "The data file contains 7 features about 250 companies.\n",
    "\n",
    "The data set includes the following variables:\n",
    "industrial_risk: 0=low risk, 0.5=medium risk, 1=high risk.\n",
    "management_risk: 0=low risk, 0.5=medium risk, 1=high risk.\n",
    "financial flexibility: 0=low flexibility, 0.5=medium flexibility, 1=high flexibility.\n",
    "credibility: 0=low credibility, 0.5=medium credibility, 1=high credibility.\n",
    "competitiveness: 0=low competitiveness, 0.5=medium competitiveness, 1=high competitiveness.\n",
    "operating_risk: 0=low risk, 0.5=medium risk, 1=high risk.\n",
    "class: bankruptcy, non-bankruptcy (target variable).\n"
   ]
  },
  {
   "cell_type": "code",
   "execution_count": 3,
   "id": "eaaca99e",
   "metadata": {},
   "outputs": [],
   "source": [
    "df = dataframe.copy()"
   ]
  },
  {
   "cell_type": "code",
   "execution_count": 4,
   "id": "ca2681ef",
   "metadata": {},
   "outputs": [
    {
     "data": {
      "text/html": [
       "<div>\n",
       "<style scoped>\n",
       "    .dataframe tbody tr th:only-of-type {\n",
       "        vertical-align: middle;\n",
       "    }\n",
       "\n",
       "    .dataframe tbody tr th {\n",
       "        vertical-align: top;\n",
       "    }\n",
       "\n",
       "    .dataframe thead th {\n",
       "        text-align: right;\n",
       "    }\n",
       "</style>\n",
       "<table border=\"1\" class=\"dataframe\">\n",
       "  <thead>\n",
       "    <tr style=\"text-align: right;\">\n",
       "      <th></th>\n",
       "      <th>industrial_risk</th>\n",
       "      <th>management_risk</th>\n",
       "      <th>financial_flexibility</th>\n",
       "      <th>credibility</th>\n",
       "      <th>competitiveness</th>\n",
       "      <th>operating_risk</th>\n",
       "      <th>class</th>\n",
       "    </tr>\n",
       "  </thead>\n",
       "  <tbody>\n",
       "    <tr>\n",
       "      <th>0</th>\n",
       "      <td>0.5</td>\n",
       "      <td>1.0</td>\n",
       "      <td>0.0</td>\n",
       "      <td>0.0</td>\n",
       "      <td>0.0</td>\n",
       "      <td>0.5</td>\n",
       "      <td>bankruptcy</td>\n",
       "    </tr>\n",
       "    <tr>\n",
       "      <th>1</th>\n",
       "      <td>0.0</td>\n",
       "      <td>1.0</td>\n",
       "      <td>0.0</td>\n",
       "      <td>0.0</td>\n",
       "      <td>0.0</td>\n",
       "      <td>1.0</td>\n",
       "      <td>bankruptcy</td>\n",
       "    </tr>\n",
       "    <tr>\n",
       "      <th>2</th>\n",
       "      <td>1.0</td>\n",
       "      <td>0.0</td>\n",
       "      <td>0.0</td>\n",
       "      <td>0.0</td>\n",
       "      <td>0.0</td>\n",
       "      <td>1.0</td>\n",
       "      <td>bankruptcy</td>\n",
       "    </tr>\n",
       "    <tr>\n",
       "      <th>3</th>\n",
       "      <td>0.5</td>\n",
       "      <td>0.0</td>\n",
       "      <td>0.0</td>\n",
       "      <td>0.5</td>\n",
       "      <td>0.0</td>\n",
       "      <td>1.0</td>\n",
       "      <td>bankruptcy</td>\n",
       "    </tr>\n",
       "    <tr>\n",
       "      <th>4</th>\n",
       "      <td>1.0</td>\n",
       "      <td>1.0</td>\n",
       "      <td>0.0</td>\n",
       "      <td>0.0</td>\n",
       "      <td>0.0</td>\n",
       "      <td>1.0</td>\n",
       "      <td>bankruptcy</td>\n",
       "    </tr>\n",
       "    <tr>\n",
       "      <th>...</th>\n",
       "      <td>...</td>\n",
       "      <td>...</td>\n",
       "      <td>...</td>\n",
       "      <td>...</td>\n",
       "      <td>...</td>\n",
       "      <td>...</td>\n",
       "      <td>...</td>\n",
       "    </tr>\n",
       "    <tr>\n",
       "      <th>245</th>\n",
       "      <td>0.0</td>\n",
       "      <td>1.0</td>\n",
       "      <td>1.0</td>\n",
       "      <td>1.0</td>\n",
       "      <td>1.0</td>\n",
       "      <td>1.0</td>\n",
       "      <td>non-bankruptcy</td>\n",
       "    </tr>\n",
       "    <tr>\n",
       "      <th>246</th>\n",
       "      <td>1.0</td>\n",
       "      <td>1.0</td>\n",
       "      <td>0.5</td>\n",
       "      <td>1.0</td>\n",
       "      <td>1.0</td>\n",
       "      <td>0.0</td>\n",
       "      <td>non-bankruptcy</td>\n",
       "    </tr>\n",
       "    <tr>\n",
       "      <th>247</th>\n",
       "      <td>0.0</td>\n",
       "      <td>1.0</td>\n",
       "      <td>1.0</td>\n",
       "      <td>0.5</td>\n",
       "      <td>0.5</td>\n",
       "      <td>0.0</td>\n",
       "      <td>non-bankruptcy</td>\n",
       "    </tr>\n",
       "    <tr>\n",
       "      <th>248</th>\n",
       "      <td>1.0</td>\n",
       "      <td>0.0</td>\n",
       "      <td>0.5</td>\n",
       "      <td>1.0</td>\n",
       "      <td>0.5</td>\n",
       "      <td>0.0</td>\n",
       "      <td>non-bankruptcy</td>\n",
       "    </tr>\n",
       "    <tr>\n",
       "      <th>249</th>\n",
       "      <td>1.0</td>\n",
       "      <td>0.0</td>\n",
       "      <td>0.5</td>\n",
       "      <td>0.5</td>\n",
       "      <td>1.0</td>\n",
       "      <td>1.0</td>\n",
       "      <td>non-bankruptcy</td>\n",
       "    </tr>\n",
       "  </tbody>\n",
       "</table>\n",
       "<p>250 rows × 7 columns</p>\n",
       "</div>"
      ],
      "text/plain": [
       "     industrial_risk  management_risk  financial_flexibility  credibility  \\\n",
       "0                0.5              1.0                    0.0          0.0   \n",
       "1                0.0              1.0                    0.0          0.0   \n",
       "2                1.0              0.0                    0.0          0.0   \n",
       "3                0.5              0.0                    0.0          0.5   \n",
       "4                1.0              1.0                    0.0          0.0   \n",
       "..               ...              ...                    ...          ...   \n",
       "245              0.0              1.0                    1.0          1.0   \n",
       "246              1.0              1.0                    0.5          1.0   \n",
       "247              0.0              1.0                    1.0          0.5   \n",
       "248              1.0              0.0                    0.5          1.0   \n",
       "249              1.0              0.0                    0.5          0.5   \n",
       "\n",
       "     competitiveness  operating_risk           class  \n",
       "0                0.0             0.5      bankruptcy  \n",
       "1                0.0             1.0      bankruptcy  \n",
       "2                0.0             1.0      bankruptcy  \n",
       "3                0.0             1.0      bankruptcy  \n",
       "4                0.0             1.0      bankruptcy  \n",
       "..               ...             ...             ...  \n",
       "245              1.0             1.0  non-bankruptcy  \n",
       "246              1.0             0.0  non-bankruptcy  \n",
       "247              0.5             0.0  non-bankruptcy  \n",
       "248              0.5             0.0  non-bankruptcy  \n",
       "249              1.0             1.0  non-bankruptcy  \n",
       "\n",
       "[250 rows x 7 columns]"
      ]
     },
     "execution_count": 4,
     "metadata": {},
     "output_type": "execute_result"
    }
   ],
   "source": [
    "df"
   ]
  },
  {
   "cell_type": "code",
   "execution_count": 5,
   "id": "9c7fa4dd",
   "metadata": {},
   "outputs": [
    {
     "data": {
      "text/plain": [
       "pandas.core.frame.DataFrame"
      ]
     },
     "execution_count": 5,
     "metadata": {},
     "output_type": "execute_result"
    }
   ],
   "source": [
    "type(df)"
   ]
  },
  {
   "cell_type": "code",
   "execution_count": 6,
   "id": "767b8823",
   "metadata": {},
   "outputs": [
    {
     "data": {
      "text/plain": [
       "(250, 7)"
      ]
     },
     "execution_count": 6,
     "metadata": {},
     "output_type": "execute_result"
    }
   ],
   "source": [
    "df.shape"
   ]
  },
  {
   "cell_type": "code",
   "execution_count": 7,
   "id": "6fc52bfd",
   "metadata": {
    "scrolled": true
   },
   "outputs": [
    {
     "data": {
      "text/html": [
       "<div>\n",
       "<style scoped>\n",
       "    .dataframe tbody tr th:only-of-type {\n",
       "        vertical-align: middle;\n",
       "    }\n",
       "\n",
       "    .dataframe tbody tr th {\n",
       "        vertical-align: top;\n",
       "    }\n",
       "\n",
       "    .dataframe thead th {\n",
       "        text-align: right;\n",
       "    }\n",
       "</style>\n",
       "<table border=\"1\" class=\"dataframe\">\n",
       "  <thead>\n",
       "    <tr style=\"text-align: right;\">\n",
       "      <th></th>\n",
       "      <th>industrial_risk</th>\n",
       "      <th>management_risk</th>\n",
       "      <th>financial_flexibility</th>\n",
       "      <th>credibility</th>\n",
       "      <th>competitiveness</th>\n",
       "      <th>operating_risk</th>\n",
       "      <th>class</th>\n",
       "    </tr>\n",
       "  </thead>\n",
       "  <tbody>\n",
       "    <tr>\n",
       "      <th>0</th>\n",
       "      <td>0.5</td>\n",
       "      <td>1.0</td>\n",
       "      <td>0.0</td>\n",
       "      <td>0.0</td>\n",
       "      <td>0.0</td>\n",
       "      <td>0.5</td>\n",
       "      <td>bankruptcy</td>\n",
       "    </tr>\n",
       "    <tr>\n",
       "      <th>1</th>\n",
       "      <td>0.0</td>\n",
       "      <td>1.0</td>\n",
       "      <td>0.0</td>\n",
       "      <td>0.0</td>\n",
       "      <td>0.0</td>\n",
       "      <td>1.0</td>\n",
       "      <td>bankruptcy</td>\n",
       "    </tr>\n",
       "    <tr>\n",
       "      <th>2</th>\n",
       "      <td>1.0</td>\n",
       "      <td>0.0</td>\n",
       "      <td>0.0</td>\n",
       "      <td>0.0</td>\n",
       "      <td>0.0</td>\n",
       "      <td>1.0</td>\n",
       "      <td>bankruptcy</td>\n",
       "    </tr>\n",
       "    <tr>\n",
       "      <th>3</th>\n",
       "      <td>0.5</td>\n",
       "      <td>0.0</td>\n",
       "      <td>0.0</td>\n",
       "      <td>0.5</td>\n",
       "      <td>0.0</td>\n",
       "      <td>1.0</td>\n",
       "      <td>bankruptcy</td>\n",
       "    </tr>\n",
       "    <tr>\n",
       "      <th>4</th>\n",
       "      <td>1.0</td>\n",
       "      <td>1.0</td>\n",
       "      <td>0.0</td>\n",
       "      <td>0.0</td>\n",
       "      <td>0.0</td>\n",
       "      <td>1.0</td>\n",
       "      <td>bankruptcy</td>\n",
       "    </tr>\n",
       "  </tbody>\n",
       "</table>\n",
       "</div>"
      ],
      "text/plain": [
       "   industrial_risk  management_risk  financial_flexibility  credibility  \\\n",
       "0              0.5              1.0                    0.0          0.0   \n",
       "1              0.0              1.0                    0.0          0.0   \n",
       "2              1.0              0.0                    0.0          0.0   \n",
       "3              0.5              0.0                    0.0          0.5   \n",
       "4              1.0              1.0                    0.0          0.0   \n",
       "\n",
       "   competitiveness  operating_risk       class  \n",
       "0              0.0             0.5  bankruptcy  \n",
       "1              0.0             1.0  bankruptcy  \n",
       "2              0.0             1.0  bankruptcy  \n",
       "3              0.0             1.0  bankruptcy  \n",
       "4              0.0             1.0  bankruptcy  "
      ]
     },
     "execution_count": 7,
     "metadata": {},
     "output_type": "execute_result"
    }
   ],
   "source": [
    "df.head()"
   ]
  },
  {
   "cell_type": "code",
   "execution_count": 8,
   "id": "a531b67d",
   "metadata": {},
   "outputs": [
    {
     "data": {
      "text/plain": [
       "industrial_risk          float64\n",
       "management_risk          float64\n",
       "financial_flexibility    float64\n",
       "credibility              float64\n",
       "competitiveness          float64\n",
       "operating_risk           float64\n",
       "class                     object\n",
       "dtype: object"
      ]
     },
     "execution_count": 8,
     "metadata": {},
     "output_type": "execute_result"
    }
   ],
   "source": [
    "df.dtypes"
   ]
  },
  {
   "cell_type": "code",
   "execution_count": 9,
   "id": "fa396702",
   "metadata": {},
   "outputs": [
    {
     "name": "stdout",
     "output_type": "stream",
     "text": [
      "<class 'pandas.core.frame.DataFrame'>\n",
      "RangeIndex: 250 entries, 0 to 249\n",
      "Data columns (total 7 columns):\n",
      " #   Column                 Non-Null Count  Dtype  \n",
      "---  ------                 --------------  -----  \n",
      " 0   industrial_risk        250 non-null    float64\n",
      " 1   management_risk        250 non-null    float64\n",
      " 2   financial_flexibility  250 non-null    float64\n",
      " 3   credibility            250 non-null    float64\n",
      " 4   competitiveness        250 non-null    float64\n",
      " 5   operating_risk         250 non-null    float64\n",
      " 6   class                  250 non-null    object \n",
      "dtypes: float64(6), object(1)\n",
      "memory usage: 13.8+ KB\n"
     ]
    }
   ],
   "source": [
    "df.info()"
   ]
  },
  {
   "cell_type": "code",
   "execution_count": 10,
   "id": "703b6887",
   "metadata": {},
   "outputs": [
    {
     "data": {
      "text/html": [
       "<div>\n",
       "<style scoped>\n",
       "    .dataframe tbody tr th:only-of-type {\n",
       "        vertical-align: middle;\n",
       "    }\n",
       "\n",
       "    .dataframe tbody tr th {\n",
       "        vertical-align: top;\n",
       "    }\n",
       "\n",
       "    .dataframe thead th {\n",
       "        text-align: right;\n",
       "    }\n",
       "</style>\n",
       "<table border=\"1\" class=\"dataframe\">\n",
       "  <thead>\n",
       "    <tr style=\"text-align: right;\">\n",
       "      <th></th>\n",
       "      <th>industrial_risk</th>\n",
       "      <th>management_risk</th>\n",
       "      <th>financial_flexibility</th>\n",
       "      <th>credibility</th>\n",
       "      <th>competitiveness</th>\n",
       "      <th>operating_risk</th>\n",
       "    </tr>\n",
       "  </thead>\n",
       "  <tbody>\n",
       "    <tr>\n",
       "      <th>count</th>\n",
       "      <td>250.000000</td>\n",
       "      <td>250.000000</td>\n",
       "      <td>250.000000</td>\n",
       "      <td>250.000000</td>\n",
       "      <td>250.000000</td>\n",
       "      <td>250.000000</td>\n",
       "    </tr>\n",
       "    <tr>\n",
       "      <th>mean</th>\n",
       "      <td>0.518000</td>\n",
       "      <td>0.614000</td>\n",
       "      <td>0.376000</td>\n",
       "      <td>0.470000</td>\n",
       "      <td>0.476000</td>\n",
       "      <td>0.570000</td>\n",
       "    </tr>\n",
       "    <tr>\n",
       "      <th>std</th>\n",
       "      <td>0.411526</td>\n",
       "      <td>0.410705</td>\n",
       "      <td>0.401583</td>\n",
       "      <td>0.415682</td>\n",
       "      <td>0.440682</td>\n",
       "      <td>0.434575</td>\n",
       "    </tr>\n",
       "    <tr>\n",
       "      <th>min</th>\n",
       "      <td>0.000000</td>\n",
       "      <td>0.000000</td>\n",
       "      <td>0.000000</td>\n",
       "      <td>0.000000</td>\n",
       "      <td>0.000000</td>\n",
       "      <td>0.000000</td>\n",
       "    </tr>\n",
       "    <tr>\n",
       "      <th>25%</th>\n",
       "      <td>0.000000</td>\n",
       "      <td>0.500000</td>\n",
       "      <td>0.000000</td>\n",
       "      <td>0.000000</td>\n",
       "      <td>0.000000</td>\n",
       "      <td>0.000000</td>\n",
       "    </tr>\n",
       "    <tr>\n",
       "      <th>50%</th>\n",
       "      <td>0.500000</td>\n",
       "      <td>0.500000</td>\n",
       "      <td>0.500000</td>\n",
       "      <td>0.500000</td>\n",
       "      <td>0.500000</td>\n",
       "      <td>0.500000</td>\n",
       "    </tr>\n",
       "    <tr>\n",
       "      <th>75%</th>\n",
       "      <td>1.000000</td>\n",
       "      <td>1.000000</td>\n",
       "      <td>0.500000</td>\n",
       "      <td>1.000000</td>\n",
       "      <td>1.000000</td>\n",
       "      <td>1.000000</td>\n",
       "    </tr>\n",
       "    <tr>\n",
       "      <th>max</th>\n",
       "      <td>1.000000</td>\n",
       "      <td>1.000000</td>\n",
       "      <td>1.000000</td>\n",
       "      <td>1.000000</td>\n",
       "      <td>1.000000</td>\n",
       "      <td>1.000000</td>\n",
       "    </tr>\n",
       "  </tbody>\n",
       "</table>\n",
       "</div>"
      ],
      "text/plain": [
       "       industrial_risk  management_risk  financial_flexibility  credibility  \\\n",
       "count       250.000000       250.000000             250.000000   250.000000   \n",
       "mean          0.518000         0.614000               0.376000     0.470000   \n",
       "std           0.411526         0.410705               0.401583     0.415682   \n",
       "min           0.000000         0.000000               0.000000     0.000000   \n",
       "25%           0.000000         0.500000               0.000000     0.000000   \n",
       "50%           0.500000         0.500000               0.500000     0.500000   \n",
       "75%           1.000000         1.000000               0.500000     1.000000   \n",
       "max           1.000000         1.000000               1.000000     1.000000   \n",
       "\n",
       "       competitiveness  operating_risk  \n",
       "count       250.000000      250.000000  \n",
       "mean          0.476000        0.570000  \n",
       "std           0.440682        0.434575  \n",
       "min           0.000000        0.000000  \n",
       "25%           0.000000        0.000000  \n",
       "50%           0.500000        0.500000  \n",
       "75%           1.000000        1.000000  \n",
       "max           1.000000        1.000000  "
      ]
     },
     "execution_count": 10,
     "metadata": {},
     "output_type": "execute_result"
    }
   ],
   "source": [
    "df.describe()"
   ]
  },
  {
   "cell_type": "markdown",
   "id": "2be83431",
   "metadata": {},
   "source": [
    "### checking is there any missing values are there in data or not"
   ]
  },
  {
   "cell_type": "code",
   "execution_count": 11,
   "id": "ba270a89",
   "metadata": {},
   "outputs": [
    {
     "data": {
      "text/plain": [
       "industrial_risk          0\n",
       "management_risk          0\n",
       "financial_flexibility    0\n",
       "credibility              0\n",
       "competitiveness          0\n",
       "operating_risk           0\n",
       "class                    0\n",
       "dtype: int64"
      ]
     },
     "execution_count": 11,
     "metadata": {},
     "output_type": "execute_result"
    }
   ],
   "source": [
    "df.isnull().sum()"
   ]
  },
  {
   "cell_type": "code",
   "execution_count": 12,
   "id": "d3247d5f",
   "metadata": {},
   "outputs": [
    {
     "data": {
      "text/plain": [
       "<AxesSubplot:>"
      ]
     },
     "execution_count": 12,
     "metadata": {},
     "output_type": "execute_result"
    },
    {
     "data": {
      "image/png": "[encoded data removed]",
      "text/plain": [
       "<Figure size 432x288 with 2 Axes>"
      ]
     },
     "metadata": {
      "needs_background": "light"
     },
     "output_type": "display_data"
    }
   ],
   "source": [
    "sns.heatmap(df.isnull())"
   ]
  },
  {
   "cell_type": "code",
   "execution_count": 13,
   "id": "e89a0438",
   "metadata": {},
   "outputs": [
    {
     "data": {
      "text/plain": [
       "[]"
      ]
     },
     "execution_count": 13,
     "metadata": {},
     "output_type": "execute_result"
    }
   ],
   "source": [
    "#another way to finding out the count of null values using list comprehension\n",
    "[features for features in df.columns if df[features].isnull().sum( ) > 0]"
   ]
  },
  {
   "cell_type": "markdown",
   "id": "822817f3",
   "metadata": {},
   "source": [
    "### here we are changing the target variable to 'bankruptcy' = 0 and 'non bankruptcy' = 1"
   ]
  },
  {
   "cell_type": "code",
   "execution_count": 14,
   "id": "47b44fbb",
   "metadata": {},
   "outputs": [
    {
     "data": {
      "text/plain": [
       "0      0\n",
       "1      0\n",
       "2      0\n",
       "3      0\n",
       "4      0\n",
       "      ..\n",
       "245    1\n",
       "246    1\n",
       "247    1\n",
       "248    1\n",
       "249    1\n",
       "Name: class, Length: 250, dtype: int64"
      ]
     },
     "execution_count": 14,
     "metadata": {},
     "output_type": "execute_result"
    }
   ],
   "source": [
    "df['class'] = df['class'].map({'bankruptcy':0 , 'non-bankruptcy':1})\n",
    "df['class']"
   ]
  },
  {
   "cell_type": "code",
   "execution_count": 15,
   "id": "befdac41",
   "metadata": {},
   "outputs": [
    {
     "data": {
      "text/html": [
       "<div>\n",
       "<style scoped>\n",
       "    .dataframe tbody tr th:only-of-type {\n",
       "        vertical-align: middle;\n",
       "    }\n",
       "\n",
       "    .dataframe tbody tr th {\n",
       "        vertical-align: top;\n",
       "    }\n",
       "\n",
       "    .dataframe thead th {\n",
       "        text-align: right;\n",
       "    }\n",
       "</style>\n",
       "<table border=\"1\" class=\"dataframe\">\n",
       "  <thead>\n",
       "    <tr style=\"text-align: right;\">\n",
       "      <th></th>\n",
       "      <th>industrial_risk</th>\n",
       "      <th>management_risk</th>\n",
       "      <th>financial_flexibility</th>\n",
       "      <th>credibility</th>\n",
       "      <th>competitiveness</th>\n",
       "      <th>operating_risk</th>\n",
       "      <th>class</th>\n",
       "    </tr>\n",
       "  </thead>\n",
       "  <tbody>\n",
       "    <tr>\n",
       "      <th>0</th>\n",
       "      <td>0.5</td>\n",
       "      <td>1.0</td>\n",
       "      <td>0.0</td>\n",
       "      <td>0.0</td>\n",
       "      <td>0.0</td>\n",
       "      <td>0.5</td>\n",
       "      <td>0</td>\n",
       "    </tr>\n",
       "    <tr>\n",
       "      <th>1</th>\n",
       "      <td>0.0</td>\n",
       "      <td>1.0</td>\n",
       "      <td>0.0</td>\n",
       "      <td>0.0</td>\n",
       "      <td>0.0</td>\n",
       "      <td>1.0</td>\n",
       "      <td>0</td>\n",
       "    </tr>\n",
       "    <tr>\n",
       "      <th>2</th>\n",
       "      <td>1.0</td>\n",
       "      <td>0.0</td>\n",
       "      <td>0.0</td>\n",
       "      <td>0.0</td>\n",
       "      <td>0.0</td>\n",
       "      <td>1.0</td>\n",
       "      <td>0</td>\n",
       "    </tr>\n",
       "    <tr>\n",
       "      <th>3</th>\n",
       "      <td>0.5</td>\n",
       "      <td>0.0</td>\n",
       "      <td>0.0</td>\n",
       "      <td>0.5</td>\n",
       "      <td>0.0</td>\n",
       "      <td>1.0</td>\n",
       "      <td>0</td>\n",
       "    </tr>\n",
       "    <tr>\n",
       "      <th>4</th>\n",
       "      <td>1.0</td>\n",
       "      <td>1.0</td>\n",
       "      <td>0.0</td>\n",
       "      <td>0.0</td>\n",
       "      <td>0.0</td>\n",
       "      <td>1.0</td>\n",
       "      <td>0</td>\n",
       "    </tr>\n",
       "    <tr>\n",
       "      <th>...</th>\n",
       "      <td>...</td>\n",
       "      <td>...</td>\n",
       "      <td>...</td>\n",
       "      <td>...</td>\n",
       "      <td>...</td>\n",
       "      <td>...</td>\n",
       "      <td>...</td>\n",
       "    </tr>\n",
       "    <tr>\n",
       "      <th>31893</th>\n",
       "      <td>0.0</td>\n",
       "      <td>1.0</td>\n",
       "      <td>1.0</td>\n",
       "      <td>1.0</td>\n",
       "      <td>1.0</td>\n",
       "      <td>1.0</td>\n",
       "      <td>1</td>\n",
       "    </tr>\n",
       "    <tr>\n",
       "      <th>31894</th>\n",
       "      <td>1.0</td>\n",
       "      <td>1.0</td>\n",
       "      <td>0.5</td>\n",
       "      <td>1.0</td>\n",
       "      <td>1.0</td>\n",
       "      <td>0.0</td>\n",
       "      <td>1</td>\n",
       "    </tr>\n",
       "    <tr>\n",
       "      <th>31895</th>\n",
       "      <td>0.0</td>\n",
       "      <td>1.0</td>\n",
       "      <td>1.0</td>\n",
       "      <td>0.5</td>\n",
       "      <td>0.5</td>\n",
       "      <td>0.0</td>\n",
       "      <td>1</td>\n",
       "    </tr>\n",
       "    <tr>\n",
       "      <th>31896</th>\n",
       "      <td>1.0</td>\n",
       "      <td>0.0</td>\n",
       "      <td>0.5</td>\n",
       "      <td>1.0</td>\n",
       "      <td>0.5</td>\n",
       "      <td>0.0</td>\n",
       "      <td>1</td>\n",
       "    </tr>\n",
       "    <tr>\n",
       "      <th>31897</th>\n",
       "      <td>1.0</td>\n",
       "      <td>0.0</td>\n",
       "      <td>0.5</td>\n",
       "      <td>0.5</td>\n",
       "      <td>1.0</td>\n",
       "      <td>1.0</td>\n",
       "      <td>1</td>\n",
       "    </tr>\n",
       "  </tbody>\n",
       "</table>\n",
       "<p>31898 rows × 7 columns</p>\n",
       "</div>"
      ],
      "text/plain": [
       "       industrial_risk  management_risk  financial_flexibility  credibility  \\\n",
       "0                  0.5              1.0                    0.0          0.0   \n",
       "1                  0.0              1.0                    0.0          0.0   \n",
       "2                  1.0              0.0                    0.0          0.0   \n",
       "3                  0.5              0.0                    0.0          0.5   \n",
       "4                  1.0              1.0                    0.0          0.0   \n",
       "...                ...              ...                    ...          ...   \n",
       "31893              0.0              1.0                    1.0          1.0   \n",
       "31894              1.0              1.0                    0.5          1.0   \n",
       "31895              0.0              1.0                    1.0          0.5   \n",
       "31896              1.0              0.0                    0.5          1.0   \n",
       "31897              1.0              0.0                    0.5          0.5   \n",
       "\n",
       "       competitiveness  operating_risk  class  \n",
       "0                  0.0             0.5      0  \n",
       "1                  0.0             1.0      0  \n",
       "2                  0.0             1.0      0  \n",
       "3                  0.0             1.0      0  \n",
       "4                  0.0             1.0      0  \n",
       "...                ...             ...    ...  \n",
       "31893              1.0             1.0      1  \n",
       "31894              1.0             0.0      1  \n",
       "31895              0.5             0.0      1  \n",
       "31896              0.5             0.0      1  \n",
       "31897              1.0             1.0      1  \n",
       "\n",
       "[31898 rows x 7 columns]"
      ]
     },
     "execution_count": 15,
     "metadata": {},
     "output_type": "execute_result"
    }
   ],
   "source": [
    "new_df = df.merge(df['class'],how = 'right')\n",
    "new_df"
   ]
  },
  {
   "cell_type": "code",
   "execution_count": 16,
   "id": "a2f2f574",
   "metadata": {},
   "outputs": [
    {
     "name": "stdout",
     "output_type": "stream",
     "text": [
      "industrial_risk : [0.5 0.  1. ]\n",
      "management_risk : [1.  0.  0.5]\n",
      "financial_flexibility : [0.  0.5 1. ]\n",
      "credibility : [0.  0.5 1. ]\n",
      "competitiveness : [0.  0.5 1. ]\n",
      "operating_risk : [0.5 1.  0. ]\n",
      "class : [0 1]\n"
     ]
    }
   ],
   "source": [
    "for col in df.columns :\n",
    "    print('{} : {}' .format(col ,df[col].unique()))"
   ]
  },
  {
   "cell_type": "markdown",
   "id": "b1dbdb41",
   "metadata": {},
   "source": [
    "## Exploratory Data Analysis"
   ]
  },
  {
   "cell_type": "code",
   "execution_count": 17,
   "id": "7a2664d4",
   "metadata": {},
   "outputs": [
    {
     "data": {
      "text/html": [
       "<div>\n",
       "<style scoped>\n",
       "    .dataframe tbody tr th:only-of-type {\n",
       "        vertical-align: middle;\n",
       "    }\n",
       "\n",
       "    .dataframe tbody tr th {\n",
       "        vertical-align: top;\n",
       "    }\n",
       "\n",
       "    .dataframe thead th {\n",
       "        text-align: right;\n",
       "    }\n",
       "</style>\n",
       "<table border=\"1\" class=\"dataframe\">\n",
       "  <thead>\n",
       "    <tr style=\"text-align: right;\">\n",
       "      <th></th>\n",
       "      <th>industrial_risk</th>\n",
       "      <th>management_risk</th>\n",
       "      <th>financial_flexibility</th>\n",
       "      <th>credibility</th>\n",
       "      <th>competitiveness</th>\n",
       "      <th>operating_risk</th>\n",
       "      <th>class</th>\n",
       "    </tr>\n",
       "  </thead>\n",
       "  <tbody>\n",
       "    <tr>\n",
       "      <th>industrial_risk</th>\n",
       "      <td>1.000000</td>\n",
       "      <td>0.260946</td>\n",
       "      <td>-0.159335</td>\n",
       "      <td>-0.006995</td>\n",
       "      <td>-0.249126</td>\n",
       "      <td>0.171495</td>\n",
       "      <td>-0.221911</td>\n",
       "    </tr>\n",
       "    <tr>\n",
       "      <th>management_risk</th>\n",
       "      <td>0.260946</td>\n",
       "      <td>1.000000</td>\n",
       "      <td>-0.233758</td>\n",
       "      <td>-0.291439</td>\n",
       "      <td>-0.288281</td>\n",
       "      <td>0.233927</td>\n",
       "      <td>-0.356826</td>\n",
       "    </tr>\n",
       "    <tr>\n",
       "      <th>financial_flexibility</th>\n",
       "      <td>-0.159335</td>\n",
       "      <td>-0.233758</td>\n",
       "      <td>1.000000</td>\n",
       "      <td>0.488593</td>\n",
       "      <td>0.656315</td>\n",
       "      <td>-0.091443</td>\n",
       "      <td>0.726181</td>\n",
       "    </tr>\n",
       "    <tr>\n",
       "      <th>credibility</th>\n",
       "      <td>-0.006995</td>\n",
       "      <td>-0.291439</td>\n",
       "      <td>0.488593</td>\n",
       "      <td>1.000000</td>\n",
       "      <td>0.653020</td>\n",
       "      <td>-0.279359</td>\n",
       "      <td>0.741044</td>\n",
       "    </tr>\n",
       "    <tr>\n",
       "      <th>competitiveness</th>\n",
       "      <td>-0.249126</td>\n",
       "      <td>-0.288281</td>\n",
       "      <td>0.656315</td>\n",
       "      <td>0.653020</td>\n",
       "      <td>1.000000</td>\n",
       "      <td>-0.190921</td>\n",
       "      <td>0.885921</td>\n",
       "    </tr>\n",
       "    <tr>\n",
       "      <th>operating_risk</th>\n",
       "      <td>0.171495</td>\n",
       "      <td>0.233927</td>\n",
       "      <td>-0.091443</td>\n",
       "      <td>-0.279359</td>\n",
       "      <td>-0.190921</td>\n",
       "      <td>1.000000</td>\n",
       "      <td>-0.269834</td>\n",
       "    </tr>\n",
       "    <tr>\n",
       "      <th>class</th>\n",
       "      <td>-0.221911</td>\n",
       "      <td>-0.356826</td>\n",
       "      <td>0.726181</td>\n",
       "      <td>0.741044</td>\n",
       "      <td>0.885921</td>\n",
       "      <td>-0.269834</td>\n",
       "      <td>1.000000</td>\n",
       "    </tr>\n",
       "  </tbody>\n",
       "</table>\n",
       "</div>"
      ],
      "text/plain": [
       "                       industrial_risk  management_risk  \\\n",
       "industrial_risk               1.000000         0.260946   \n",
       "management_risk               0.260946         1.000000   \n",
       "financial_flexibility        -0.159335        -0.233758   \n",
       "credibility                  -0.006995        -0.291439   \n",
       "competitiveness              -0.249126        -0.288281   \n",
       "operating_risk                0.171495         0.233927   \n",
       "class                        -0.221911        -0.356826   \n",
       "\n",
       "                       financial_flexibility  credibility  competitiveness  \\\n",
       "industrial_risk                    -0.159335    -0.006995        -0.249126   \n",
       "management_risk                    -0.233758    -0.291439        -0.288281   \n",
       "financial_flexibility               1.000000     0.488593         0.656315   \n",
       "credibility                         0.488593     1.000000         0.653020   \n",
       "competitiveness                     0.656315     0.653020         1.000000   \n",
       "operating_risk                     -0.091443    -0.279359        -0.190921   \n",
       "class                               0.726181     0.741044         0.885921   \n",
       "\n",
       "                       operating_risk     class  \n",
       "industrial_risk              0.171495 -0.221911  \n",
       "management_risk              0.233927 -0.356826  \n",
       "financial_flexibility       -0.091443  0.726181  \n",
       "credibility                 -0.279359  0.741044  \n",
       "competitiveness             -0.190921  0.885921  \n",
       "operating_risk               1.000000 -0.269834  \n",
       "class                       -0.269834  1.000000  "
      ]
     },
     "execution_count": 17,
     "metadata": {},
     "output_type": "execute_result"
    }
   ],
   "source": [
    "new_df.corr()"
   ]
  },
  {
   "cell_type": "code",
   "execution_count": 18,
   "id": "45287614",
   "metadata": {},
   "outputs": [
    {
     "data": {
      "text/plain": [
       "<AxesSubplot:>"
      ]
     },
     "execution_count": 18,
     "metadata": {},
     "output_type": "execute_result"
    },
    {
     "data": {
      "image/png": "[encoded data removed]",
      "text/plain": [
       "<Figure size 432x288 with 2 Axes>"
      ]
     },
     "metadata": {
      "needs_background": "light"
     },
     "output_type": "display_data"
    }
   ],
   "source": [
    "sns.heatmap(new_df.corr() , annot = True , cmap = 'rainbow_r')"
   ]
  },
  {
   "cell_type": "code",
   "execution_count": 19,
   "id": "3a066fd7",
   "metadata": {},
   "outputs": [
    {
     "data": {
      "text/plain": [
       "<AxesSubplot:xlabel='class', ylabel='count'>"
      ]
     },
     "execution_count": 19,
     "metadata": {},
     "output_type": "execute_result"
    },
    {
     "data": {
      "image/png": "[encoded data removed]",
      "text/plain": [
       "<Figure size 432x288 with 1 Axes>"
      ]
     },
     "metadata": {
      "needs_background": "light"
     },
     "output_type": "display_data"
    }
   ],
   "source": [
    "sns.countplot(x = 'class' , data = new_df  , palette = 'cool')"
   ]
  },
  {
   "cell_type": "code",
   "execution_count": 20,
   "id": "dffa2331",
   "metadata": {},
   "outputs": [
    {
     "data": {
      "text/plain": [
       "<AxesSubplot:xlabel='financial_flexibility', ylabel='count'>"
      ]
     },
     "execution_count": 20,
     "metadata": {},
     "output_type": "execute_result"
    },
    {
     "data": {
      "image/png": "[encoded data removed]",
      "text/plain": [
       "<Figure size 432x288 with 1 Axes>"
      ]
     },
     "metadata": {
      "needs_background": "light"
     },
     "output_type": "display_data"
    }
   ],
   "source": [
    "sns.countplot(x = 'financial_flexibility' , data = new_df  , palette = 'rainbow')"
   ]
  },
  {
   "cell_type": "code",
   "execution_count": 21,
   "id": "e5784274",
   "metadata": {},
   "outputs": [
    {
     "data": {
      "text/plain": [
       "<AxesSubplot:xlabel='class'>"
      ]
     },
     "execution_count": 21,
     "metadata": {},
     "output_type": "execute_result"
    },
    {
     "data": {
      "image/png": "[encoded data removed]",
      "text/plain": [
       "<Figure size 432x288 with 1 Axes>"
      ]
     },
     "metadata": {
      "needs_background": "light"
     },
     "output_type": "display_data"
    }
   ],
   "source": [
    "# for visualization \n",
    "pd.crosstab(df['class'] , df['industrial_risk']).plot(kind = 'bar')"
   ]
  },
  {
   "cell_type": "code",
   "execution_count": 22,
   "id": "bb441aab",
   "metadata": {},
   "outputs": [
    {
     "data": {
      "text/plain": [
       "<AxesSubplot:xlabel='class'>"
      ]
     },
     "execution_count": 22,
     "metadata": {},
     "output_type": "execute_result"
    },
    {
     "data": {
      "image/png": "[encoded data removed]",
      "text/plain": [
       "<Figure size 432x288 with 1 Axes>"
      ]
     },
     "metadata": {
      "needs_background": "light"
     },
     "output_type": "display_data"
    }
   ],
   "source": [
    "pd.crosstab(df['class'] , df['financial_flexibility']).plot(kind = 'bar')"
   ]
  },
  {
   "cell_type": "markdown",
   "id": "a8b86c09",
   "metadata": {},
   "source": [
    "## Data Visualization"
   ]
  },
  {
   "cell_type": "code",
   "execution_count": 23,
   "id": "62aaced3",
   "metadata": {},
   "outputs": [
    {
     "data": {
      "text/plain": [
       "<AxesSubplot:xlabel='industrial_risk'>"
      ]
     },
     "execution_count": 23,
     "metadata": {},
     "output_type": "execute_result"
    },
    {
     "data": {
      "image/png": "[encoded data removed]",
      "text/plain": [
       "<Figure size 432x288 with 1 Axes>"
      ]
     },
     "metadata": {
      "needs_background": "light"
     },
     "output_type": "display_data"
    }
   ],
   "source": [
    "pd.crosstab( df['industrial_risk'] , df['class']).plot(kind = 'bar')"
   ]
  },
  {
   "cell_type": "code",
   "execution_count": 24,
   "id": "fbe32289",
   "metadata": {},
   "outputs": [
    {
     "data": {
      "text/plain": [
       "<AxesSubplot:xlabel='financial_flexibility'>"
      ]
     },
     "execution_count": 24,
     "metadata": {},
     "output_type": "execute_result"
    },
    {
     "data": {
      "image/png": "[encoded data removed]",
      "text/plain": [
       "<Figure size 432x288 with 1 Axes>"
      ]
     },
     "metadata": {
      "needs_background": "light"
     },
     "output_type": "display_data"
    }
   ],
   "source": [
    "pd.crosstab( df['financial_flexibility'] , df['class']).plot(kind = 'bar')"
   ]
  },
  {
   "cell_type": "code",
   "execution_count": 25,
   "id": "87f5c0a2",
   "metadata": {},
   "outputs": [],
   "source": [
    "def make_autopct(values):\n",
    "    def my_autopct(pct):\n",
    "        total = sum(values)\n",
    "        val = int(round(pct*total/100.0))\n",
    "        return '{p:.2f}%  ({v:d})'.format(p = pct,v = val)\n",
    "    return my_autopct"
   ]
  },
  {
   "cell_type": "code",
   "execution_count": 26,
   "id": "ada3c9c5",
   "metadata": {},
   "outputs": [
    {
     "data": {
      "text/plain": [
       "<AxesSubplot:xlabel='class', ylabel='count'>"
      ]
     },
     "execution_count": 26,
     "metadata": {},
     "output_type": "execute_result"
    },
    {
     "data": {
      "image/png": "[encoded data removed]",
      "text/plain": [
       "<Figure size 432x288 with 1 Axes>"
      ]
     },
     "metadata": {
      "needs_background": "light"
     },
     "output_type": "display_data"
    }
   ],
   "source": [
    "#  bar plot of class \n",
    "sns.countplot(df['class'])"
   ]
  },
  {
   "cell_type": "code",
   "execution_count": 27,
   "id": "a7f8f499",
   "metadata": {},
   "outputs": [
    {
     "data": {
      "text/plain": [
       "1    143\n",
       "0    107\n",
       "Name: class, dtype: int64"
      ]
     },
     "execution_count": 27,
     "metadata": {},
     "output_type": "execute_result"
    }
   ],
   "source": [
    "class_count = df['class'].value_counts()\n",
    "class_count"
   ]
  },
  {
   "cell_type": "markdown",
   "id": "1bee2e36",
   "metadata": {},
   "source": [
    "1 is for non-bankruptcy and 0 is for bankruptcy"
   ]
  },
  {
   "cell_type": "code",
   "execution_count": 28,
   "id": "9e31749b",
   "metadata": {},
   "outputs": [
    {
     "data": {
      "text/plain": [
       "<function __main__.make_autopct.<locals>.my_autopct(pct)>"
      ]
     },
     "execution_count": 28,
     "metadata": {},
     "output_type": "execute_result"
    }
   ],
   "source": [
    "class_per = make_autopct(list(class_count.values))\n",
    "class_per"
   ]
  },
  {
   "cell_type": "code",
   "execution_count": 29,
   "id": "e1f75364",
   "metadata": {},
   "outputs": [
    {
     "data": {
      "text/plain": [
       "([<matplotlib.patches.Wedge at 0x28a1f7bf0d0>,\n",
       "  <matplotlib.patches.Wedge at 0x28a1f7bf7f0>],\n",
       " [Text(-0.24669792697222737, 1.0719795393698546, 'non-bankruptcy'),\n",
       "  Text(0.24669802733819424, -1.0719795162723231, 'bankruptcy')],\n",
       " [Text(-0.1345625056212149, 0.584716112383557, '57.20%  (143)'),\n",
       "  Text(0.13456256036628775, -0.5847160997849035, '42.80%  (107)')])"
      ]
     },
     "execution_count": 29,
     "metadata": {},
     "output_type": "execute_result"
    },
    {
     "data": {
      "image/png": "[encoded data removed]",
      "text/plain": [
       "<Figure size 432x288 with 1 Axes>"
      ]
     },
     "metadata": {},
     "output_type": "display_data"
    }
   ],
   "source": [
    "# Pie-chart for class\n",
    "\n",
    "labels_list = ['non-bankruptcy','bankruptcy'] \n",
    "plt.pie(class_count , labels = labels_list , autopct = class_per)"
   ]
  },
  {
   "cell_type": "code",
   "execution_count": 30,
   "id": "1eba7ea6",
   "metadata": {},
   "outputs": [
    {
     "data": {
      "text/plain": [
       "<AxesSubplot:xlabel='industrial_risk', ylabel='count'>"
      ]
     },
     "execution_count": 30,
     "metadata": {},
     "output_type": "execute_result"
    },
    {
     "data": {
      "image/png": "[encoded data removed]",
      "text/plain": [
       "<Figure size 432x288 with 1 Axes>"
      ]
     },
     "metadata": {
      "needs_background": "light"
     },
     "output_type": "display_data"
    }
   ],
   "source": [
    "# Barplot for industrial risk\n",
    "\n",
    "sns.countplot(df['industrial_risk'])"
   ]
  },
  {
   "cell_type": "code",
   "execution_count": 31,
   "id": "37adaf66",
   "metadata": {},
   "outputs": [
    {
     "data": {
      "text/plain": [
       "1.0    89\n",
       "0.5    81\n",
       "0.0    80\n",
       "Name: industrial_risk, dtype: int64"
      ]
     },
     "execution_count": 31,
     "metadata": {},
     "output_type": "execute_result"
    }
   ],
   "source": [
    "industrial_risk_count = df['industrial_risk'].value_counts()\n",
    "industrial_risk_count"
   ]
  },
  {
   "cell_type": "code",
   "execution_count": 32,
   "id": "c29123f0",
   "metadata": {},
   "outputs": [
    {
     "data": {
      "text/plain": [
       "<function __main__.make_autopct.<locals>.my_autopct(pct)>"
      ]
     },
     "execution_count": 32,
     "metadata": {},
     "output_type": "execute_result"
    }
   ],
   "source": [
    "industrial_risk_per = make_autopct(list(industrial_risk_count.values))\n",
    "industrial_risk_per"
   ]
  },
  {
   "cell_type": "code",
   "execution_count": 33,
   "id": "1085511d",
   "metadata": {},
   "outputs": [
    {
     "data": {
      "text/plain": [
       "([<matplotlib.patches.Wedge at 0x28a1f85cd00>,\n",
       "  <matplotlib.patches.Wedge at 0x28a1f86b460>,\n",
       "  <matplotlib.patches.Wedge at 0x28a1f86bb80>],\n",
       " [Text(0.480827324049145, 0.9893457860868153, 'High_Risk'),\n",
       "  Text(-1.0929724363648976, -0.12414206920532618, 'Medium_Risk'),\n",
       "  Text(0.5894094953465407, -0.9287607048079373, 'Low_Risk')],\n",
       " [Text(0.26226944948135184, 0.5396431560473538, '35.60%  (89)'),\n",
       "  Text(-0.5961667834717623, -0.06771385593017791, '32.40%  (81)'),\n",
       "  Text(0.32149608837084037, -0.5065967480770566, '32.00%  (80)')])"
      ]
     },
     "execution_count": 33,
     "metadata": {},
     "output_type": "execute_result"
    },
    {
     "data": {
      "image/png": "[encoded data removed]",
      "text/plain": [
       "<Figure size 432x288 with 1 Axes>"
      ]
     },
     "metadata": {},
     "output_type": "display_data"
    }
   ],
   "source": [
    "# Pie-chart for industrial risk\n",
    "\n",
    "labels_list = ['High_Risk','Medium_Risk','Low_Risk']\n",
    "plt.pie(industrial_risk_count , labels = labels_list , autopct = industrial_risk_per)"
   ]
  },
  {
   "cell_type": "code",
   "execution_count": 34,
   "id": "1c328b25",
   "metadata": {},
   "outputs": [
    {
     "data": {
      "text/plain": [
       "<AxesSubplot:xlabel='management_risk', ylabel='count'>"
      ]
     },
     "execution_count": 34,
     "metadata": {},
     "output_type": "execute_result"
    },
    {
     "data": {
      "image/png": "[encoded data removed]",
      "text/plain": [
       "<Figure size 432x288 with 1 Axes>"
      ]
     },
     "metadata": {
      "needs_background": "light"
     },
     "output_type": "display_data"
    }
   ],
   "source": [
    "# bar plot of management risk\n",
    "\n",
    "sns.countplot(df['management_risk'])"
   ]
  },
  {
   "cell_type": "code",
   "execution_count": 35,
   "id": "0b94c1b2",
   "metadata": {},
   "outputs": [
    {
     "data": {
      "text/plain": [
       "1.0    119\n",
       "0.5     69\n",
       "0.0     62\n",
       "Name: management_risk, dtype: int64"
      ]
     },
     "execution_count": 35,
     "metadata": {},
     "output_type": "execute_result"
    }
   ],
   "source": [
    "management_risk_count = df['management_risk'].value_counts()\n",
    "management_risk_count"
   ]
  },
  {
   "cell_type": "code",
   "execution_count": 36,
   "id": "e616dbab",
   "metadata": {},
   "outputs": [
    {
     "data": {
      "text/plain": [
       "<function __main__.make_autopct.<locals>.my_autopct(pct)>"
      ]
     },
     "execution_count": 36,
     "metadata": {},
     "output_type": "execute_result"
    }
   ],
   "source": [
    "management_risk_per = make_autopct(list(management_risk_count.values))\n",
    "management_risk_per"
   ]
  },
  {
   "cell_type": "code",
   "execution_count": 37,
   "id": "2350361a",
   "metadata": {},
   "outputs": [
    {
     "data": {
      "text/plain": [
       "([<matplotlib.patches.Wedge at 0x28a1f90db20>,\n",
       "  <matplotlib.patches.Wedge at 0x28a1f91d280>,\n",
       "  <matplotlib.patches.Wedge at 0x28a1f91d9a0>],\n",
       " [Text(0.08285944828829286, 1.096874793141569, 'High_Risk'),\n",
       "  Text(-0.8296764847285306, -0.7222443704789318, 'Medium_Risk'),\n",
       "  Text(0.7826892547719247, -0.7729149568125651, 'Low_Risk')],\n",
       " [Text(0.045196062702705195, 0.598295341713583, '47.60%  (119)'),\n",
       "  Text(-0.45255080985192575, -0.39395147480669, '27.60%  (69)'),\n",
       "  Text(0.42692141169377706, -0.4215899764432173, '24.80%  (62)')])"
      ]
     },
     "execution_count": 37,
     "metadata": {},
     "output_type": "execute_result"
    },
    {
     "data": {
      "image/png": "[encoded data removed]",
      "text/plain": [
       "<Figure size 432x288 with 1 Axes>"
      ]
     },
     "metadata": {},
     "output_type": "display_data"
    }
   ],
   "source": [
    "# Pie-chart for management risk\n",
    "\n",
    "labels_list = ['High_Risk','Medium_Risk','Low_Risk']\n",
    "plt.pie(management_risk_count , labels = labels_list , autopct = management_risk_per)"
   ]
  },
  {
   "cell_type": "code",
   "execution_count": 38,
   "id": "6e45e40b",
   "metadata": {},
   "outputs": [
    {
     "data": {
      "text/plain": [
       "<AxesSubplot:xlabel='financial_flexibility', ylabel='count'>"
      ]
     },
     "execution_count": 38,
     "metadata": {},
     "output_type": "execute_result"
    },
    {
     "data": {
      "image/png": "[encoded data removed]",
      "text/plain": [
       "<Figure size 432x288 with 1 Axes>"
      ]
     },
     "metadata": {
      "needs_background": "light"
     },
     "output_type": "display_data"
    }
   ],
   "source": [
    "#  bar plot of financial_flexibility\n",
    "\n",
    "sns.countplot(df['financial_flexibility'])"
   ]
  },
  {
   "cell_type": "code",
   "execution_count": 39,
   "id": "6858791f",
   "metadata": {},
   "outputs": [
    {
     "data": {
      "text/plain": [
       "0.0    119\n",
       "0.5     74\n",
       "1.0     57\n",
       "Name: financial_flexibility, dtype: int64"
      ]
     },
     "execution_count": 39,
     "metadata": {},
     "output_type": "execute_result"
    }
   ],
   "source": [
    "financial_flexibility_count = df['financial_flexibility'].value_counts()\n",
    "financial_flexibility_count"
   ]
  },
  {
   "cell_type": "code",
   "execution_count": 40,
   "id": "0b40e45a",
   "metadata": {},
   "outputs": [
    {
     "data": {
      "text/plain": [
       "<function __main__.make_autopct.<locals>.my_autopct(pct)>"
      ]
     },
     "execution_count": 40,
     "metadata": {},
     "output_type": "execute_result"
    }
   ],
   "source": [
    "financial_flexibility_per = make_autopct(list(financial_flexibility_count.values))\n",
    "financial_flexibility_per"
   ]
  },
  {
   "cell_type": "code",
   "execution_count": 41,
   "id": "d898be0f",
   "metadata": {},
   "outputs": [
    {
     "data": {
      "text/plain": [
       "([<matplotlib.patches.Wedge at 0x28a1f9c48e0>,\n",
       "  <matplotlib.patches.Wedge at 0x28a1f9d2040>,\n",
       "  <matplotlib.patches.Wedge at 0x28a1f9d2760>],\n",
       " [Text(0.08285944828829286, 1.096874793141569, 'High_flexibility'),\n",
       "  Text(-0.7826891824064006, -0.7729150300932182, 'Medium_flexibility'),\n",
       "  Text(0.8296765861606192, -0.7222442539590475, 'Low_flexibility')],\n",
       " [Text(0.045196062702705195, 0.598295341713583, '47.60%  (119)'),\n",
       "  Text(-0.42692137222167303, -0.42159001641448257, '29.60%  (74)'),\n",
       "  Text(0.4525508651785195, -0.39395141125038946, '22.80%  (57)')])"
      ]
     },
     "execution_count": 41,
     "metadata": {},
     "output_type": "execute_result"
    },
    {
     "data": {
      "image/png": "[encoded data removed]",
      "text/plain": [
       "<Figure size 432x288 with 1 Axes>"
      ]
     },
     "metadata": {},
     "output_type": "display_data"
    }
   ],
   "source": [
    "# Pie-chart for financial flexibility\n",
    "\n",
    "labels_list = ['High_flexibility','Medium_flexibility','Low_flexibility']\n",
    "plt.pie(financial_flexibility_count , labels = labels_list , autopct = financial_flexibility_per)"
   ]
  },
  {
   "cell_type": "code",
   "execution_count": 42,
   "id": "3f1f35f3",
   "metadata": {},
   "outputs": [
    {
     "data": {
      "text/plain": [
       "<AxesSubplot:xlabel='credibility', ylabel='count'>"
      ]
     },
     "execution_count": 42,
     "metadata": {},
     "output_type": "execute_result"
    },
    {
     "data": {
      "image/png": "[encoded data removed]",
      "text/plain": [
       "<Figure size 432x288 with 1 Axes>"
      ]
     },
     "metadata": {
      "needs_background": "light"
     },
     "output_type": "display_data"
    }
   ],
   "source": [
    "# bar plot of credibility \n",
    "\n",
    "sns.countplot(df['credibility'])"
   ]
  },
  {
   "cell_type": "code",
   "execution_count": 43,
   "id": "d0931a4b",
   "metadata": {},
   "outputs": [
    {
     "data": {
      "text/plain": [
       "0.0    94\n",
       "1.0    79\n",
       "0.5    77\n",
       "Name: credibility, dtype: int64"
      ]
     },
     "execution_count": 43,
     "metadata": {},
     "output_type": "execute_result"
    }
   ],
   "source": [
    "credibility_count = df['credibility'].value_counts()\n",
    "credibility_count"
   ]
  },
  {
   "cell_type": "code",
   "execution_count": 44,
   "id": "47044a54",
   "metadata": {},
   "outputs": [
    {
     "data": {
      "text/plain": [
       "<function __main__.make_autopct.<locals>.my_autopct(pct)>"
      ]
     },
     "execution_count": 44,
     "metadata": {},
     "output_type": "execute_result"
    }
   ],
   "source": [
    "credibility_per = make_autopct(list(credibility_count.values))\n",
    "credibility_per"
   ]
  },
  {
   "cell_type": "code",
   "execution_count": 45,
   "id": "9072a20d",
   "metadata": {},
   "outputs": [
    {
     "data": {
      "text/plain": [
       "([<matplotlib.patches.Wedge at 0x28a1fa6ab50>,\n",
       "  <matplotlib.patches.Wedge at 0x28a1fa7b2b0>,\n",
       "  <matplotlib.patches.Wedge at 0x28a1fa7b9d0>],\n",
       " [Text(0.41775704623199333, 1.0175849106209862, 'High_credibility'),\n",
       "  Text(-1.0749949441347812, -0.23320778307050272, 'Medium_credibility'),\n",
       "  Text(0.6239958487890805, -0.9058858541195989, 'Low_credibility')],\n",
       " [Text(0.22786747976290542, 0.5550463148841742, '37.60%  (94)'),\n",
       "  Text(-0.5863608786189716, -0.1272042453111833, '31.60%  (79)'),\n",
       "  Text(0.34036137206677114, -0.4941195567925084, '30.80%  (77)')])"
      ]
     },
     "execution_count": 45,
     "metadata": {},
     "output_type": "execute_result"
    },
    {
     "data": {
      "image/png": "[encoded data removed]",
      "text/plain": [
       "<Figure size 432x288 with 1 Axes>"
      ]
     },
     "metadata": {},
     "output_type": "display_data"
    }
   ],
   "source": [
    "# Pie-chart for credibility\n",
    "\n",
    "labels_list = ['High_credibility','Medium_credibility','Low_credibility'] \n",
    "plt.pie(credibility_count , labels = labels_list , autopct = credibility_per)"
   ]
  },
  {
   "cell_type": "code",
   "execution_count": 46,
   "id": "fee38208",
   "metadata": {},
   "outputs": [
    {
     "data": {
      "text/plain": [
       "<AxesSubplot:xlabel='competitiveness', ylabel='count'>"
      ]
     },
     "execution_count": 46,
     "metadata": {},
     "output_type": "execute_result"
    },
    {
     "data": {
      "image/png": "[encoded data removed]",
      "text/plain": [
       "<Figure size 432x288 with 1 Axes>"
      ]
     },
     "metadata": {
      "needs_background": "light"
     },
     "output_type": "display_data"
    }
   ],
   "source": [
    "#  bar plot of competitiveness\n",
    "\n",
    "sns.countplot(df['competitiveness'])"
   ]
  },
  {
   "cell_type": "code",
   "execution_count": 47,
   "id": "84e39ba5",
   "metadata": {},
   "outputs": [
    {
     "data": {
      "text/plain": [
       "0.0    103\n",
       "1.0     91\n",
       "0.5     56\n",
       "Name: competitiveness, dtype: int64"
      ]
     },
     "execution_count": 47,
     "metadata": {},
     "output_type": "execute_result"
    }
   ],
   "source": [
    "competitiveness_count = df['competitiveness'].value_counts()\n",
    "competitiveness_count"
   ]
  },
  {
   "cell_type": "code",
   "execution_count": 48,
   "id": "dd6bd87d",
   "metadata": {},
   "outputs": [
    {
     "data": {
      "text/plain": [
       "<function __main__.make_autopct.<locals>.my_autopct(pct)>"
      ]
     },
     "execution_count": 48,
     "metadata": {},
     "output_type": "execute_result"
    }
   ],
   "source": [
    "competitiveness_per = make_autopct(list(competitiveness_count.values))\n",
    "competitiveness_per"
   ]
  },
  {
   "cell_type": "code",
   "execution_count": 49,
   "id": "bb177e46",
   "metadata": {},
   "outputs": [
    {
     "data": {
      "text/plain": [
       "([<matplotlib.patches.Wedge at 0x28a1fb22340>,\n",
       "  <matplotlib.patches.Wedge at 0x28a1fb22a60>,\n",
       "  <matplotlib.patches.Wedge at 0x28a1fb2f1c0>],\n",
       " [Text(0.30024712748379895, 1.0582304391944732, 'High_competitive'),\n",
       "  Text(-0.9136555015034916, -0.6125631596598047, 'Medium_competetive'),\n",
       "  Text(0.8386867466521296, -0.7117615759438458, 'Low_competative')],\n",
       " [Text(0.1637711604457085, 0.5772166031969853, '41.20%  (103)'),\n",
       "  Text(-0.49835754627463175, -0.3341253598144389, '36.40%  (91)'),\n",
       "  Text(0.4574654981738888, -0.3882335868784613, '22.40%  (56)')])"
      ]
     },
     "execution_count": 49,
     "metadata": {},
     "output_type": "execute_result"
    },
    {
     "data": {
      "image/png": "[encoded data removed]",
      "text/plain": [
       "<Figure size 432x288 with 1 Axes>"
      ]
     },
     "metadata": {},
     "output_type": "display_data"
    }
   ],
   "source": [
    "# Pie-chart for competitivenss\n",
    "\n",
    "labels_list = ['High_competitive','Medium_competetive','Low_competative'] \n",
    "plt.pie(competitiveness_count , labels = labels_list , autopct = competitiveness_per)"
   ]
  },
  {
   "cell_type": "code",
   "execution_count": 50,
   "id": "f9594c01",
   "metadata": {},
   "outputs": [
    {
     "data": {
      "text/plain": [
       "<AxesSubplot:xlabel='operating_risk', ylabel='count'>"
      ]
     },
     "execution_count": 50,
     "metadata": {},
     "output_type": "execute_result"
    },
    {
     "data": {
      "image/png": "[encoded data removed]",
      "text/plain": [
       "<Figure size 432x288 with 1 Axes>"
      ]
     },
     "metadata": {
      "needs_background": "light"
     },
     "output_type": "display_data"
    }
   ],
   "source": [
    "#  bar plot of operating risk\n",
    "\n",
    "sns.countplot(df['operating_risk'])"
   ]
  },
  {
   "cell_type": "code",
   "execution_count": 51,
   "id": "c6d7e9b0",
   "metadata": {},
   "outputs": [
    {
     "data": {
      "text/plain": [
       "1.0    114\n",
       "0.0     79\n",
       "0.5     57\n",
       "Name: operating_risk, dtype: int64"
      ]
     },
     "execution_count": 51,
     "metadata": {},
     "output_type": "execute_result"
    }
   ],
   "source": [
    "operating_risk_count = df['operating_risk'].value_counts()\n",
    "operating_risk_count"
   ]
  },
  {
   "cell_type": "code",
   "execution_count": 52,
   "id": "6ab916c9",
   "metadata": {},
   "outputs": [
    {
     "data": {
      "text/plain": [
       "<function __main__.make_autopct.<locals>.my_autopct(pct)>"
      ]
     },
     "execution_count": 52,
     "metadata": {},
     "output_type": "execute_result"
    }
   ],
   "source": [
    "operating_risk_per = make_autopct(list(operating_risk_count.values))\n",
    "operating_risk_per"
   ]
  },
  {
   "cell_type": "code",
   "execution_count": 53,
   "id": "3d1f7843",
   "metadata": {},
   "outputs": [
    {
     "data": {
      "text/plain": [
       "([<matplotlib.patches.Wedge at 0x28a1fbcab20>,\n",
       "  <matplotlib.patches.Wedge at 0x28a1fbd8280>,\n",
       "  <matplotlib.patches.Wedge at 0x28a1fbd89a0>],\n",
       " [Text(0.15156931893704537, 1.0895075683798439, 'High_risk'),\n",
       "  Text(-0.8296764847285306, -0.7222443704789318, 'Medium_risk'),\n",
       "  Text(0.8296765861606192, -0.7222442539590475, 'Low_risk')],\n",
       " [Text(0.08267417396566111, 0.5942768554799148, '45.60%  (114)'),\n",
       "  Text(-0.45255080985192575, -0.39395147480669, '31.60%  (79)'),\n",
       "  Text(0.4525508651785195, -0.39395141125038946, '22.80%  (57)')])"
      ]
     },
     "execution_count": 53,
     "metadata": {},
     "output_type": "execute_result"
    },
    {
     "data": {
      "image/png": "[encoded data removed]",
      "text/plain": [
       "<Figure size 432x288 with 1 Axes>"
      ]
     },
     "metadata": {},
     "output_type": "display_data"
    }
   ],
   "source": [
    "# Pie-chart for operating risk\n",
    "\n",
    "labels_list = ['High_risk','Medium_risk','Low_risk'] \n",
    "plt.pie(operating_risk_count , labels = labels_list , autopct = operating_risk_per)"
   ]
  },
  {
   "cell_type": "markdown",
   "id": "d5246fdb",
   "metadata": {},
   "source": [
    "## Model Building"
   ]
  },
  {
   "cell_type": "code",
   "execution_count": 54,
   "id": "96c72687",
   "metadata": {},
   "outputs": [],
   "source": [
    "## split the dataset into independent and dependent features.\n",
    "x = df.iloc[ :, :-1]\n",
    "y = df.iloc[: , -1]"
   ]
  },
  {
   "cell_type": "code",
   "execution_count": 55,
   "id": "f263ecda",
   "metadata": {},
   "outputs": [
    {
     "data": {
      "text/html": [
       "<div>\n",
       "<style scoped>\n",
       "    .dataframe tbody tr th:only-of-type {\n",
       "        vertical-align: middle;\n",
       "    }\n",
       "\n",
       "    .dataframe tbody tr th {\n",
       "        vertical-align: top;\n",
       "    }\n",
       "\n",
       "    .dataframe thead th {\n",
       "        text-align: right;\n",
       "    }\n",
       "</style>\n",
       "<table border=\"1\" class=\"dataframe\">\n",
       "  <thead>\n",
       "    <tr style=\"text-align: right;\">\n",
       "      <th></th>\n",
       "      <th>industrial_risk</th>\n",
       "      <th>management_risk</th>\n",
       "      <th>financial_flexibility</th>\n",
       "      <th>credibility</th>\n",
       "      <th>competitiveness</th>\n",
       "      <th>operating_risk</th>\n",
       "    </tr>\n",
       "  </thead>\n",
       "  <tbody>\n",
       "    <tr>\n",
       "      <th>0</th>\n",
       "      <td>0.5</td>\n",
       "      <td>1.0</td>\n",
       "      <td>0.0</td>\n",
       "      <td>0.0</td>\n",
       "      <td>0.0</td>\n",
       "      <td>0.5</td>\n",
       "    </tr>\n",
       "    <tr>\n",
       "      <th>1</th>\n",
       "      <td>0.0</td>\n",
       "      <td>1.0</td>\n",
       "      <td>0.0</td>\n",
       "      <td>0.0</td>\n",
       "      <td>0.0</td>\n",
       "      <td>1.0</td>\n",
       "    </tr>\n",
       "    <tr>\n",
       "      <th>2</th>\n",
       "      <td>1.0</td>\n",
       "      <td>0.0</td>\n",
       "      <td>0.0</td>\n",
       "      <td>0.0</td>\n",
       "      <td>0.0</td>\n",
       "      <td>1.0</td>\n",
       "    </tr>\n",
       "    <tr>\n",
       "      <th>3</th>\n",
       "      <td>0.5</td>\n",
       "      <td>0.0</td>\n",
       "      <td>0.0</td>\n",
       "      <td>0.5</td>\n",
       "      <td>0.0</td>\n",
       "      <td>1.0</td>\n",
       "    </tr>\n",
       "    <tr>\n",
       "      <th>4</th>\n",
       "      <td>1.0</td>\n",
       "      <td>1.0</td>\n",
       "      <td>0.0</td>\n",
       "      <td>0.0</td>\n",
       "      <td>0.0</td>\n",
       "      <td>1.0</td>\n",
       "    </tr>\n",
       "    <tr>\n",
       "      <th>...</th>\n",
       "      <td>...</td>\n",
       "      <td>...</td>\n",
       "      <td>...</td>\n",
       "      <td>...</td>\n",
       "      <td>...</td>\n",
       "      <td>...</td>\n",
       "    </tr>\n",
       "    <tr>\n",
       "      <th>245</th>\n",
       "      <td>0.0</td>\n",
       "      <td>1.0</td>\n",
       "      <td>1.0</td>\n",
       "      <td>1.0</td>\n",
       "      <td>1.0</td>\n",
       "      <td>1.0</td>\n",
       "    </tr>\n",
       "    <tr>\n",
       "      <th>246</th>\n",
       "      <td>1.0</td>\n",
       "      <td>1.0</td>\n",
       "      <td>0.5</td>\n",
       "      <td>1.0</td>\n",
       "      <td>1.0</td>\n",
       "      <td>0.0</td>\n",
       "    </tr>\n",
       "    <tr>\n",
       "      <th>247</th>\n",
       "      <td>0.0</td>\n",
       "      <td>1.0</td>\n",
       "      <td>1.0</td>\n",
       "      <td>0.5</td>\n",
       "      <td>0.5</td>\n",
       "      <td>0.0</td>\n",
       "    </tr>\n",
       "    <tr>\n",
       "      <th>248</th>\n",
       "      <td>1.0</td>\n",
       "      <td>0.0</td>\n",
       "      <td>0.5</td>\n",
       "      <td>1.0</td>\n",
       "      <td>0.5</td>\n",
       "      <td>0.0</td>\n",
       "    </tr>\n",
       "    <tr>\n",
       "      <th>249</th>\n",
       "      <td>1.0</td>\n",
       "      <td>0.0</td>\n",
       "      <td>0.5</td>\n",
       "      <td>0.5</td>\n",
       "      <td>1.0</td>\n",
       "      <td>1.0</td>\n",
       "    </tr>\n",
       "  </tbody>\n",
       "</table>\n",
       "<p>250 rows × 6 columns</p>\n",
       "</div>"
      ],
      "text/plain": [
       "     industrial_risk  management_risk  financial_flexibility  credibility  \\\n",
       "0                0.5              1.0                    0.0          0.0   \n",
       "1                0.0              1.0                    0.0          0.0   \n",
       "2                1.0              0.0                    0.0          0.0   \n",
       "3                0.5              0.0                    0.0          0.5   \n",
       "4                1.0              1.0                    0.0          0.0   \n",
       "..               ...              ...                    ...          ...   \n",
       "245              0.0              1.0                    1.0          1.0   \n",
       "246              1.0              1.0                    0.5          1.0   \n",
       "247              0.0              1.0                    1.0          0.5   \n",
       "248              1.0              0.0                    0.5          1.0   \n",
       "249              1.0              0.0                    0.5          0.5   \n",
       "\n",
       "     competitiveness  operating_risk  \n",
       "0                0.0             0.5  \n",
       "1                0.0             1.0  \n",
       "2                0.0             1.0  \n",
       "3                0.0             1.0  \n",
       "4                0.0             1.0  \n",
       "..               ...             ...  \n",
       "245              1.0             1.0  \n",
       "246              1.0             0.0  \n",
       "247              0.5             0.0  \n",
       "248              0.5             0.0  \n",
       "249              1.0             1.0  \n",
       "\n",
       "[250 rows x 6 columns]"
      ]
     },
     "execution_count": 55,
     "metadata": {},
     "output_type": "execute_result"
    }
   ],
   "source": [
    "# independent features\n",
    "x"
   ]
  },
  {
   "cell_type": "code",
   "execution_count": 56,
   "id": "00d7e4d2",
   "metadata": {},
   "outputs": [
    {
     "data": {
      "text/plain": [
       "0      0\n",
       "1      0\n",
       "2      0\n",
       "3      0\n",
       "4      0\n",
       "      ..\n",
       "245    1\n",
       "246    1\n",
       "247    1\n",
       "248    1\n",
       "249    1\n",
       "Name: class, Length: 250, dtype: int64"
      ]
     },
     "execution_count": 56,
     "metadata": {},
     "output_type": "execute_result"
    }
   ],
   "source": [
    "# Depedent feature\n",
    "y"
   ]
  },
  {
   "cell_type": "code",
   "execution_count": 57,
   "id": "62bb8ea3",
   "metadata": {},
   "outputs": [],
   "source": [
    "# Train - Test split\n",
    "from sklearn.model_selection import train_test_split\n",
    "x_train , x_test , y_train , y_test = train_test_split(x,y ,\n",
    "                                   random_state = 42, \n",
    "                                   test_size = 0.3)\n",
    "#here we split our whole dataset in 70% - 30% split. "
   ]
  },
  {
   "cell_type": "code",
   "execution_count": 58,
   "id": "e4387223",
   "metadata": {},
   "outputs": [
    {
     "data": {
      "text/html": [
       "<div>\n",
       "<style scoped>\n",
       "    .dataframe tbody tr th:only-of-type {\n",
       "        vertical-align: middle;\n",
       "    }\n",
       "\n",
       "    .dataframe tbody tr th {\n",
       "        vertical-align: top;\n",
       "    }\n",
       "\n",
       "    .dataframe thead th {\n",
       "        text-align: right;\n",
       "    }\n",
       "</style>\n",
       "<table border=\"1\" class=\"dataframe\">\n",
       "  <thead>\n",
       "    <tr style=\"text-align: right;\">\n",
       "      <th></th>\n",
       "      <th>industrial_risk</th>\n",
       "      <th>management_risk</th>\n",
       "      <th>financial_flexibility</th>\n",
       "      <th>credibility</th>\n",
       "      <th>competitiveness</th>\n",
       "      <th>operating_risk</th>\n",
       "    </tr>\n",
       "  </thead>\n",
       "  <tbody>\n",
       "    <tr>\n",
       "      <th>82</th>\n",
       "      <td>0.0</td>\n",
       "      <td>1.0</td>\n",
       "      <td>0.0</td>\n",
       "      <td>0.0</td>\n",
       "      <td>0.0</td>\n",
       "      <td>1.0</td>\n",
       "    </tr>\n",
       "    <tr>\n",
       "      <th>29</th>\n",
       "      <td>0.0</td>\n",
       "      <td>0.5</td>\n",
       "      <td>0.0</td>\n",
       "      <td>0.0</td>\n",
       "      <td>0.0</td>\n",
       "      <td>1.0</td>\n",
       "    </tr>\n",
       "    <tr>\n",
       "      <th>126</th>\n",
       "      <td>0.5</td>\n",
       "      <td>0.5</td>\n",
       "      <td>0.5</td>\n",
       "      <td>1.0</td>\n",
       "      <td>1.0</td>\n",
       "      <td>0.5</td>\n",
       "    </tr>\n",
       "    <tr>\n",
       "      <th>79</th>\n",
       "      <td>0.0</td>\n",
       "      <td>0.5</td>\n",
       "      <td>0.0</td>\n",
       "      <td>0.0</td>\n",
       "      <td>0.0</td>\n",
       "      <td>0.5</td>\n",
       "    </tr>\n",
       "    <tr>\n",
       "      <th>86</th>\n",
       "      <td>0.5</td>\n",
       "      <td>0.5</td>\n",
       "      <td>0.0</td>\n",
       "      <td>0.0</td>\n",
       "      <td>0.0</td>\n",
       "      <td>1.0</td>\n",
       "    </tr>\n",
       "    <tr>\n",
       "      <th>...</th>\n",
       "      <td>...</td>\n",
       "      <td>...</td>\n",
       "      <td>...</td>\n",
       "      <td>...</td>\n",
       "      <td>...</td>\n",
       "      <td>...</td>\n",
       "    </tr>\n",
       "    <tr>\n",
       "      <th>106</th>\n",
       "      <td>0.0</td>\n",
       "      <td>1.0</td>\n",
       "      <td>0.0</td>\n",
       "      <td>0.0</td>\n",
       "      <td>0.5</td>\n",
       "      <td>0.5</td>\n",
       "    </tr>\n",
       "    <tr>\n",
       "      <th>14</th>\n",
       "      <td>0.0</td>\n",
       "      <td>1.0</td>\n",
       "      <td>0.0</td>\n",
       "      <td>0.0</td>\n",
       "      <td>0.5</td>\n",
       "      <td>0.5</td>\n",
       "    </tr>\n",
       "    <tr>\n",
       "      <th>92</th>\n",
       "      <td>0.5</td>\n",
       "      <td>1.0</td>\n",
       "      <td>0.0</td>\n",
       "      <td>0.0</td>\n",
       "      <td>0.0</td>\n",
       "      <td>0.5</td>\n",
       "    </tr>\n",
       "    <tr>\n",
       "      <th>179</th>\n",
       "      <td>0.0</td>\n",
       "      <td>0.5</td>\n",
       "      <td>1.0</td>\n",
       "      <td>0.5</td>\n",
       "      <td>1.0</td>\n",
       "      <td>0.0</td>\n",
       "    </tr>\n",
       "    <tr>\n",
       "      <th>102</th>\n",
       "      <td>1.0</td>\n",
       "      <td>1.0</td>\n",
       "      <td>0.5</td>\n",
       "      <td>0.0</td>\n",
       "      <td>0.0</td>\n",
       "      <td>1.0</td>\n",
       "    </tr>\n",
       "  </tbody>\n",
       "</table>\n",
       "<p>175 rows × 6 columns</p>\n",
       "</div>"
      ],
      "text/plain": [
       "     industrial_risk  management_risk  financial_flexibility  credibility  \\\n",
       "82               0.0              1.0                    0.0          0.0   \n",
       "29               0.0              0.5                    0.0          0.0   \n",
       "126              0.5              0.5                    0.5          1.0   \n",
       "79               0.0              0.5                    0.0          0.0   \n",
       "86               0.5              0.5                    0.0          0.0   \n",
       "..               ...              ...                    ...          ...   \n",
       "106              0.0              1.0                    0.0          0.0   \n",
       "14               0.0              1.0                    0.0          0.0   \n",
       "92               0.5              1.0                    0.0          0.0   \n",
       "179              0.0              0.5                    1.0          0.5   \n",
       "102              1.0              1.0                    0.5          0.0   \n",
       "\n",
       "     competitiveness  operating_risk  \n",
       "82               0.0             1.0  \n",
       "29               0.0             1.0  \n",
       "126              1.0             0.5  \n",
       "79               0.0             0.5  \n",
       "86               0.0             1.0  \n",
       "..               ...             ...  \n",
       "106              0.5             0.5  \n",
       "14               0.5             0.5  \n",
       "92               0.0             0.5  \n",
       "179              1.0             0.0  \n",
       "102              0.0             1.0  \n",
       "\n",
       "[175 rows x 6 columns]"
      ]
     },
     "execution_count": 58,
     "metadata": {},
     "output_type": "execute_result"
    }
   ],
   "source": [
    "x_train"
   ]
  },
  {
   "cell_type": "code",
   "execution_count": 59,
   "id": "d86d3288",
   "metadata": {},
   "outputs": [
    {
     "data": {
      "text/plain": [
       "82     0\n",
       "29     0\n",
       "126    1\n",
       "79     0\n",
       "86     0\n",
       "      ..\n",
       "106    0\n",
       "14     0\n",
       "92     0\n",
       "179    1\n",
       "102    0\n",
       "Name: class, Length: 175, dtype: int64"
      ]
     },
     "execution_count": 59,
     "metadata": {},
     "output_type": "execute_result"
    }
   ],
   "source": [
    "y_train"
   ]
  },
  {
   "cell_type": "code",
   "execution_count": 60,
   "id": "80e82104",
   "metadata": {},
   "outputs": [
    {
     "data": {
      "text/html": [
       "<div>\n",
       "<style scoped>\n",
       "    .dataframe tbody tr th:only-of-type {\n",
       "        vertical-align: middle;\n",
       "    }\n",
       "\n",
       "    .dataframe tbody tr th {\n",
       "        vertical-align: top;\n",
       "    }\n",
       "\n",
       "    .dataframe thead th {\n",
       "        text-align: right;\n",
       "    }\n",
       "</style>\n",
       "<table border=\"1\" class=\"dataframe\">\n",
       "  <thead>\n",
       "    <tr style=\"text-align: right;\">\n",
       "      <th></th>\n",
       "      <th>industrial_risk</th>\n",
       "      <th>management_risk</th>\n",
       "      <th>financial_flexibility</th>\n",
       "      <th>credibility</th>\n",
       "      <th>competitiveness</th>\n",
       "      <th>operating_risk</th>\n",
       "    </tr>\n",
       "  </thead>\n",
       "  <tbody>\n",
       "    <tr>\n",
       "      <th>142</th>\n",
       "      <td>0.0</td>\n",
       "      <td>1.0</td>\n",
       "      <td>1.0</td>\n",
       "      <td>1.0</td>\n",
       "      <td>0.5</td>\n",
       "      <td>1.0</td>\n",
       "    </tr>\n",
       "    <tr>\n",
       "      <th>6</th>\n",
       "      <td>1.0</td>\n",
       "      <td>1.0</td>\n",
       "      <td>0.0</td>\n",
       "      <td>0.0</td>\n",
       "      <td>0.0</td>\n",
       "      <td>0.0</td>\n",
       "    </tr>\n",
       "    <tr>\n",
       "      <th>97</th>\n",
       "      <td>1.0</td>\n",
       "      <td>1.0</td>\n",
       "      <td>0.0</td>\n",
       "      <td>0.5</td>\n",
       "      <td>0.0</td>\n",
       "      <td>0.5</td>\n",
       "    </tr>\n",
       "    <tr>\n",
       "      <th>60</th>\n",
       "      <td>0.0</td>\n",
       "      <td>1.0</td>\n",
       "      <td>0.0</td>\n",
       "      <td>0.0</td>\n",
       "      <td>0.0</td>\n",
       "      <td>0.0</td>\n",
       "    </tr>\n",
       "    <tr>\n",
       "      <th>112</th>\n",
       "      <td>0.5</td>\n",
       "      <td>0.5</td>\n",
       "      <td>1.0</td>\n",
       "      <td>1.0</td>\n",
       "      <td>1.0</td>\n",
       "      <td>0.5</td>\n",
       "    </tr>\n",
       "    <tr>\n",
       "      <th>...</th>\n",
       "      <td>...</td>\n",
       "      <td>...</td>\n",
       "      <td>...</td>\n",
       "      <td>...</td>\n",
       "      <td>...</td>\n",
       "      <td>...</td>\n",
       "    </tr>\n",
       "    <tr>\n",
       "      <th>73</th>\n",
       "      <td>0.0</td>\n",
       "      <td>1.0</td>\n",
       "      <td>0.0</td>\n",
       "      <td>0.0</td>\n",
       "      <td>0.0</td>\n",
       "      <td>1.0</td>\n",
       "    </tr>\n",
       "    <tr>\n",
       "      <th>158</th>\n",
       "      <td>0.5</td>\n",
       "      <td>1.0</td>\n",
       "      <td>0.5</td>\n",
       "      <td>0.5</td>\n",
       "      <td>1.0</td>\n",
       "      <td>0.0</td>\n",
       "    </tr>\n",
       "    <tr>\n",
       "      <th>115</th>\n",
       "      <td>0.0</td>\n",
       "      <td>0.0</td>\n",
       "      <td>0.5</td>\n",
       "      <td>1.0</td>\n",
       "      <td>0.5</td>\n",
       "      <td>0.0</td>\n",
       "    </tr>\n",
       "    <tr>\n",
       "      <th>75</th>\n",
       "      <td>1.0</td>\n",
       "      <td>1.0</td>\n",
       "      <td>0.0</td>\n",
       "      <td>0.0</td>\n",
       "      <td>0.0</td>\n",
       "      <td>0.5</td>\n",
       "    </tr>\n",
       "    <tr>\n",
       "      <th>237</th>\n",
       "      <td>0.5</td>\n",
       "      <td>0.5</td>\n",
       "      <td>0.5</td>\n",
       "      <td>0.5</td>\n",
       "      <td>1.0</td>\n",
       "      <td>0.5</td>\n",
       "    </tr>\n",
       "  </tbody>\n",
       "</table>\n",
       "<p>75 rows × 6 columns</p>\n",
       "</div>"
      ],
      "text/plain": [
       "     industrial_risk  management_risk  financial_flexibility  credibility  \\\n",
       "142              0.0              1.0                    1.0          1.0   \n",
       "6                1.0              1.0                    0.0          0.0   \n",
       "97               1.0              1.0                    0.0          0.5   \n",
       "60               0.0              1.0                    0.0          0.0   \n",
       "112              0.5              0.5                    1.0          1.0   \n",
       "..               ...              ...                    ...          ...   \n",
       "73               0.0              1.0                    0.0          0.0   \n",
       "158              0.5              1.0                    0.5          0.5   \n",
       "115              0.0              0.0                    0.5          1.0   \n",
       "75               1.0              1.0                    0.0          0.0   \n",
       "237              0.5              0.5                    0.5          0.5   \n",
       "\n",
       "     competitiveness  operating_risk  \n",
       "142              0.5             1.0  \n",
       "6                0.0             0.0  \n",
       "97               0.0             0.5  \n",
       "60               0.0             0.0  \n",
       "112              1.0             0.5  \n",
       "..               ...             ...  \n",
       "73               0.0             1.0  \n",
       "158              1.0             0.0  \n",
       "115              0.5             0.0  \n",
       "75               0.0             0.5  \n",
       "237              1.0             0.5  \n",
       "\n",
       "[75 rows x 6 columns]"
      ]
     },
     "execution_count": 60,
     "metadata": {},
     "output_type": "execute_result"
    }
   ],
   "source": [
    "x_test"
   ]
  },
  {
   "cell_type": "code",
   "execution_count": 61,
   "id": "aec96de6",
   "metadata": {},
   "outputs": [
    {
     "data": {
      "text/plain": [
       "142    1\n",
       "6      0\n",
       "97     0\n",
       "60     0\n",
       "112    1\n",
       "      ..\n",
       "73     0\n",
       "158    1\n",
       "115    1\n",
       "75     0\n",
       "237    1\n",
       "Name: class, Length: 75, dtype: int64"
      ]
     },
     "execution_count": 61,
     "metadata": {},
     "output_type": "execute_result"
    }
   ],
   "source": [
    "y_test"
   ]
  },
  {
   "cell_type": "markdown",
   "id": "c99b290e",
   "metadata": {},
   "source": [
    "### 1) Logistic Regression "
   ]
  },
  {
   "cell_type": "code",
   "execution_count": 62,
   "id": "c0ec334a",
   "metadata": {},
   "outputs": [],
   "source": [
    "accscore = [] \n",
    "model_name = []\n",
    "\n",
    "from sklearn.linear_model import LogisticRegression\n",
    "from sklearn.metrics import accuracy_score , classification_report , confusion_matrix\n",
    "from sklearn.model_selection import cross_val_score\n",
    "\n",
    "lr = LogisticRegression()"
   ]
  },
  {
   "cell_type": "code",
   "execution_count": 63,
   "id": "2115c26b",
   "metadata": {},
   "outputs": [
    {
     "data": {
      "text/plain": [
       "LogisticRegression()"
      ]
     },
     "execution_count": 63,
     "metadata": {},
     "output_type": "execute_result"
    }
   ],
   "source": [
    "model1 = lr.fit(x_train , y_train)\n",
    "model1"
   ]
  },
  {
   "cell_type": "code",
   "execution_count": 64,
   "id": "b392e531",
   "metadata": {},
   "outputs": [
    {
     "data": {
      "text/plain": [
       "array([1, 0, 0, 0, 1, 1, 1, 1, 0, 0, 1, 1, 1, 1, 0, 1, 1, 0, 1, 0, 1, 0,\n",
       "       1, 0, 1, 0, 0, 0, 0, 1, 1, 0, 1, 1, 0, 1, 0, 1, 1, 1, 1, 0, 1, 1,\n",
       "       1, 0, 1, 0, 1, 0, 1, 1, 1, 1, 1, 0, 1, 1, 1, 1, 1, 1, 1, 0, 1, 1,\n",
       "       1, 1, 1, 1, 0, 1, 1, 0, 1], dtype=int64)"
      ]
     },
     "execution_count": 64,
     "metadata": {},
     "output_type": "execute_result"
    }
   ],
   "source": [
    "lr_pred = lr.predict(x_test)\n",
    "lr_pred"
   ]
  },
  {
   "cell_type": "code",
   "execution_count": 65,
   "id": "4863d5f2",
   "metadata": {},
   "outputs": [
    {
     "data": {
      "text/plain": [
       "100.0"
      ]
     },
     "execution_count": 65,
     "metadata": {},
     "output_type": "execute_result"
    }
   ],
   "source": [
    "lr_acc = accuracy_score(y_test ,lr_pred)*100\n",
    "lr_acc"
   ]
  },
  {
   "cell_type": "code",
   "execution_count": 66,
   "id": "b2415d08",
   "metadata": {},
   "outputs": [
    {
     "data": {
      "text/plain": [
       "array([1.  , 1.  , 1.  , 0.98, 1.  ])"
      ]
     },
     "execution_count": 66,
     "metadata": {},
     "output_type": "execute_result"
    }
   ],
   "source": [
    "# Cross validating the model\n",
    "lr_scores = cross_val_score(lr, x, y, cv = 5) \n",
    "lr_scores"
   ]
  },
  {
   "cell_type": "code",
   "execution_count": 67,
   "id": "350a7896",
   "metadata": {},
   "outputs": [
    {
     "data": {
      "text/plain": [
       "99.60000000000001"
      ]
     },
     "execution_count": 67,
     "metadata": {},
     "output_type": "execute_result"
    }
   ],
   "source": [
    "# mean of accuracy scores of Logistic Regression \n",
    "mean_lr = lr_scores.mean()*100\n",
    "mean_lr"
   ]
  },
  {
   "cell_type": "code",
   "execution_count": 68,
   "id": "bd3bdde6",
   "metadata": {},
   "outputs": [
    {
     "name": "stdout",
     "output_type": "stream",
     "text": [
      "Accuracy Score of Logistic Regression model is 100.0\n",
      "\n",
      "Accuracy score of each cross validation cycle :  [1.   1.   1.   0.98 1.  ]\n",
      "\n",
      "Mean of accuracy score for Logistic Regression is 99.60000000000001\n",
      "\n"
     ]
    }
   ],
   "source": [
    "print(\"Accuracy Score of Logistic Regression model is\", accuracy_score(y_test, lr_pred)*100)\n",
    "print(f\"\\nAccuracy score of each cross validation cycle : \",lr_scores)\n",
    "print(f\"\\nMean of accuracy score for Logistic Regression is {lr_scores.mean()*100}\\n\")"
   ]
  },
  {
   "cell_type": "code",
   "execution_count": 69,
   "id": "ec7dce80",
   "metadata": {},
   "outputs": [],
   "source": [
    "score = accuracy_score(y_test , lr_pred)\n",
    "accscore.append(score)\n",
    "model_name.append(\"lr\")"
   ]
  },
  {
   "cell_type": "code",
   "execution_count": 70,
   "id": "fc866751",
   "metadata": {},
   "outputs": [
    {
     "name": "stdout",
     "output_type": "stream",
     "text": [
      "              precision    recall  f1-score   support\n",
      "\n",
      "           0       1.00      1.00      1.00        25\n",
      "           1       1.00      1.00      1.00        50\n",
      "\n",
      "    accuracy                           1.00        75\n",
      "   macro avg       1.00      1.00      1.00        75\n",
      "weighted avg       1.00      1.00      1.00        75\n",
      "\n"
     ]
    }
   ],
   "source": [
    "print(classification_report(y_test, lr_pred))"
   ]
  },
  {
   "cell_type": "code",
   "execution_count": 71,
   "id": "07df07d5",
   "metadata": {},
   "outputs": [
    {
     "data": {
      "text/plain": [
       "array([[25,  0],\n",
       "       [ 0, 50]], dtype=int64)"
      ]
     },
     "execution_count": 71,
     "metadata": {},
     "output_type": "execute_result"
    }
   ],
   "source": [
    "confusion_matrix(y_test, lr_pred)"
   ]
  },
  {
   "cell_type": "markdown",
   "id": "d491562e",
   "metadata": {},
   "source": [
    "### 2) Decision Tree Classifier"
   ]
  },
  {
   "cell_type": "code",
   "execution_count": 72,
   "id": "f9ab5608",
   "metadata": {},
   "outputs": [],
   "source": [
    "from sklearn.tree import DecisionTreeClassifier\n",
    "DTC = DecisionTreeClassifier()"
   ]
  },
  {
   "cell_type": "code",
   "execution_count": 73,
   "id": "19704954",
   "metadata": {},
   "outputs": [
    {
     "data": {
      "text/plain": [
       "DecisionTreeClassifier()"
      ]
     },
     "execution_count": 73,
     "metadata": {},
     "output_type": "execute_result"
    }
   ],
   "source": [
    "model2 = DTC.fit(x_train, y_train)\n",
    "model2"
   ]
  },
  {
   "cell_type": "code",
   "execution_count": 74,
   "id": "3a52cce9",
   "metadata": {},
   "outputs": [
    {
     "data": {
      "text/plain": [
       "array([1, 0, 0, 0, 1, 1, 1, 1, 0, 0, 1, 1, 1, 1, 0, 1, 0, 0, 1, 0, 1, 0,\n",
       "       1, 0, 1, 0, 0, 0, 0, 1, 1, 0, 1, 1, 0, 1, 0, 1, 1, 1, 1, 0, 1, 1,\n",
       "       1, 0, 1, 0, 1, 0, 1, 1, 1, 1, 1, 0, 1, 1, 1, 1, 1, 1, 1, 0, 1, 1,\n",
       "       1, 1, 1, 1, 0, 1, 1, 0, 1], dtype=int64)"
      ]
     },
     "execution_count": 74,
     "metadata": {},
     "output_type": "execute_result"
    }
   ],
   "source": [
    "DTC_pred = DTC.predict(x_test)\n",
    "DTC_pred"
   ]
  },
  {
   "cell_type": "code",
   "execution_count": 75,
   "id": "7b26b415",
   "metadata": {},
   "outputs": [
    {
     "data": {
      "text/plain": [
       "98.66666666666667"
      ]
     },
     "execution_count": 75,
     "metadata": {},
     "output_type": "execute_result"
    }
   ],
   "source": [
    "DTC_acc = accuracy_score(y_test ,DTC_pred)*100\n",
    "DTC_acc"
   ]
  },
  {
   "cell_type": "code",
   "execution_count": 76,
   "id": "71970fee",
   "metadata": {},
   "outputs": [
    {
     "data": {
      "text/plain": [
       "array([1.  , 1.  , 1.  , 0.96, 1.  ])"
      ]
     },
     "execution_count": 76,
     "metadata": {},
     "output_type": "execute_result"
    }
   ],
   "source": [
    "# Cross validating the model\n",
    "DTC_scores = cross_val_score(DTC, x, y, cv = 5) \n",
    "DTC_scores"
   ]
  },
  {
   "cell_type": "code",
   "execution_count": 77,
   "id": "68668749",
   "metadata": {},
   "outputs": [
    {
     "data": {
      "text/plain": [
       "99.2"
      ]
     },
     "execution_count": 77,
     "metadata": {},
     "output_type": "execute_result"
    }
   ],
   "source": [
    "# mean of accuracy scores of Decision tree classifier\n",
    "mean_DTC = DTC_scores.mean()*100\n",
    "mean_DTC "
   ]
  },
  {
   "cell_type": "code",
   "execution_count": 78,
   "id": "228ed86b",
   "metadata": {},
   "outputs": [
    {
     "name": "stdout",
     "output_type": "stream",
     "text": [
      "Accuracy Score of Decision Tree Classifier is 98.66666666666667\n",
      "\n",
      "Accuracy score of each cross validation cycle :  [1.   1.   1.   0.96 1.  ]\n",
      "\n",
      "Mean of accuracy score for Decision Tree Classifier is 99.2\n",
      "\n"
     ]
    }
   ],
   "source": [
    "print(\"Accuracy Score of Decision Tree Classifier is\", accuracy_score(y_test, DTC_pred)*100)\n",
    "print(f\"\\nAccuracy score of each cross validation cycle : \",DTC_scores)\n",
    "print(f\"\\nMean of accuracy score for Decision Tree Classifier is {DTC_scores.mean()*100}\\n\")"
   ]
  },
  {
   "cell_type": "code",
   "execution_count": 79,
   "id": "1a4e60cd",
   "metadata": {},
   "outputs": [],
   "source": [
    "score = accuracy_score(y_test , DTC_pred)\n",
    "accscore.append(score)\n",
    "model_name.append(\"DTC\")"
   ]
  },
  {
   "cell_type": "code",
   "execution_count": 80,
   "id": "ab2d62bf",
   "metadata": {},
   "outputs": [
    {
     "name": "stdout",
     "output_type": "stream",
     "text": [
      "              precision    recall  f1-score   support\n",
      "\n",
      "           0       0.96      1.00      0.98        25\n",
      "           1       1.00      0.98      0.99        50\n",
      "\n",
      "    accuracy                           0.99        75\n",
      "   macro avg       0.98      0.99      0.99        75\n",
      "weighted avg       0.99      0.99      0.99        75\n",
      "\n"
     ]
    }
   ],
   "source": [
    "print(classification_report(y_test, DTC_pred))"
   ]
  },
  {
   "cell_type": "code",
   "execution_count": 81,
   "id": "30436e79",
   "metadata": {},
   "outputs": [
    {
     "data": {
      "text/plain": [
       "array([[25,  0],\n",
       "       [ 1, 49]], dtype=int64)"
      ]
     },
     "execution_count": 81,
     "metadata": {},
     "output_type": "execute_result"
    }
   ],
   "source": [
    "confusion_matrix(y_test, DTC_pred)"
   ]
  },
  {
   "cell_type": "markdown",
   "id": "632d65e4",
   "metadata": {},
   "source": [
    "### 3) KNN "
   ]
  },
  {
   "cell_type": "code",
   "execution_count": 82,
   "id": "7af31c3e",
   "metadata": {},
   "outputs": [],
   "source": [
    "from sklearn.neighbors import KNeighborsClassifier\n",
    "KNN =  KNeighborsClassifier()"
   ]
  },
  {
   "cell_type": "code",
   "execution_count": 83,
   "id": "aa7136dc",
   "metadata": {},
   "outputs": [
    {
     "data": {
      "text/plain": [
       "KNeighborsClassifier()"
      ]
     },
     "execution_count": 83,
     "metadata": {},
     "output_type": "execute_result"
    }
   ],
   "source": [
    "model3 = KNN.fit(x_train, y_train)\n",
    "model3"
   ]
  },
  {
   "cell_type": "code",
   "execution_count": 84,
   "id": "afffc278",
   "metadata": {},
   "outputs": [
    {
     "data": {
      "text/plain": [
       "array([1, 0, 0, 0, 1, 1, 1, 1, 0, 0, 1, 1, 1, 1, 0, 1, 0, 0, 1, 0, 1, 0,\n",
       "       1, 0, 1, 0, 0, 0, 0, 1, 1, 0, 1, 1, 0, 1, 0, 1, 1, 1, 1, 0, 1, 1,\n",
       "       1, 0, 1, 0, 1, 0, 1, 1, 1, 1, 1, 0, 1, 1, 1, 1, 1, 1, 1, 0, 1, 1,\n",
       "       1, 1, 1, 1, 0, 1, 1, 0, 1], dtype=int64)"
      ]
     },
     "execution_count": 84,
     "metadata": {},
     "output_type": "execute_result"
    }
   ],
   "source": [
    "KNN_pred = KNN.predict(x_test)\n",
    "KNN_pred"
   ]
  },
  {
   "cell_type": "code",
   "execution_count": 85,
   "id": "00c0a033",
   "metadata": {},
   "outputs": [
    {
     "data": {
      "text/plain": [
       "98.66666666666667"
      ]
     },
     "execution_count": 85,
     "metadata": {},
     "output_type": "execute_result"
    }
   ],
   "source": [
    "KNN_acc = accuracy_score(y_test ,KNN_pred)*100\n",
    "KNN_acc"
   ]
  },
  {
   "cell_type": "code",
   "execution_count": 86,
   "id": "5572d26a",
   "metadata": {},
   "outputs": [
    {
     "data": {
      "text/plain": [
       "array([1.  , 1.  , 1.  , 0.98, 1.  ])"
      ]
     },
     "execution_count": 86,
     "metadata": {},
     "output_type": "execute_result"
    }
   ],
   "source": [
    "# Cross validating the model\n",
    "KNN_scores = cross_val_score(KNN, x, y, cv = 5) \n",
    "KNN_scores"
   ]
  },
  {
   "cell_type": "code",
   "execution_count": 87,
   "id": "4832f257",
   "metadata": {},
   "outputs": [
    {
     "data": {
      "text/plain": [
       "99.60000000000001"
      ]
     },
     "execution_count": 87,
     "metadata": {},
     "output_type": "execute_result"
    }
   ],
   "source": [
    "# mean of accuracy scores of K Neighbour Classifier\n",
    "mean_KNN = KNN_scores.mean()*100\n",
    "mean_KNN "
   ]
  },
  {
   "cell_type": "code",
   "execution_count": 88,
   "id": "58d1a154",
   "metadata": {},
   "outputs": [
    {
     "name": "stdout",
     "output_type": "stream",
     "text": [
      "Accuracy Score of K Neighbours Classifier is 98.66666666666667\n",
      "\n",
      "Accuracy score of each cross validation cycle :  [1.   1.   1.   0.98 1.  ]\n",
      "\n",
      "Mean of accuracy score for K Neighbours Classifier is 99.60000000000001\n",
      "\n"
     ]
    }
   ],
   "source": [
    "print(\"Accuracy Score of K Neighbours Classifier is\", accuracy_score(y_test, KNN_pred)*100)\n",
    "print(f\"\\nAccuracy score of each cross validation cycle : \",KNN_scores)\n",
    "print(f\"\\nMean of accuracy score for K Neighbours Classifier is {KNN_scores.mean()*100}\\n\")"
   ]
  },
  {
   "cell_type": "code",
   "execution_count": 89,
   "id": "78a9b760",
   "metadata": {},
   "outputs": [],
   "source": [
    "score =accuracy_score(y_test , KNN_pred)\n",
    "accscore.append(score)\n",
    "model_name.append(\"KNN\")"
   ]
  },
  {
   "cell_type": "code",
   "execution_count": 90,
   "id": "a1973276",
   "metadata": {},
   "outputs": [
    {
     "name": "stdout",
     "output_type": "stream",
     "text": [
      "              precision    recall  f1-score   support\n",
      "\n",
      "           0       0.96      1.00      0.98        25\n",
      "           1       1.00      0.98      0.99        50\n",
      "\n",
      "    accuracy                           0.99        75\n",
      "   macro avg       0.98      0.99      0.99        75\n",
      "weighted avg       0.99      0.99      0.99        75\n",
      "\n"
     ]
    }
   ],
   "source": [
    "print(classification_report(y_test, KNN_pred))"
   ]
  },
  {
   "cell_type": "code",
   "execution_count": 91,
   "id": "38968d0b",
   "metadata": {},
   "outputs": [
    {
     "data": {
      "text/plain": [
       "array([[25,  0],\n",
       "       [ 1, 49]], dtype=int64)"
      ]
     },
     "execution_count": 91,
     "metadata": {},
     "output_type": "execute_result"
    }
   ],
   "source": [
    "confusion_matrix(y_test, KNN_pred)"
   ]
  },
  {
   "cell_type": "markdown",
   "id": "ae0d8297",
   "metadata": {},
   "source": [
    "### 4) Support Vector Classifier "
   ]
  },
  {
   "cell_type": "code",
   "execution_count": 92,
   "id": "8fc59e21",
   "metadata": {},
   "outputs": [],
   "source": [
    "from sklearn.svm import SVC\n",
    "svc = SVC()"
   ]
  },
  {
   "cell_type": "code",
   "execution_count": 93,
   "id": "9a11f314",
   "metadata": {},
   "outputs": [
    {
     "data": {
      "text/plain": [
       "SVC()"
      ]
     },
     "execution_count": 93,
     "metadata": {},
     "output_type": "execute_result"
    }
   ],
   "source": [
    "model4 = svc.fit(x_train, y_train)\n",
    "model4"
   ]
  },
  {
   "cell_type": "code",
   "execution_count": 94,
   "id": "835c0a56",
   "metadata": {},
   "outputs": [
    {
     "data": {
      "text/plain": [
       "array([1, 0, 0, 0, 1, 1, 1, 1, 0, 0, 1, 1, 1, 1, 0, 1, 1, 0, 1, 0, 1, 0,\n",
       "       1, 0, 1, 0, 0, 0, 0, 1, 1, 0, 1, 1, 0, 1, 0, 1, 1, 1, 1, 0, 1, 1,\n",
       "       1, 0, 1, 0, 1, 0, 1, 1, 1, 1, 1, 0, 1, 1, 1, 1, 1, 1, 1, 0, 1, 1,\n",
       "       1, 1, 1, 1, 0, 1, 1, 0, 1], dtype=int64)"
      ]
     },
     "execution_count": 94,
     "metadata": {},
     "output_type": "execute_result"
    }
   ],
   "source": [
    "svc_pred = svc.predict(x_test)\n",
    "svc_pred"
   ]
  },
  {
   "cell_type": "code",
   "execution_count": 95,
   "id": "16daa987",
   "metadata": {},
   "outputs": [
    {
     "data": {
      "text/plain": [
       "100.0"
      ]
     },
     "execution_count": 95,
     "metadata": {},
     "output_type": "execute_result"
    }
   ],
   "source": [
    "svc_acc = accuracy_score(y_test ,svc_pred)*100\n",
    "svc_acc"
   ]
  },
  {
   "cell_type": "code",
   "execution_count": 96,
   "id": "b5004c3c",
   "metadata": {},
   "outputs": [
    {
     "data": {
      "text/plain": [
       "array([1.  , 1.  , 1.  , 0.98, 1.  ])"
      ]
     },
     "execution_count": 96,
     "metadata": {},
     "output_type": "execute_result"
    }
   ],
   "source": [
    "# Cross validating the model\n",
    "svc_scores = cross_val_score(svc, x, y, cv = 5) \n",
    "svc_scores"
   ]
  },
  {
   "cell_type": "code",
   "execution_count": 97,
   "id": "2ab96a58",
   "metadata": {},
   "outputs": [
    {
     "data": {
      "text/plain": [
       "99.60000000000001"
      ]
     },
     "execution_count": 97,
     "metadata": {},
     "output_type": "execute_result"
    }
   ],
   "source": [
    "#mean of accuracy scores of Support Vector Classifier \n",
    "mean_svc = svc_scores.mean()*100\n",
    "mean_svc "
   ]
  },
  {
   "cell_type": "code",
   "execution_count": 98,
   "id": "e524412b",
   "metadata": {},
   "outputs": [
    {
     "name": "stdout",
     "output_type": "stream",
     "text": [
      "Accuracy Score of Support Vector Classifier is 100.0\n",
      "\n",
      "Accuracy score of each cross validation cycle :  [1.   1.   1.   0.98 1.  ]\n",
      "\n",
      "Mean of accuracy score for Support Vector Classifier is 99.60000000000001\n",
      "\n"
     ]
    }
   ],
   "source": [
    "print(\"Accuracy Score of Support Vector Classifier is\", accuracy_score(y_test, svc_pred)*100)\n",
    "print(f\"\\nAccuracy score of each cross validation cycle : \",svc_scores)\n",
    "print(f\"\\nMean of accuracy score for Support Vector Classifier is {svc_scores.mean()*100}\\n\")"
   ]
  },
  {
   "cell_type": "code",
   "execution_count": 99,
   "id": "ef58a26b",
   "metadata": {},
   "outputs": [],
   "source": [
    "score = accuracy_score(y_test , svc_pred)\n",
    "accscore.append(score)\n",
    "model_name.append(\"svc\")"
   ]
  },
  {
   "cell_type": "code",
   "execution_count": 100,
   "id": "4b5b461c",
   "metadata": {},
   "outputs": [
    {
     "name": "stdout",
     "output_type": "stream",
     "text": [
      "              precision    recall  f1-score   support\n",
      "\n",
      "           0       1.00      1.00      1.00        25\n",
      "           1       1.00      1.00      1.00        50\n",
      "\n",
      "    accuracy                           1.00        75\n",
      "   macro avg       1.00      1.00      1.00        75\n",
      "weighted avg       1.00      1.00      1.00        75\n",
      "\n"
     ]
    }
   ],
   "source": [
    "print(classification_report(y_test, svc_pred))"
   ]
  },
  {
   "cell_type": "code",
   "execution_count": 101,
   "id": "80e1aae8",
   "metadata": {},
   "outputs": [
    {
     "data": {
      "text/plain": [
       "array([[25,  0],\n",
       "       [ 0, 50]], dtype=int64)"
      ]
     },
     "execution_count": 101,
     "metadata": {},
     "output_type": "execute_result"
    }
   ],
   "source": [
    "confusion_matrix(y_test, svc_pred)"
   ]
  },
  {
   "cell_type": "markdown",
   "id": "1ab4c027",
   "metadata": {},
   "source": [
    "### 5) Random Forest"
   ]
  },
  {
   "cell_type": "code",
   "execution_count": 102,
   "id": "4018441b",
   "metadata": {},
   "outputs": [],
   "source": [
    "from sklearn.ensemble import RandomForestClassifier\n",
    "RFC = RandomForestClassifier()"
   ]
  },
  {
   "cell_type": "code",
   "execution_count": 103,
   "id": "cec55654",
   "metadata": {},
   "outputs": [
    {
     "data": {
      "text/plain": [
       "RandomForestClassifier()"
      ]
     },
     "execution_count": 103,
     "metadata": {},
     "output_type": "execute_result"
    }
   ],
   "source": [
    "model5 = RFC.fit(x_train ,y_train)\n",
    "model5"
   ]
  },
  {
   "cell_type": "code",
   "execution_count": 104,
   "id": "082a58fa",
   "metadata": {},
   "outputs": [
    {
     "data": {
      "text/plain": [
       "array([1, 0, 0, 0, 1, 1, 1, 1, 0, 0, 1, 1, 1, 1, 0, 1, 0, 0, 1, 0, 1, 0,\n",
       "       1, 0, 1, 0, 0, 0, 0, 1, 1, 0, 1, 1, 0, 1, 0, 1, 1, 1, 1, 0, 1, 1,\n",
       "       1, 0, 1, 0, 1, 0, 1, 1, 1, 1, 1, 0, 1, 1, 1, 1, 1, 1, 1, 0, 1, 1,\n",
       "       1, 1, 1, 1, 0, 1, 1, 0, 1], dtype=int64)"
      ]
     },
     "execution_count": 104,
     "metadata": {},
     "output_type": "execute_result"
    }
   ],
   "source": [
    "RFC_pred = RFC.predict(x_test)\n",
    "RFC_pred"
   ]
  },
  {
   "cell_type": "code",
   "execution_count": 105,
   "id": "53aa5a48",
   "metadata": {},
   "outputs": [
    {
     "data": {
      "text/plain": [
       "0.9866666666666667"
      ]
     },
     "execution_count": 105,
     "metadata": {},
     "output_type": "execute_result"
    }
   ],
   "source": [
    "RFC_acc = accuracy_score(y_test , RFC_pred)\n",
    "RFC_acc"
   ]
  },
  {
   "cell_type": "code",
   "execution_count": 106,
   "id": "e4048397",
   "metadata": {},
   "outputs": [
    {
     "data": {
      "text/plain": [
       "array([1.  , 1.  , 1.  , 0.98, 1.  ])"
      ]
     },
     "execution_count": 106,
     "metadata": {},
     "output_type": "execute_result"
    }
   ],
   "source": [
    "# Cross validating the model\n",
    "RFC_scores = cross_val_score(RFC, x, y, cv = 5) \n",
    "RFC_scores"
   ]
  },
  {
   "cell_type": "code",
   "execution_count": 107,
   "id": "637bf3f2",
   "metadata": {},
   "outputs": [
    {
     "data": {
      "text/plain": [
       "99.60000000000001"
      ]
     },
     "execution_count": 107,
     "metadata": {},
     "output_type": "execute_result"
    }
   ],
   "source": [
    "# mean of accuracy scores of Random Forest Classifier. \n",
    "mean_RFC = RFC_scores.mean()*100\n",
    "mean_RFC "
   ]
  },
  {
   "cell_type": "code",
   "execution_count": 108,
   "id": "783ad4dc",
   "metadata": {},
   "outputs": [
    {
     "name": "stdout",
     "output_type": "stream",
     "text": [
      "Accuracy Score of Random Forest Classifier is 98.66666666666667\n",
      "\n",
      "Accuracy score of each cross validation cycle :  [1.   1.   1.   0.98 1.  ]\n",
      "\n",
      "Mean of accuracy score for Random Forest Classifier is 99.60000000000001\n",
      "\n"
     ]
    }
   ],
   "source": [
    "print(\"Accuracy Score of Random Forest Classifier is\", accuracy_score(y_test, RFC_pred)*100)\n",
    "print(f\"\\nAccuracy score of each cross validation cycle : \",RFC_scores)\n",
    "print(f\"\\nMean of accuracy score for Random Forest Classifier is {RFC_scores.mean()*100}\\n\")"
   ]
  },
  {
   "cell_type": "code",
   "execution_count": 109,
   "id": "25971ca2",
   "metadata": {},
   "outputs": [],
   "source": [
    "score = accuracy_score(y_test , RFC_pred)\n",
    "accscore.append(score)\n",
    "model_name.append(\"RFC\")"
   ]
  },
  {
   "cell_type": "code",
   "execution_count": 110,
   "id": "6b743ad7",
   "metadata": {},
   "outputs": [
    {
     "name": "stdout",
     "output_type": "stream",
     "text": [
      "              precision    recall  f1-score   support\n",
      "\n",
      "           0       0.96      1.00      0.98        25\n",
      "           1       1.00      0.98      0.99        50\n",
      "\n",
      "    accuracy                           0.99        75\n",
      "   macro avg       0.98      0.99      0.99        75\n",
      "weighted avg       0.99      0.99      0.99        75\n",
      "\n"
     ]
    }
   ],
   "source": [
    "print(classification_report(y_test, RFC_pred))"
   ]
  },
  {
   "cell_type": "code",
   "execution_count": 111,
   "id": "a1ef0c52",
   "metadata": {},
   "outputs": [
    {
     "data": {
      "text/plain": [
       "array([[25,  0],\n",
       "       [ 1, 49]], dtype=int64)"
      ]
     },
     "execution_count": 111,
     "metadata": {},
     "output_type": "execute_result"
    }
   ],
   "source": [
    "confusion_matrix(y_test, RFC_pred)"
   ]
  },
  {
   "cell_type": "markdown",
   "id": "60874973",
   "metadata": {},
   "source": [
    "### 6) Gaussian NB"
   ]
  },
  {
   "cell_type": "code",
   "execution_count": 112,
   "id": "1d9e1ff3",
   "metadata": {},
   "outputs": [],
   "source": [
    "from sklearn.naive_bayes import GaussianNB\n",
    "gnb = GaussianNB()"
   ]
  },
  {
   "cell_type": "code",
   "execution_count": 113,
   "id": "b424e87b",
   "metadata": {},
   "outputs": [
    {
     "data": {
      "text/plain": [
       "GaussianNB()"
      ]
     },
     "execution_count": 113,
     "metadata": {},
     "output_type": "execute_result"
    }
   ],
   "source": [
    "model6 = gnb.fit(x_train ,y_train)\n",
    "model6"
   ]
  },
  {
   "cell_type": "code",
   "execution_count": 114,
   "id": "62100a8d",
   "metadata": {},
   "outputs": [
    {
     "data": {
      "text/plain": [
       "array([1, 0, 0, 0, 1, 1, 1, 1, 0, 0, 1, 1, 1, 1, 0, 1, 1, 0, 1, 0, 1, 0,\n",
       "       1, 0, 1, 0, 0, 0, 0, 1, 1, 0, 1, 1, 0, 1, 0, 1, 1, 1, 1, 0, 1, 1,\n",
       "       1, 0, 1, 0, 1, 0, 1, 1, 1, 1, 1, 0, 1, 1, 1, 1, 1, 1, 1, 0, 1, 1,\n",
       "       1, 1, 1, 1, 0, 1, 1, 0, 1], dtype=int64)"
      ]
     },
     "execution_count": 114,
     "metadata": {},
     "output_type": "execute_result"
    }
   ],
   "source": [
    "gnb_pred = gnb.predict(x_test)\n",
    "gnb_pred"
   ]
  },
  {
   "cell_type": "code",
   "execution_count": 115,
   "id": "3d238e79",
   "metadata": {},
   "outputs": [
    {
     "data": {
      "text/plain": [
       "1.0"
      ]
     },
     "execution_count": 115,
     "metadata": {},
     "output_type": "execute_result"
    }
   ],
   "source": [
    "gnb_acc = accuracy_score(y_test , gnb_pred)\n",
    "gnb_acc"
   ]
  },
  {
   "cell_type": "code",
   "execution_count": 116,
   "id": "c84d2518",
   "metadata": {},
   "outputs": [
    {
     "data": {
      "text/plain": [
       "array([0.98, 0.98, 0.96, 0.96, 0.98])"
      ]
     },
     "execution_count": 116,
     "metadata": {},
     "output_type": "execute_result"
    }
   ],
   "source": [
    "# Cross validating the model\n",
    "gnb_scores = cross_val_score(gnb, x, y, cv = 5) \n",
    "gnb_scores"
   ]
  },
  {
   "cell_type": "code",
   "execution_count": 117,
   "id": "b55e1437",
   "metadata": {},
   "outputs": [
    {
     "data": {
      "text/plain": [
       "97.19999999999999"
      ]
     },
     "execution_count": 117,
     "metadata": {},
     "output_type": "execute_result"
    }
   ],
   "source": [
    "# mean of accuracy scores of Random Forest Classifier. \n",
    "mean_gnb = gnb_scores.mean()*100\n",
    "mean_gnb"
   ]
  },
  {
   "cell_type": "code",
   "execution_count": 118,
   "id": "88b9ddac",
   "metadata": {},
   "outputs": [
    {
     "name": "stdout",
     "output_type": "stream",
     "text": [
      "Accuracy Score of Gaussian NB is 100.0\n",
      "\n",
      "Accuracy score of each cross validation cycle :  [0.98 0.98 0.96 0.96 0.98]\n",
      "\n",
      "Mean of accuracy score for Gaussian NB is 97.19999999999999\n",
      "\n"
     ]
    }
   ],
   "source": [
    "print(\"Accuracy Score of Gaussian NB is\", accuracy_score(y_test, gnb_pred)*100)\n",
    "print(f\"\\nAccuracy score of each cross validation cycle : \",gnb_scores)\n",
    "print(f\"\\nMean of accuracy score for Gaussian NB is {gnb_scores.mean()*100}\\n\")"
   ]
  },
  {
   "cell_type": "code",
   "execution_count": 119,
   "id": "d040f982",
   "metadata": {},
   "outputs": [],
   "source": [
    "score = accuracy_score(y_test , gnb_pred)\n",
    "accscore.append(score)\n",
    "model_name.append(\"gnb\")"
   ]
  },
  {
   "cell_type": "code",
   "execution_count": 120,
   "id": "5c4bdc08",
   "metadata": {},
   "outputs": [
    {
     "name": "stdout",
     "output_type": "stream",
     "text": [
      "              precision    recall  f1-score   support\n",
      "\n",
      "           0       1.00      1.00      1.00        25\n",
      "           1       1.00      1.00      1.00        50\n",
      "\n",
      "    accuracy                           1.00        75\n",
      "   macro avg       1.00      1.00      1.00        75\n",
      "weighted avg       1.00      1.00      1.00        75\n",
      "\n"
     ]
    }
   ],
   "source": [
    "print(classification_report(y_test, gnb_pred))"
   ]
  },
  {
   "cell_type": "code",
   "execution_count": 121,
   "id": "6de3d199",
   "metadata": {},
   "outputs": [
    {
     "data": {
      "text/plain": [
       "array([[25,  0],\n",
       "       [ 0, 50]], dtype=int64)"
      ]
     },
     "execution_count": 121,
     "metadata": {},
     "output_type": "execute_result"
    }
   ],
   "source": [
    "confusion_matrix(y_test, gnb_pred)"
   ]
  },
  {
   "cell_type": "markdown",
   "id": "a2450449",
   "metadata": {},
   "source": [
    "### 7) Multinominal NB"
   ]
  },
  {
   "cell_type": "code",
   "execution_count": 122,
   "id": "39eea137",
   "metadata": {},
   "outputs": [],
   "source": [
    "from sklearn.naive_bayes import MultinomialNB\n",
    "mnb  = MultinomialNB()"
   ]
  },
  {
   "cell_type": "code",
   "execution_count": 123,
   "id": "a5f9ecef",
   "metadata": {},
   "outputs": [
    {
     "data": {
      "text/plain": [
       "MultinomialNB()"
      ]
     },
     "execution_count": 123,
     "metadata": {},
     "output_type": "execute_result"
    }
   ],
   "source": [
    "model7 = mnb.fit(x_train ,y_train)\n",
    "model7"
   ]
  },
  {
   "cell_type": "code",
   "execution_count": 124,
   "id": "1893d47b",
   "metadata": {},
   "outputs": [
    {
     "data": {
      "text/plain": [
       "array([1, 0, 0, 0, 1, 1, 1, 1, 0, 0, 1, 1, 1, 1, 0, 1, 1, 0, 1, 0, 1, 0,\n",
       "       1, 0, 1, 0, 0, 0, 0, 1, 1, 0, 1, 1, 0, 1, 0, 1, 1, 1, 1, 0, 1, 1,\n",
       "       1, 0, 1, 0, 1, 0, 1, 1, 1, 1, 1, 0, 1, 1, 1, 1, 1, 1, 1, 0, 1, 1,\n",
       "       1, 1, 1, 1, 0, 1, 1, 0, 1], dtype=int64)"
      ]
     },
     "execution_count": 124,
     "metadata": {},
     "output_type": "execute_result"
    }
   ],
   "source": [
    "mnb_pred = mnb.predict(x_test)\n",
    "mnb_pred"
   ]
  },
  {
   "cell_type": "code",
   "execution_count": 125,
   "id": "addb4c14",
   "metadata": {},
   "outputs": [
    {
     "data": {
      "text/plain": [
       "1.0"
      ]
     },
     "execution_count": 125,
     "metadata": {},
     "output_type": "execute_result"
    }
   ],
   "source": [
    "mnb_acc = accuracy_score(y_test , mnb_pred)\n",
    "mnb_acc"
   ]
  },
  {
   "cell_type": "code",
   "execution_count": 126,
   "id": "3388bcb7",
   "metadata": {},
   "outputs": [
    {
     "data": {
      "text/plain": [
       "array([0.98, 0.98, 0.96, 0.98, 0.98])"
      ]
     },
     "execution_count": 126,
     "metadata": {},
     "output_type": "execute_result"
    }
   ],
   "source": [
    "# Cross validating the model\n",
    "mnb_scores = cross_val_score(mnb, x, y, cv = 5) \n",
    "mnb_scores"
   ]
  },
  {
   "cell_type": "code",
   "execution_count": 127,
   "id": "c3581c49",
   "metadata": {},
   "outputs": [
    {
     "data": {
      "text/plain": [
       "97.6"
      ]
     },
     "execution_count": 127,
     "metadata": {},
     "output_type": "execute_result"
    }
   ],
   "source": [
    "# mean of accuracy scores of Random Forest Classifier. \n",
    "mean_mnb = mnb_scores.mean()*100\n",
    "mean_mnb"
   ]
  },
  {
   "cell_type": "code",
   "execution_count": 128,
   "id": "0a601604",
   "metadata": {},
   "outputs": [
    {
     "name": "stdout",
     "output_type": "stream",
     "text": [
      "Accuracy Score of Multinomial NB is 100.0\n",
      "\n",
      "Accuracy score of each cross validation cycle :  [0.98 0.98 0.96 0.98 0.98]\n",
      "\n",
      "Mean of accuracy score for Multinomial NB is 97.6\n",
      "\n"
     ]
    }
   ],
   "source": [
    "print(\"Accuracy Score of Multinomial NB is\", accuracy_score(y_test, mnb_pred)*100)\n",
    "print(f\"\\nAccuracy score of each cross validation cycle : \",mnb_scores)\n",
    "print(f\"\\nMean of accuracy score for Multinomial NB is {mnb_scores.mean()*100}\\n\")"
   ]
  },
  {
   "cell_type": "code",
   "execution_count": 129,
   "id": "0e37e6f6",
   "metadata": {},
   "outputs": [],
   "source": [
    "score = accuracy_score(y_test , mnb_pred)\n",
    "accscore.append(score)\n",
    "model_name.append(\"mnb\")"
   ]
  },
  {
   "cell_type": "code",
   "execution_count": 130,
   "id": "491558ea",
   "metadata": {},
   "outputs": [
    {
     "name": "stdout",
     "output_type": "stream",
     "text": [
      "              precision    recall  f1-score   support\n",
      "\n",
      "           0       1.00      1.00      1.00        25\n",
      "           1       1.00      1.00      1.00        50\n",
      "\n",
      "    accuracy                           1.00        75\n",
      "   macro avg       1.00      1.00      1.00        75\n",
      "weighted avg       1.00      1.00      1.00        75\n",
      "\n"
     ]
    }
   ],
   "source": [
    "print(classification_report(y_test, mnb_pred))"
   ]
  },
  {
   "cell_type": "code",
   "execution_count": 131,
   "id": "ee3a92b3",
   "metadata": {},
   "outputs": [
    {
     "data": {
      "text/plain": [
       "array([[25,  0],\n",
       "       [ 0, 50]], dtype=int64)"
      ]
     },
     "execution_count": 131,
     "metadata": {},
     "output_type": "execute_result"
    }
   ],
   "source": [
    "confusion_matrix(y_test, mnb_pred)"
   ]
  },
  {
   "cell_type": "markdown",
   "id": "e2322279",
   "metadata": {},
   "source": [
    "### 8) Adaboost Classifier"
   ]
  },
  {
   "cell_type": "code",
   "execution_count": 132,
   "id": "8e8cbd69",
   "metadata": {},
   "outputs": [],
   "source": [
    "from sklearn.ensemble import AdaBoostClassifier\n",
    "ada = AdaBoostClassifier()"
   ]
  },
  {
   "cell_type": "code",
   "execution_count": 133,
   "id": "7715fce2",
   "metadata": {},
   "outputs": [
    {
     "data": {
      "text/plain": [
       "AdaBoostClassifier()"
      ]
     },
     "execution_count": 133,
     "metadata": {},
     "output_type": "execute_result"
    }
   ],
   "source": [
    "model8 = ada.fit(x_train ,y_train)\n",
    "model8"
   ]
  },
  {
   "cell_type": "code",
   "execution_count": 134,
   "id": "00b0ee46",
   "metadata": {},
   "outputs": [
    {
     "data": {
      "text/plain": [
       "array([1, 0, 0, 0, 1, 1, 1, 1, 0, 0, 1, 1, 1, 1, 0, 1, 0, 0, 1, 0, 1, 0,\n",
       "       1, 0, 1, 0, 0, 0, 0, 1, 1, 0, 1, 1, 0, 1, 0, 1, 1, 1, 1, 0, 1, 1,\n",
       "       1, 0, 1, 0, 1, 0, 1, 1, 1, 1, 1, 0, 1, 1, 1, 1, 1, 1, 1, 0, 1, 1,\n",
       "       1, 1, 1, 1, 0, 1, 1, 0, 1], dtype=int64)"
      ]
     },
     "execution_count": 134,
     "metadata": {},
     "output_type": "execute_result"
    }
   ],
   "source": [
    "ada_pred = ada.predict(x_test)\n",
    "ada_pred"
   ]
  },
  {
   "cell_type": "code",
   "execution_count": 135,
   "id": "bea03c56",
   "metadata": {},
   "outputs": [
    {
     "data": {
      "text/plain": [
       "0.9866666666666667"
      ]
     },
     "execution_count": 135,
     "metadata": {},
     "output_type": "execute_result"
    }
   ],
   "source": [
    "ada_acc = accuracy_score(y_test , ada_pred)\n",
    "ada_acc"
   ]
  },
  {
   "cell_type": "code",
   "execution_count": 136,
   "id": "ebf877e9",
   "metadata": {},
   "outputs": [
    {
     "data": {
      "text/plain": [
       "array([1.  , 1.  , 1.  , 0.96, 1.  ])"
      ]
     },
     "execution_count": 136,
     "metadata": {},
     "output_type": "execute_result"
    }
   ],
   "source": [
    "# Cross validating the model\n",
    "ada_scores = cross_val_score(ada, x, y, cv = 5) \n",
    "ada_scores"
   ]
  },
  {
   "cell_type": "code",
   "execution_count": 137,
   "id": "9a4af67a",
   "metadata": {},
   "outputs": [
    {
     "data": {
      "text/plain": [
       "99.2"
      ]
     },
     "execution_count": 137,
     "metadata": {},
     "output_type": "execute_result"
    }
   ],
   "source": [
    "# mean of accuracy scores of Adaboost Classifier. \n",
    "mean_ada = ada_scores.mean()*100\n",
    "mean_ada"
   ]
  },
  {
   "cell_type": "code",
   "execution_count": 138,
   "id": "bc498115",
   "metadata": {},
   "outputs": [
    {
     "name": "stdout",
     "output_type": "stream",
     "text": [
      "Accuracy Score of Adaboost Classifier is 98.66666666666667\n",
      "\n",
      "Accuracy score of each cross validation cycle :  [1.   1.   1.   0.96 1.  ]\n",
      "\n",
      "Mean of accuracy score for Adaboost Classifier is 99.2\n",
      "\n"
     ]
    }
   ],
   "source": [
    "print(\"Accuracy Score of Adaboost Classifier is\", accuracy_score(y_test, ada_pred)*100)\n",
    "print(f\"\\nAccuracy score of each cross validation cycle : \",ada_scores)\n",
    "print(f\"\\nMean of accuracy score for Adaboost Classifier is {ada_scores.mean()*100}\\n\")"
   ]
  },
  {
   "cell_type": "code",
   "execution_count": 139,
   "id": "f0f6a6b1",
   "metadata": {},
   "outputs": [],
   "source": [
    "score = accuracy_score(y_test , ada_pred)\n",
    "accscore.append(score)\n",
    "model_name.append(\"ada\")"
   ]
  },
  {
   "cell_type": "code",
   "execution_count": 140,
   "id": "4f1ef215",
   "metadata": {},
   "outputs": [
    {
     "name": "stdout",
     "output_type": "stream",
     "text": [
      "              precision    recall  f1-score   support\n",
      "\n",
      "           0       0.96      1.00      0.98        25\n",
      "           1       1.00      0.98      0.99        50\n",
      "\n",
      "    accuracy                           0.99        75\n",
      "   macro avg       0.98      0.99      0.99        75\n",
      "weighted avg       0.99      0.99      0.99        75\n",
      "\n"
     ]
    }
   ],
   "source": [
    "print(classification_report(y_test, ada_pred))"
   ]
  },
  {
   "cell_type": "code",
   "execution_count": 141,
   "id": "81b4f7dd",
   "metadata": {},
   "outputs": [
    {
     "data": {
      "text/plain": [
       "array([[25,  0],\n",
       "       [ 1, 49]], dtype=int64)"
      ]
     },
     "execution_count": 141,
     "metadata": {},
     "output_type": "execute_result"
    }
   ],
   "source": [
    "confusion_matrix(y_test, ada_pred)"
   ]
  },
  {
   "cell_type": "markdown",
   "id": "b702738d",
   "metadata": {},
   "source": [
    "### 9) XG Boost"
   ]
  },
  {
   "cell_type": "code",
   "execution_count": 142,
   "id": "2603e686",
   "metadata": {},
   "outputs": [],
   "source": [
    "#!pip install xgboost"
   ]
  },
  {
   "cell_type": "code",
   "execution_count": 143,
   "id": "fcd574ac",
   "metadata": {},
   "outputs": [],
   "source": [
    "from xgboost import XGBClassifier\n",
    "from sklearn.metrics import accuracy_score\n",
    "from sklearn import metrics\n",
    "xgb = XGBClassifier()"
   ]
  },
  {
   "cell_type": "code",
   "execution_count": 144,
   "id": "f13ce087",
   "metadata": {},
   "outputs": [
    {
     "data": {
      "text/plain": [
       "XGBClassifier(base_score=None, booster=None, callbacks=None,\n",
       "              colsample_bylevel=None, colsample_bynode=None,\n",
       "              colsample_bytree=None, early_stopping_rounds=None,\n",
       "              enable_categorical=False, eval_metric=None, feature_types=None,\n",
       "              gamma=None, gpu_id=None, grow_policy=None, importance_type=None,\n",
       "              interaction_constraints=None, learning_rate=None, max_bin=None,\n",
       "              max_cat_threshold=None, max_cat_to_onehot=None,\n",
       "              max_delta_step=None, max_depth=None, max_leaves=None,\n",
       "              min_child_weight=None, missing=nan, monotone_constraints=None,\n",
       "              n_estimators=100, n_jobs=None, num_parallel_tree=None,\n",
       "              predictor=None, random_state=None, ...)"
      ]
     },
     "execution_count": 144,
     "metadata": {},
     "output_type": "execute_result"
    }
   ],
   "source": [
    "xgb.fit(x_train ,y_train)"
   ]
  },
  {
   "cell_type": "code",
   "execution_count": 145,
   "id": "8e4db1c7",
   "metadata": {},
   "outputs": [
    {
     "data": {
      "text/plain": [
       "array([1, 0, 0, 0, 1, 1, 1, 1, 0, 0, 1, 1, 1, 1, 0, 1, 0, 0, 1, 0, 1, 0,\n",
       "       1, 0, 1, 0, 0, 0, 0, 1, 1, 0, 1, 1, 0, 1, 0, 1, 1, 1, 1, 0, 1, 1,\n",
       "       1, 0, 1, 0, 1, 0, 1, 1, 1, 1, 1, 0, 1, 1, 1, 1, 1, 1, 1, 0, 1, 1,\n",
       "       1, 1, 1, 1, 0, 1, 1, 0, 1])"
      ]
     },
     "execution_count": 145,
     "metadata": {},
     "output_type": "execute_result"
    }
   ],
   "source": [
    "xgb_pred = xgb.predict(x_test)\n",
    "xgb_pred"
   ]
  },
  {
   "cell_type": "code",
   "execution_count": 146,
   "id": "7c3dda6c",
   "metadata": {},
   "outputs": [
    {
     "data": {
      "text/plain": [
       "0.9866666666666667"
      ]
     },
     "execution_count": 146,
     "metadata": {},
     "output_type": "execute_result"
    }
   ],
   "source": [
    "xgb_acc = accuracy_score(y_test , xgb_pred)\n",
    "xgb_acc"
   ]
  },
  {
   "cell_type": "code",
   "execution_count": 147,
   "id": "c85d01e3",
   "metadata": {},
   "outputs": [
    {
     "data": {
      "text/plain": [
       "array([1.  , 1.  , 1.  , 0.98, 1.  ])"
      ]
     },
     "execution_count": 147,
     "metadata": {},
     "output_type": "execute_result"
    }
   ],
   "source": [
    "# Cross validating the model\n",
    "xgb_scores = cross_val_score(xgb, x, y, cv = 5) \n",
    "xgb_scores"
   ]
  },
  {
   "cell_type": "code",
   "execution_count": 148,
   "id": "42346a19",
   "metadata": {},
   "outputs": [
    {
     "data": {
      "text/plain": [
       "99.60000000000001"
      ]
     },
     "execution_count": 148,
     "metadata": {},
     "output_type": "execute_result"
    }
   ],
   "source": [
    "# mean of accuracy scores of XGboost Classifier. \n",
    "mean_xgb = xgb_scores.mean()*100\n",
    "mean_xgb"
   ]
  },
  {
   "cell_type": "code",
   "execution_count": 149,
   "id": "8d68cd82",
   "metadata": {},
   "outputs": [
    {
     "name": "stdout",
     "output_type": "stream",
     "text": [
      "Accuracy Score of XGboost Classifier is 98.66666666666667\n",
      "\n",
      "Accuracy score of each cross validation cycle :  [1.   1.   1.   0.98 1.  ]\n",
      "\n",
      "Mean of accuracy score for XGboost Classifier is 99.60000000000001\n",
      "\n"
     ]
    }
   ],
   "source": [
    "print(\"Accuracy Score of XGboost Classifier is\", accuracy_score(y_test, xgb_pred)*100)\n",
    "print(f\"\\nAccuracy score of each cross validation cycle : \",xgb_scores)\n",
    "print(f\"\\nMean of accuracy score for XGboost Classifier is {xgb_scores.mean()*100}\\n\")"
   ]
  },
  {
   "cell_type": "code",
   "execution_count": 150,
   "id": "ad25cddd",
   "metadata": {},
   "outputs": [],
   "source": [
    "score = metrics.accuracy_score(y_test , xgb_pred)\n",
    "accscore.append(score)\n",
    "model_name.append(\"xgb\")"
   ]
  },
  {
   "cell_type": "code",
   "execution_count": 151,
   "id": "c24d5746",
   "metadata": {},
   "outputs": [
    {
     "name": "stdout",
     "output_type": "stream",
     "text": [
      "              precision    recall  f1-score   support\n",
      "\n",
      "           0       0.96      1.00      0.98        25\n",
      "           1       1.00      0.98      0.99        50\n",
      "\n",
      "    accuracy                           0.99        75\n",
      "   macro avg       0.98      0.99      0.99        75\n",
      "weighted avg       0.99      0.99      0.99        75\n",
      "\n"
     ]
    }
   ],
   "source": [
    "print(classification_report(y_test, xgb_pred))"
   ]
  },
  {
   "cell_type": "code",
   "execution_count": 152,
   "id": "ed9de42d",
   "metadata": {},
   "outputs": [
    {
     "name": "stdout",
     "output_type": "stream",
     "text": [
      "              precision    recall  f1-score   support\n",
      "\n",
      "           0       0.96      1.00      0.98        25\n",
      "           1       1.00      0.98      0.99        50\n",
      "\n",
      "    accuracy                           0.99        75\n",
      "   macro avg       0.98      0.99      0.99        75\n",
      "weighted avg       0.99      0.99      0.99        75\n",
      "\n"
     ]
    }
   ],
   "source": [
    "print(classification_report(y_test, xgb_pred))"
   ]
  },
  {
   "cell_type": "code",
   "execution_count": 153,
   "id": "48592d67",
   "metadata": {},
   "outputs": [
    {
     "data": {
      "text/plain": [
       "array([[25,  0],\n",
       "       [ 1, 49]], dtype=int64)"
      ]
     },
     "execution_count": 153,
     "metadata": {},
     "output_type": "execute_result"
    }
   ],
   "source": [
    "confusion_matrix(y_test, xgb_pred)"
   ]
  },
  {
   "cell_type": "markdown",
   "id": "e8d861d3",
   "metadata": {},
   "source": [
    "### 10) ANN"
   ]
  },
  {
   "cell_type": "code",
   "execution_count": 154,
   "id": "60a4b71d",
   "metadata": {},
   "outputs": [],
   "source": [
    "#!pip install tensorflow"
   ]
  },
  {
   "cell_type": "code",
   "execution_count": 155,
   "id": "f9294aa8",
   "metadata": {},
   "outputs": [],
   "source": [
    "import tensorflow as tf\n",
    "from tensorflow import keras\n",
    "from tensorflow.keras import layers\n",
    "\n",
    "\n",
    "ANN = keras.Sequential()\n",
    "ANN.add(tf.keras.layers.Dense(20 , input_dim = 6,  activation = 'relu')) #1st layer or input layer.\n",
    "ANN.add(tf.keras.layers.Dense(10 ,  activation = 'relu')) #2nd layer.\n",
    "ANN.add(tf.keras.layers.Dense(10 ,  activation = 'relu')) #3nd layer.\n",
    "ANN.add(tf.keras.layers.Dense(1, activation = 'sigmoid')) #4th layer or output layer."
   ]
  },
  {
   "cell_type": "code",
   "execution_count": 156,
   "id": "89a7676c",
   "metadata": {},
   "outputs": [],
   "source": [
    "# Compile model\n",
    "\n",
    "ANN.compile(loss = 'binary_crossentropy', optimizer = 'adam', metrics = ['accuracy'])"
   ]
  },
  {
   "cell_type": "code",
   "execution_count": 157,
   "id": "ff97f786",
   "metadata": {},
   "outputs": [
    {
     "name": "stdout",
     "output_type": "stream",
     "text": [
      "Epoch 1/250\n",
      "30/30 [==============================] - 4s 16ms/step - loss: 0.6817 - accuracy: 0.5771 - val_loss: 0.6090 - val_accuracy: 0.9467\n",
      "Epoch 2/250\n",
      "30/30 [==============================] - 0s 4ms/step - loss: 0.6283 - accuracy: 0.8857 - val_loss: 0.5605 - val_accuracy: 0.9467\n",
      "Epoch 3/250\n",
      "30/30 [==============================] - 0s 4ms/step - loss: 0.5498 - accuracy: 0.9657 - val_loss: 0.4604 - val_accuracy: 0.9600\n",
      "Epoch 4/250\n",
      "30/30 [==============================] - 0s 4ms/step - loss: 0.4393 - accuracy: 0.9886 - val_loss: 0.3255 - val_accuracy: 0.9733\n",
      "Epoch 5/250\n",
      "30/30 [==============================] - 0s 4ms/step - loss: 0.3197 - accuracy: 0.9886 - val_loss: 0.2197 - val_accuracy: 0.9733\n",
      "Epoch 6/250\n",
      "30/30 [==============================] - 0s 4ms/step - loss: 0.2207 - accuracy: 0.9886 - val_loss: 0.1687 - val_accuracy: 0.9733\n",
      "Epoch 7/250\n",
      "30/30 [==============================] - 0s 4ms/step - loss: 0.1491 - accuracy: 0.9886 - val_loss: 0.1077 - val_accuracy: 0.9733\n",
      "Epoch 8/250\n",
      "30/30 [==============================] - 0s 4ms/step - loss: 0.1073 - accuracy: 0.9886 - val_loss: 0.0960 - val_accuracy: 0.9733\n",
      "Epoch 9/250\n",
      "30/30 [==============================] - 0s 4ms/step - loss: 0.0820 - accuracy: 0.9886 - val_loss: 0.0670 - val_accuracy: 0.9867\n",
      "Epoch 10/250\n",
      "30/30 [==============================] - 0s 4ms/step - loss: 0.0652 - accuracy: 0.9943 - val_loss: 0.0672 - val_accuracy: 0.9733\n",
      "Epoch 11/250\n",
      "30/30 [==============================] - 0s 4ms/step - loss: 0.0543 - accuracy: 0.9943 - val_loss: 0.0511 - val_accuracy: 0.9867\n",
      "Epoch 12/250\n",
      "30/30 [==============================] - 0s 4ms/step - loss: 0.0452 - accuracy: 0.9886 - val_loss: 0.0616 - val_accuracy: 0.9733\n",
      "Epoch 13/250\n",
      "30/30 [==============================] - 0s 4ms/step - loss: 0.0389 - accuracy: 0.9886 - val_loss: 0.0500 - val_accuracy: 0.9733\n",
      "Epoch 14/250\n",
      "30/30 [==============================] - 0s 5ms/step - loss: 0.0342 - accuracy: 0.9886 - val_loss: 0.0414 - val_accuracy: 0.9867\n",
      "Epoch 15/250\n",
      "30/30 [==============================] - 0s 4ms/step - loss: 0.0304 - accuracy: 0.9886 - val_loss: 0.0414 - val_accuracy: 0.9733\n",
      "Epoch 16/250\n",
      "30/30 [==============================] - 0s 4ms/step - loss: 0.0277 - accuracy: 0.9886 - val_loss: 0.0353 - val_accuracy: 0.9867\n",
      "Epoch 17/250\n",
      "30/30 [==============================] - 0s 4ms/step - loss: 0.0245 - accuracy: 0.9886 - val_loss: 0.0342 - val_accuracy: 0.9867\n",
      "Epoch 18/250\n",
      "30/30 [==============================] - 0s 4ms/step - loss: 0.0211 - accuracy: 0.9943 - val_loss: 0.0291 - val_accuracy: 0.9867\n",
      "Epoch 19/250\n",
      "30/30 [==============================] - 0s 4ms/step - loss: 0.0191 - accuracy: 0.9943 - val_loss: 0.0293 - val_accuracy: 0.9867\n",
      "Epoch 20/250\n",
      "30/30 [==============================] - 0s 4ms/step - loss: 0.0172 - accuracy: 0.9943 - val_loss: 0.0282 - val_accuracy: 0.9867\n",
      "Epoch 21/250\n",
      "30/30 [==============================] - 0s 4ms/step - loss: 0.0149 - accuracy: 1.0000 - val_loss: 0.0315 - val_accuracy: 0.9867\n",
      "Epoch 22/250\n",
      "30/30 [==============================] - 0s 4ms/step - loss: 0.0139 - accuracy: 1.0000 - val_loss: 0.0229 - val_accuracy: 0.9867\n",
      "Epoch 23/250\n",
      "30/30 [==============================] - 0s 4ms/step - loss: 0.0128 - accuracy: 1.0000 - val_loss: 0.0267 - val_accuracy: 0.9867\n",
      "Epoch 24/250\n",
      "30/30 [==============================] - 0s 4ms/step - loss: 0.0099 - accuracy: 1.0000 - val_loss: 0.0218 - val_accuracy: 0.9867\n",
      "Epoch 25/250\n",
      "30/30 [==============================] - 0s 4ms/step - loss: 0.0091 - accuracy: 1.0000 - val_loss: 0.0200 - val_accuracy: 1.0000\n",
      "Epoch 26/250\n",
      "30/30 [==============================] - 0s 4ms/step - loss: 0.0079 - accuracy: 1.0000 - val_loss: 0.0204 - val_accuracy: 0.9867\n",
      "Epoch 27/250\n",
      "30/30 [==============================] - 0s 4ms/step - loss: 0.0078 - accuracy: 1.0000 - val_loss: 0.0200 - val_accuracy: 1.0000\n",
      "Epoch 28/250\n",
      "30/30 [==============================] - 0s 4ms/step - loss: 0.0067 - accuracy: 1.0000 - val_loss: 0.0184 - val_accuracy: 1.0000\n",
      "Epoch 29/250\n",
      "30/30 [==============================] - 0s 4ms/step - loss: 0.0060 - accuracy: 1.0000 - val_loss: 0.0176 - val_accuracy: 1.0000\n",
      "Epoch 30/250\n",
      "30/30 [==============================] - 0s 4ms/step - loss: 0.0054 - accuracy: 1.0000 - val_loss: 0.0183 - val_accuracy: 1.0000\n",
      "Epoch 31/250\n",
      "30/30 [==============================] - 0s 5ms/step - loss: 0.0048 - accuracy: 1.0000 - val_loss: 0.0162 - val_accuracy: 1.0000\n",
      "Epoch 32/250\n",
      "30/30 [==============================] - 0s 4ms/step - loss: 0.0044 - accuracy: 1.0000 - val_loss: 0.0153 - val_accuracy: 1.0000\n",
      "Epoch 33/250\n",
      "30/30 [==============================] - 0s 4ms/step - loss: 0.0041 - accuracy: 1.0000 - val_loss: 0.0151 - val_accuracy: 1.0000\n",
      "Epoch 34/250\n",
      "30/30 [==============================] - 0s 3ms/step - loss: 0.0038 - accuracy: 1.0000 - val_loss: 0.0152 - val_accuracy: 1.0000\n",
      "Epoch 35/250\n",
      "30/30 [==============================] - 0s 4ms/step - loss: 0.0035 - accuracy: 1.0000 - val_loss: 0.0150 - val_accuracy: 1.0000\n",
      "Epoch 36/250\n",
      "30/30 [==============================] - 0s 4ms/step - loss: 0.0031 - accuracy: 1.0000 - val_loss: 0.0135 - val_accuracy: 1.0000\n",
      "Epoch 37/250\n",
      "30/30 [==============================] - 0s 4ms/step - loss: 0.0030 - accuracy: 1.0000 - val_loss: 0.0137 - val_accuracy: 1.0000\n",
      "Epoch 38/250\n",
      "30/30 [==============================] - 0s 4ms/step - loss: 0.0027 - accuracy: 1.0000 - val_loss: 0.0145 - val_accuracy: 1.0000\n",
      "Epoch 39/250\n",
      "30/30 [==============================] - 0s 5ms/step - loss: 0.0025 - accuracy: 1.0000 - val_loss: 0.0130 - val_accuracy: 1.0000\n",
      "Epoch 40/250\n",
      "30/30 [==============================] - 0s 4ms/step - loss: 0.0024 - accuracy: 1.0000 - val_loss: 0.0132 - val_accuracy: 1.0000\n",
      "Epoch 41/250\n",
      "30/30 [==============================] - 0s 3ms/step - loss: 0.0022 - accuracy: 1.0000 - val_loss: 0.0141 - val_accuracy: 1.0000\n",
      "Epoch 42/250\n",
      "30/30 [==============================] - 0s 5ms/step - loss: 0.0020 - accuracy: 1.0000 - val_loss: 0.0120 - val_accuracy: 1.0000\n",
      "Epoch 43/250\n",
      "30/30 [==============================] - 0s 4ms/step - loss: 0.0020 - accuracy: 1.0000 - val_loss: 0.0123 - val_accuracy: 1.0000\n",
      "Epoch 44/250\n",
      "30/30 [==============================] - 0s 3ms/step - loss: 0.0018 - accuracy: 1.0000 - val_loss: 0.0119 - val_accuracy: 1.0000\n",
      "Epoch 45/250\n",
      "30/30 [==============================] - 0s 3ms/step - loss: 0.0017 - accuracy: 1.0000 - val_loss: 0.0129 - val_accuracy: 1.0000\n",
      "Epoch 46/250\n",
      "30/30 [==============================] - 0s 3ms/step - loss: 0.0016 - accuracy: 1.0000 - val_loss: 0.0114 - val_accuracy: 1.0000\n",
      "Epoch 47/250\n",
      "30/30 [==============================] - 0s 4ms/step - loss: 0.0015 - accuracy: 1.0000 - val_loss: 0.0116 - val_accuracy: 1.0000\n",
      "Epoch 48/250\n",
      "30/30 [==============================] - 0s 4ms/step - loss: 0.0014 - accuracy: 1.0000 - val_loss: 0.0116 - val_accuracy: 1.0000\n",
      "Epoch 49/250\n",
      "30/30 [==============================] - 0s 4ms/step - loss: 0.0013 - accuracy: 1.0000 - val_loss: 0.0109 - val_accuracy: 1.0000\n",
      "Epoch 50/250\n",
      "30/30 [==============================] - 0s 4ms/step - loss: 0.0012 - accuracy: 1.0000 - val_loss: 0.0113 - val_accuracy: 1.0000\n",
      "Epoch 51/250\n",
      "30/30 [==============================] - 0s 4ms/step - loss: 0.0012 - accuracy: 1.0000 - val_loss: 0.0107 - val_accuracy: 1.0000\n",
      "Epoch 52/250\n",
      "30/30 [==============================] - 0s 4ms/step - loss: 0.0011 - accuracy: 1.0000 - val_loss: 0.0108 - val_accuracy: 1.0000\n",
      "Epoch 53/250\n",
      "30/30 [==============================] - 0s 3ms/step - loss: 0.0011 - accuracy: 1.0000 - val_loss: 0.0106 - val_accuracy: 1.0000\n",
      "Epoch 54/250\n",
      "30/30 [==============================] - 0s 4ms/step - loss: 0.0010 - accuracy: 1.0000 - val_loss: 0.0109 - val_accuracy: 1.0000\n",
      "Epoch 55/250\n",
      "30/30 [==============================] - 0s 3ms/step - loss: 9.3814e-04 - accuracy: 1.0000 - val_loss: 0.0101 - val_accuracy: 1.0000\n",
      "Epoch 56/250\n",
      "30/30 [==============================] - 0s 3ms/step - loss: 8.9167e-04 - accuracy: 1.0000 - val_loss: 0.0102 - val_accuracy: 1.0000\n",
      "Epoch 57/250\n",
      "30/30 [==============================] - 0s 4ms/step - loss: 8.5122e-04 - accuracy: 1.0000 - val_loss: 0.0101 - val_accuracy: 1.0000\n",
      "Epoch 58/250\n",
      "30/30 [==============================] - 0s 4ms/step - loss: 8.0773e-04 - accuracy: 1.0000 - val_loss: 0.0103 - val_accuracy: 1.0000\n",
      "Epoch 59/250\n",
      "30/30 [==============================] - 0s 4ms/step - loss: 9.7341e-04 - accuracy: 1.0000 - val_loss: 0.0072 - val_accuracy: 1.0000\n",
      "Epoch 60/250\n",
      "30/30 [==============================] - 0s 4ms/step - loss: 7.3707e-04 - accuracy: 1.0000 - val_loss: 0.0087 - val_accuracy: 1.0000\n",
      "Epoch 61/250\n",
      "30/30 [==============================] - 0s 3ms/step - loss: 6.6571e-04 - accuracy: 1.0000 - val_loss: 0.0090 - val_accuracy: 1.0000\n",
      "Epoch 62/250\n",
      "30/30 [==============================] - 0s 4ms/step - loss: 6.3333e-04 - accuracy: 1.0000 - val_loss: 0.0097 - val_accuracy: 1.0000\n",
      "Epoch 63/250\n",
      "30/30 [==============================] - 0s 4ms/step - loss: 6.0283e-04 - accuracy: 1.0000 - val_loss: 0.0092 - val_accuracy: 1.0000\n",
      "Epoch 64/250\n",
      "30/30 [==============================] - 0s 4ms/step - loss: 5.7688e-04 - accuracy: 1.0000 - val_loss: 0.0097 - val_accuracy: 1.0000\n",
      "Epoch 65/250\n",
      "30/30 [==============================] - 0s 5ms/step - loss: 5.4430e-04 - accuracy: 1.0000 - val_loss: 0.0096 - val_accuracy: 1.0000\n",
      "Epoch 66/250\n",
      "30/30 [==============================] - 0s 4ms/step - loss: 5.2397e-04 - accuracy: 1.0000 - val_loss: 0.0093 - val_accuracy: 1.0000\n",
      "Epoch 67/250\n",
      "30/30 [==============================] - 0s 4ms/step - loss: 5.0839e-04 - accuracy: 1.0000 - val_loss: 0.0097 - val_accuracy: 1.0000\n",
      "Epoch 68/250\n",
      "30/30 [==============================] - 0s 5ms/step - loss: 4.8643e-04 - accuracy: 1.0000 - val_loss: 0.0091 - val_accuracy: 1.0000\n",
      "Epoch 69/250\n",
      "30/30 [==============================] - 0s 4ms/step - loss: 4.6452e-04 - accuracy: 1.0000 - val_loss: 0.0095 - val_accuracy: 1.0000\n",
      "Epoch 70/250\n",
      "30/30 [==============================] - 0s 4ms/step - loss: 4.4509e-04 - accuracy: 1.0000 - val_loss: 0.0094 - val_accuracy: 1.0000\n",
      "Epoch 71/250\n",
      "30/30 [==============================] - 0s 4ms/step - loss: 4.2846e-04 - accuracy: 1.0000 - val_loss: 0.0092 - val_accuracy: 1.0000\n",
      "Epoch 72/250\n",
      "30/30 [==============================] - 0s 4ms/step - loss: 4.1754e-04 - accuracy: 1.0000 - val_loss: 0.0090 - val_accuracy: 1.0000\n",
      "Epoch 73/250\n",
      "30/30 [==============================] - 0s 5ms/step - loss: 3.9962e-04 - accuracy: 1.0000 - val_loss: 0.0092 - val_accuracy: 1.0000\n",
      "Epoch 74/250\n",
      "30/30 [==============================] - 0s 5ms/step - loss: 3.8413e-04 - accuracy: 1.0000 - val_loss: 0.0091 - val_accuracy: 1.0000\n",
      "Epoch 75/250\n",
      "30/30 [==============================] - 0s 4ms/step - loss: 3.7000e-04 - accuracy: 1.0000 - val_loss: 0.0089 - val_accuracy: 1.0000\n",
      "Epoch 76/250\n",
      "30/30 [==============================] - 0s 4ms/step - loss: 3.5774e-04 - accuracy: 1.0000 - val_loss: 0.0093 - val_accuracy: 1.0000\n",
      "Epoch 77/250\n",
      "30/30 [==============================] - 0s 5ms/step - loss: 3.4367e-04 - accuracy: 1.0000 - val_loss: 0.0092 - val_accuracy: 1.0000\n",
      "Epoch 78/250\n",
      "30/30 [==============================] - 0s 4ms/step - loss: 3.3092e-04 - accuracy: 1.0000 - val_loss: 0.0088 - val_accuracy: 1.0000\n",
      "Epoch 79/250\n",
      "30/30 [==============================] - 0s 4ms/step - loss: 3.2001e-04 - accuracy: 1.0000 - val_loss: 0.0088 - val_accuracy: 1.0000\n",
      "Epoch 80/250\n",
      "30/30 [==============================] - 0s 4ms/step - loss: 3.0906e-04 - accuracy: 1.0000 - val_loss: 0.0088 - val_accuracy: 1.0000\n",
      "Epoch 81/250\n",
      "30/30 [==============================] - 0s 4ms/step - loss: 2.9892e-04 - accuracy: 1.0000 - val_loss: 0.0088 - val_accuracy: 1.0000\n",
      "Epoch 82/250\n",
      "30/30 [==============================] - 0s 4ms/step - loss: 2.8888e-04 - accuracy: 1.0000 - val_loss: 0.0088 - val_accuracy: 1.0000\n",
      "Epoch 83/250\n",
      "30/30 [==============================] - 0s 5ms/step - loss: 2.8312e-04 - accuracy: 1.0000 - val_loss: 0.0087 - val_accuracy: 1.0000\n",
      "Epoch 84/250\n",
      "30/30 [==============================] - 0s 5ms/step - loss: 2.6966e-04 - accuracy: 1.0000 - val_loss: 0.0088 - val_accuracy: 1.0000\n",
      "Epoch 85/250\n",
      "30/30 [==============================] - 0s 4ms/step - loss: 2.6390e-04 - accuracy: 1.0000 - val_loss: 0.0088 - val_accuracy: 1.0000\n",
      "Epoch 86/250\n",
      "30/30 [==============================] - 0s 4ms/step - loss: 2.5356e-04 - accuracy: 1.0000 - val_loss: 0.0085 - val_accuracy: 1.0000\n",
      "Epoch 87/250\n",
      "30/30 [==============================] - 0s 5ms/step - loss: 2.4470e-04 - accuracy: 1.0000 - val_loss: 0.0086 - val_accuracy: 1.0000\n",
      "Epoch 88/250\n",
      "30/30 [==============================] - 0s 5ms/step - loss: 2.3684e-04 - accuracy: 1.0000 - val_loss: 0.0085 - val_accuracy: 1.0000\n",
      "Epoch 89/250\n",
      "30/30 [==============================] - 0s 5ms/step - loss: 2.3044e-04 - accuracy: 1.0000 - val_loss: 0.0083 - val_accuracy: 1.0000\n",
      "Epoch 90/250\n",
      "30/30 [==============================] - 0s 4ms/step - loss: 2.2253e-04 - accuracy: 1.0000 - val_loss: 0.0084 - val_accuracy: 1.0000\n",
      "Epoch 91/250\n",
      "30/30 [==============================] - 0s 4ms/step - loss: 2.1551e-04 - accuracy: 1.0000 - val_loss: 0.0084 - val_accuracy: 1.0000\n",
      "Epoch 92/250\n",
      "30/30 [==============================] - 0s 4ms/step - loss: 2.0975e-04 - accuracy: 1.0000 - val_loss: 0.0083 - val_accuracy: 1.0000\n",
      "Epoch 93/250\n",
      "30/30 [==============================] - 0s 4ms/step - loss: 2.0432e-04 - accuracy: 1.0000 - val_loss: 0.0085 - val_accuracy: 1.0000\n",
      "Epoch 94/250\n",
      "30/30 [==============================] - 0s 4ms/step - loss: 1.9872e-04 - accuracy: 1.0000 - val_loss: 0.0078 - val_accuracy: 1.0000\n",
      "Epoch 95/250\n",
      "30/30 [==============================] - 0s 4ms/step - loss: 1.9038e-04 - accuracy: 1.0000 - val_loss: 0.0080 - val_accuracy: 1.0000\n",
      "Epoch 96/250\n",
      "30/30 [==============================] - 0s 4ms/step - loss: 1.8596e-04 - accuracy: 1.0000 - val_loss: 0.0080 - val_accuracy: 1.0000\n",
      "Epoch 97/250\n",
      "30/30 [==============================] - 0s 4ms/step - loss: 1.8101e-04 - accuracy: 1.0000 - val_loss: 0.0077 - val_accuracy: 1.0000\n",
      "Epoch 98/250\n",
      "30/30 [==============================] - 0s 4ms/step - loss: 1.7395e-04 - accuracy: 1.0000 - val_loss: 0.0079 - val_accuracy: 1.0000\n",
      "Epoch 99/250\n",
      "30/30 [==============================] - 0s 4ms/step - loss: 1.6895e-04 - accuracy: 1.0000 - val_loss: 0.0079 - val_accuracy: 1.0000\n",
      "Epoch 100/250\n",
      "30/30 [==============================] - 0s 4ms/step - loss: 1.6383e-04 - accuracy: 1.0000 - val_loss: 0.0080 - val_accuracy: 1.0000\n",
      "Epoch 101/250\n",
      "30/30 [==============================] - 0s 4ms/step - loss: 1.5907e-04 - accuracy: 1.0000 - val_loss: 0.0081 - val_accuracy: 1.0000\n",
      "Epoch 102/250\n",
      "30/30 [==============================] - 0s 4ms/step - loss: 1.5364e-04 - accuracy: 1.0000 - val_loss: 0.0080 - val_accuracy: 1.0000\n",
      "Epoch 103/250\n",
      "30/30 [==============================] - 0s 3ms/step - loss: 1.4940e-04 - accuracy: 1.0000 - val_loss: 0.0077 - val_accuracy: 1.0000\n",
      "Epoch 104/250\n",
      "30/30 [==============================] - 0s 3ms/step - loss: 1.4639e-04 - accuracy: 1.0000 - val_loss: 0.0078 - val_accuracy: 1.0000\n",
      "Epoch 105/250\n",
      "30/30 [==============================] - 0s 3ms/step - loss: 1.4167e-04 - accuracy: 1.0000 - val_loss: 0.0077 - val_accuracy: 1.0000\n",
      "Epoch 106/250\n",
      "30/30 [==============================] - 0s 4ms/step - loss: 1.3761e-04 - accuracy: 1.0000 - val_loss: 0.0079 - val_accuracy: 1.0000\n",
      "Epoch 107/250\n",
      "30/30 [==============================] - 0s 3ms/step - loss: 1.3417e-04 - accuracy: 1.0000 - val_loss: 0.0077 - val_accuracy: 1.0000\n",
      "Epoch 108/250\n",
      "30/30 [==============================] - 0s 3ms/step - loss: 1.3054e-04 - accuracy: 1.0000 - val_loss: 0.0078 - val_accuracy: 1.0000\n",
      "Epoch 109/250\n",
      "30/30 [==============================] - 0s 3ms/step - loss: 1.2787e-04 - accuracy: 1.0000 - val_loss: 0.0080 - val_accuracy: 1.0000\n",
      "Epoch 110/250\n",
      "30/30 [==============================] - 0s 3ms/step - loss: 1.2285e-04 - accuracy: 1.0000 - val_loss: 0.0079 - val_accuracy: 1.0000\n",
      "Epoch 111/250\n",
      "30/30 [==============================] - 0s 3ms/step - loss: 1.1991e-04 - accuracy: 1.0000 - val_loss: 0.0079 - val_accuracy: 1.0000\n",
      "Epoch 112/250\n",
      "30/30 [==============================] - 0s 3ms/step - loss: 1.1656e-04 - accuracy: 1.0000 - val_loss: 0.0077 - val_accuracy: 1.0000\n",
      "Epoch 113/250\n",
      "30/30 [==============================] - 0s 4ms/step - loss: 1.1516e-04 - accuracy: 1.0000 - val_loss: 0.0076 - val_accuracy: 1.0000\n",
      "Epoch 114/250\n",
      "30/30 [==============================] - 0s 4ms/step - loss: 1.1119e-04 - accuracy: 1.0000 - val_loss: 0.0078 - val_accuracy: 1.0000\n",
      "Epoch 115/250\n",
      "30/30 [==============================] - 0s 4ms/step - loss: 1.1008e-04 - accuracy: 1.0000 - val_loss: 0.0064 - val_accuracy: 1.0000\n",
      "Epoch 116/250\n",
      "30/30 [==============================] - 0s 4ms/step - loss: 1.0699e-04 - accuracy: 1.0000 - val_loss: 0.0067 - val_accuracy: 1.0000\n",
      "Epoch 117/250\n",
      "30/30 [==============================] - 0s 3ms/step - loss: 1.0246e-04 - accuracy: 1.0000 - val_loss: 0.0071 - val_accuracy: 1.0000\n",
      "Epoch 118/250\n",
      "30/30 [==============================] - 0s 3ms/step - loss: 9.9012e-05 - accuracy: 1.0000 - val_loss: 0.0072 - val_accuracy: 1.0000\n",
      "Epoch 119/250\n",
      "30/30 [==============================] - 0s 3ms/step - loss: 9.5958e-05 - accuracy: 1.0000 - val_loss: 0.0073 - val_accuracy: 1.0000\n",
      "Epoch 120/250\n",
      "30/30 [==============================] - 0s 3ms/step - loss: 9.3647e-05 - accuracy: 1.0000 - val_loss: 0.0073 - val_accuracy: 1.0000\n",
      "Epoch 121/250\n",
      "30/30 [==============================] - 0s 3ms/step - loss: 9.1508e-05 - accuracy: 1.0000 - val_loss: 0.0072 - val_accuracy: 1.0000\n",
      "Epoch 122/250\n",
      "30/30 [==============================] - 0s 3ms/step - loss: 8.8955e-05 - accuracy: 1.0000 - val_loss: 0.0072 - val_accuracy: 1.0000\n",
      "Epoch 123/250\n",
      "30/30 [==============================] - 0s 3ms/step - loss: 8.5900e-05 - accuracy: 1.0000 - val_loss: 0.0077 - val_accuracy: 1.0000\n",
      "Epoch 124/250\n",
      "30/30 [==============================] - 0s 3ms/step - loss: 8.4392e-05 - accuracy: 1.0000 - val_loss: 0.0076 - val_accuracy: 1.0000\n",
      "Epoch 125/250\n",
      "30/30 [==============================] - 0s 3ms/step - loss: 8.2706e-05 - accuracy: 1.0000 - val_loss: 0.0073 - val_accuracy: 1.0000\n",
      "Epoch 126/250\n",
      "30/30 [==============================] - 0s 3ms/step - loss: 8.0622e-05 - accuracy: 1.0000 - val_loss: 0.0074 - val_accuracy: 1.0000\n",
      "Epoch 127/250\n",
      "30/30 [==============================] - 0s 3ms/step - loss: 7.8892e-05 - accuracy: 1.0000 - val_loss: 0.0075 - val_accuracy: 1.0000\n",
      "Epoch 128/250\n",
      "30/30 [==============================] - 0s 3ms/step - loss: 7.6342e-05 - accuracy: 1.0000 - val_loss: 0.0073 - val_accuracy: 1.0000\n",
      "Epoch 129/250\n",
      "30/30 [==============================] - 0s 3ms/step - loss: 7.5111e-05 - accuracy: 1.0000 - val_loss: 0.0073 - val_accuracy: 1.0000\n",
      "Epoch 130/250\n",
      "30/30 [==============================] - 0s 3ms/step - loss: 7.3284e-05 - accuracy: 1.0000 - val_loss: 0.0072 - val_accuracy: 1.0000\n",
      "Epoch 131/250\n",
      "30/30 [==============================] - 0s 4ms/step - loss: 7.1283e-05 - accuracy: 1.0000 - val_loss: 0.0072 - val_accuracy: 1.0000\n",
      "Epoch 132/250\n",
      "30/30 [==============================] - 0s 4ms/step - loss: 6.9327e-05 - accuracy: 1.0000 - val_loss: 0.0073 - val_accuracy: 1.0000\n",
      "Epoch 133/250\n",
      "30/30 [==============================] - 0s 4ms/step - loss: 6.7986e-05 - accuracy: 1.0000 - val_loss: 0.0072 - val_accuracy: 1.0000\n",
      "Epoch 134/250\n",
      "30/30 [==============================] - 0s 4ms/step - loss: 6.6730e-05 - accuracy: 1.0000 - val_loss: 0.0072 - val_accuracy: 1.0000\n",
      "Epoch 135/250\n",
      "30/30 [==============================] - 0s 4ms/step - loss: 6.4876e-05 - accuracy: 1.0000 - val_loss: 0.0072 - val_accuracy: 1.0000\n",
      "Epoch 136/250\n",
      "30/30 [==============================] - 0s 3ms/step - loss: 6.3326e-05 - accuracy: 1.0000 - val_loss: 0.0071 - val_accuracy: 1.0000\n",
      "Epoch 137/250\n",
      "30/30 [==============================] - 0s 3ms/step - loss: 6.2093e-05 - accuracy: 1.0000 - val_loss: 0.0071 - val_accuracy: 1.0000\n",
      "Epoch 138/250\n",
      "30/30 [==============================] - 0s 3ms/step - loss: 6.0231e-05 - accuracy: 1.0000 - val_loss: 0.0068 - val_accuracy: 1.0000\n",
      "Epoch 139/250\n",
      "30/30 [==============================] - 0s 3ms/step - loss: 5.9535e-05 - accuracy: 1.0000 - val_loss: 0.0070 - val_accuracy: 1.0000\n",
      "Epoch 140/250\n",
      "30/30 [==============================] - 0s 3ms/step - loss: 5.7661e-05 - accuracy: 1.0000 - val_loss: 0.0070 - val_accuracy: 1.0000\n",
      "Epoch 141/250\n",
      "30/30 [==============================] - 0s 3ms/step - loss: 5.6501e-05 - accuracy: 1.0000 - val_loss: 0.0068 - val_accuracy: 1.0000\n",
      "Epoch 142/250\n",
      "30/30 [==============================] - 0s 3ms/step - loss: 5.5169e-05 - accuracy: 1.0000 - val_loss: 0.0069 - val_accuracy: 1.0000\n",
      "Epoch 143/250\n",
      "30/30 [==============================] - 0s 3ms/step - loss: 5.3924e-05 - accuracy: 1.0000 - val_loss: 0.0069 - val_accuracy: 1.0000\n",
      "Epoch 144/250\n",
      "30/30 [==============================] - 0s 3ms/step - loss: 5.2801e-05 - accuracy: 1.0000 - val_loss: 0.0069 - val_accuracy: 1.0000\n",
      "Epoch 145/250\n",
      "30/30 [==============================] - 0s 3ms/step - loss: 5.1543e-05 - accuracy: 1.0000 - val_loss: 0.0069 - val_accuracy: 1.0000\n",
      "Epoch 146/250\n",
      "30/30 [==============================] - 0s 3ms/step - loss: 5.0349e-05 - accuracy: 1.0000 - val_loss: 0.0069 - val_accuracy: 1.0000\n",
      "Epoch 147/250\n",
      "30/30 [==============================] - 0s 3ms/step - loss: 4.9374e-05 - accuracy: 1.0000 - val_loss: 0.0064 - val_accuracy: 1.0000\n",
      "Epoch 148/250\n",
      "30/30 [==============================] - 0s 3ms/step - loss: 4.8186e-05 - accuracy: 1.0000 - val_loss: 0.0066 - val_accuracy: 1.0000\n",
      "Epoch 149/250\n",
      "30/30 [==============================] - 0s 3ms/step - loss: 4.6874e-05 - accuracy: 1.0000 - val_loss: 0.0065 - val_accuracy: 1.0000\n",
      "Epoch 150/250\n",
      "30/30 [==============================] - 0s 3ms/step - loss: 4.5855e-05 - accuracy: 1.0000 - val_loss: 0.0066 - val_accuracy: 1.0000\n",
      "Epoch 151/250\n",
      "30/30 [==============================] - 0s 3ms/step - loss: 4.4835e-05 - accuracy: 1.0000 - val_loss: 0.0067 - val_accuracy: 1.0000\n",
      "Epoch 152/250\n",
      "30/30 [==============================] - 0s 3ms/step - loss: 4.3797e-05 - accuracy: 1.0000 - val_loss: 0.0066 - val_accuracy: 1.0000\n",
      "Epoch 153/250\n",
      "30/30 [==============================] - 0s 3ms/step - loss: 4.2934e-05 - accuracy: 1.0000 - val_loss: 0.0067 - val_accuracy: 1.0000\n",
      "Epoch 154/250\n",
      "30/30 [==============================] - 0s 3ms/step - loss: 4.1931e-05 - accuracy: 1.0000 - val_loss: 0.0066 - val_accuracy: 1.0000\n",
      "Epoch 155/250\n",
      "30/30 [==============================] - 0s 3ms/step - loss: 4.1056e-05 - accuracy: 1.0000 - val_loss: 0.0067 - val_accuracy: 1.0000\n",
      "Epoch 156/250\n",
      "30/30 [==============================] - 0s 3ms/step - loss: 4.0384e-05 - accuracy: 1.0000 - val_loss: 0.0065 - val_accuracy: 1.0000\n",
      "Epoch 157/250\n",
      "30/30 [==============================] - 0s 3ms/step - loss: 3.9466e-05 - accuracy: 1.0000 - val_loss: 0.0066 - val_accuracy: 1.0000\n",
      "Epoch 158/250\n",
      "30/30 [==============================] - 0s 4ms/step - loss: 3.8577e-05 - accuracy: 1.0000 - val_loss: 0.0066 - val_accuracy: 1.0000\n",
      "Epoch 159/250\n",
      "30/30 [==============================] - 0s 3ms/step - loss: 3.7643e-05 - accuracy: 1.0000 - val_loss: 0.0066 - val_accuracy: 1.0000\n",
      "Epoch 160/250\n",
      "30/30 [==============================] - 0s 3ms/step - loss: 3.7349e-05 - accuracy: 1.0000 - val_loss: 0.0066 - val_accuracy: 1.0000\n",
      "Epoch 161/250\n",
      "30/30 [==============================] - 0s 3ms/step - loss: 3.6596e-05 - accuracy: 1.0000 - val_loss: 0.0063 - val_accuracy: 1.0000\n",
      "Epoch 162/250\n",
      "30/30 [==============================] - 0s 3ms/step - loss: 3.5502e-05 - accuracy: 1.0000 - val_loss: 0.0065 - val_accuracy: 1.0000\n",
      "Epoch 163/250\n",
      "30/30 [==============================] - 0s 3ms/step - loss: 3.4668e-05 - accuracy: 1.0000 - val_loss: 0.0064 - val_accuracy: 1.0000\n",
      "Epoch 164/250\n",
      "30/30 [==============================] - 0s 3ms/step - loss: 3.4016e-05 - accuracy: 1.0000 - val_loss: 0.0065 - val_accuracy: 1.0000\n",
      "Epoch 165/250\n",
      "30/30 [==============================] - 0s 3ms/step - loss: 3.3533e-05 - accuracy: 1.0000 - val_loss: 0.0063 - val_accuracy: 1.0000\n",
      "Epoch 166/250\n",
      "30/30 [==============================] - 0s 3ms/step - loss: 3.2654e-05 - accuracy: 1.0000 - val_loss: 0.0066 - val_accuracy: 1.0000\n",
      "Epoch 167/250\n",
      "30/30 [==============================] - 0s 3ms/step - loss: 3.1882e-05 - accuracy: 1.0000 - val_loss: 0.0065 - val_accuracy: 1.0000\n",
      "Epoch 168/250\n",
      "30/30 [==============================] - 0s 3ms/step - loss: 3.1243e-05 - accuracy: 1.0000 - val_loss: 0.0065 - val_accuracy: 1.0000\n",
      "Epoch 169/250\n",
      "30/30 [==============================] - 0s 3ms/step - loss: 3.0568e-05 - accuracy: 1.0000 - val_loss: 0.0064 - val_accuracy: 1.0000\n",
      "Epoch 170/250\n",
      "30/30 [==============================] - 0s 3ms/step - loss: 3.0042e-05 - accuracy: 1.0000 - val_loss: 0.0065 - val_accuracy: 1.0000\n",
      "Epoch 171/250\n",
      "30/30 [==============================] - 0s 3ms/step - loss: 2.9501e-05 - accuracy: 1.0000 - val_loss: 0.0062 - val_accuracy: 1.0000\n",
      "Epoch 172/250\n",
      "30/30 [==============================] - 0s 3ms/step - loss: 2.8734e-05 - accuracy: 1.0000 - val_loss: 0.0062 - val_accuracy: 1.0000\n",
      "Epoch 173/250\n",
      "30/30 [==============================] - 0s 3ms/step - loss: 2.7821e-05 - accuracy: 1.0000 - val_loss: 0.0068 - val_accuracy: 1.0000\n",
      "Epoch 174/250\n",
      "30/30 [==============================] - 0s 3ms/step - loss: 2.7467e-05 - accuracy: 1.0000 - val_loss: 0.0065 - val_accuracy: 1.0000\n",
      "Epoch 175/250\n",
      "30/30 [==============================] - 0s 3ms/step - loss: 2.6865e-05 - accuracy: 1.0000 - val_loss: 0.0065 - val_accuracy: 1.0000\n",
      "Epoch 176/250\n",
      "30/30 [==============================] - 0s 3ms/step - loss: 2.6238e-05 - accuracy: 1.0000 - val_loss: 0.0063 - val_accuracy: 1.0000\n",
      "Epoch 177/250\n",
      "30/30 [==============================] - 0s 4ms/step - loss: 2.5737e-05 - accuracy: 1.0000 - val_loss: 0.0063 - val_accuracy: 1.0000\n",
      "Epoch 178/250\n",
      "30/30 [==============================] - 0s 4ms/step - loss: 2.5228e-05 - accuracy: 1.0000 - val_loss: 0.0064 - val_accuracy: 1.0000\n",
      "Epoch 179/250\n",
      "30/30 [==============================] - 0s 3ms/step - loss: 2.4559e-05 - accuracy: 1.0000 - val_loss: 0.0063 - val_accuracy: 1.0000\n",
      "Epoch 180/250\n",
      "30/30 [==============================] - 0s 4ms/step - loss: 2.4095e-05 - accuracy: 1.0000 - val_loss: 0.0062 - val_accuracy: 1.0000\n",
      "Epoch 181/250\n",
      "30/30 [==============================] - 0s 3ms/step - loss: 2.3673e-05 - accuracy: 1.0000 - val_loss: 0.0063 - val_accuracy: 1.0000\n",
      "Epoch 182/250\n",
      "30/30 [==============================] - 0s 3ms/step - loss: 2.3190e-05 - accuracy: 1.0000 - val_loss: 0.0061 - val_accuracy: 1.0000\n",
      "Epoch 183/250\n",
      "30/30 [==============================] - 0s 3ms/step - loss: 2.2800e-05 - accuracy: 1.0000 - val_loss: 0.0062 - val_accuracy: 1.0000\n",
      "Epoch 184/250\n",
      "30/30 [==============================] - 0s 3ms/step - loss: 2.2273e-05 - accuracy: 1.0000 - val_loss: 0.0062 - val_accuracy: 1.0000\n",
      "Epoch 185/250\n",
      "30/30 [==============================] - 0s 3ms/step - loss: 2.1830e-05 - accuracy: 1.0000 - val_loss: 0.0062 - val_accuracy: 1.0000\n",
      "Epoch 186/250\n",
      "30/30 [==============================] - 0s 3ms/step - loss: 2.1429e-05 - accuracy: 1.0000 - val_loss: 0.0061 - val_accuracy: 1.0000\n",
      "Epoch 187/250\n",
      "30/30 [==============================] - 0s 4ms/step - loss: 2.0956e-05 - accuracy: 1.0000 - val_loss: 0.0061 - val_accuracy: 1.0000\n",
      "Epoch 188/250\n",
      "30/30 [==============================] - 0s 4ms/step - loss: 2.0600e-05 - accuracy: 1.0000 - val_loss: 0.0060 - val_accuracy: 1.0000\n",
      "Epoch 189/250\n",
      "30/30 [==============================] - 0s 4ms/step - loss: 2.0250e-05 - accuracy: 1.0000 - val_loss: 0.0062 - val_accuracy: 1.0000\n",
      "Epoch 190/250\n",
      "30/30 [==============================] - 0s 4ms/step - loss: 1.9770e-05 - accuracy: 1.0000 - val_loss: 0.0060 - val_accuracy: 1.0000\n",
      "Epoch 191/250\n",
      "30/30 [==============================] - 0s 4ms/step - loss: 1.9359e-05 - accuracy: 1.0000 - val_loss: 0.0060 - val_accuracy: 1.0000\n",
      "Epoch 192/250\n",
      "30/30 [==============================] - 0s 3ms/step - loss: 1.8947e-05 - accuracy: 1.0000 - val_loss: 0.0060 - val_accuracy: 1.0000\n",
      "Epoch 193/250\n",
      "30/30 [==============================] - 0s 4ms/step - loss: 1.8589e-05 - accuracy: 1.0000 - val_loss: 0.0060 - val_accuracy: 1.0000\n",
      "Epoch 194/250\n",
      "30/30 [==============================] - 0s 3ms/step - loss: 1.8242e-05 - accuracy: 1.0000 - val_loss: 0.0059 - val_accuracy: 1.0000\n",
      "Epoch 195/250\n",
      "30/30 [==============================] - 0s 3ms/step - loss: 1.7896e-05 - accuracy: 1.0000 - val_loss: 0.0063 - val_accuracy: 1.0000\n",
      "Epoch 196/250\n",
      "30/30 [==============================] - 0s 3ms/step - loss: 1.7586e-05 - accuracy: 1.0000 - val_loss: 0.0061 - val_accuracy: 1.0000\n",
      "Epoch 197/250\n",
      "30/30 [==============================] - 0s 4ms/step - loss: 1.7106e-05 - accuracy: 1.0000 - val_loss: 0.0060 - val_accuracy: 1.0000\n",
      "Epoch 198/250\n",
      "30/30 [==============================] - 0s 4ms/step - loss: 1.6755e-05 - accuracy: 1.0000 - val_loss: 0.0060 - val_accuracy: 1.0000\n",
      "Epoch 199/250\n",
      "30/30 [==============================] - 0s 3ms/step - loss: 1.6473e-05 - accuracy: 1.0000 - val_loss: 0.0058 - val_accuracy: 1.0000\n",
      "Epoch 200/250\n",
      "30/30 [==============================] - 0s 4ms/step - loss: 1.6020e-05 - accuracy: 1.0000 - val_loss: 0.0059 - val_accuracy: 1.0000\n",
      "Epoch 201/250\n",
      "30/30 [==============================] - 0s 4ms/step - loss: 1.5746e-05 - accuracy: 1.0000 - val_loss: 0.0060 - val_accuracy: 1.0000\n",
      "Epoch 202/250\n",
      "30/30 [==============================] - 0s 3ms/step - loss: 1.5459e-05 - accuracy: 1.0000 - val_loss: 0.0058 - val_accuracy: 1.0000\n",
      "Epoch 203/250\n",
      "30/30 [==============================] - 0s 3ms/step - loss: 1.5099e-05 - accuracy: 1.0000 - val_loss: 0.0058 - val_accuracy: 1.0000\n",
      "Epoch 204/250\n",
      "30/30 [==============================] - 0s 3ms/step - loss: 1.4847e-05 - accuracy: 1.0000 - val_loss: 0.0058 - val_accuracy: 1.0000\n",
      "Epoch 205/250\n",
      "30/30 [==============================] - 0s 3ms/step - loss: 1.4584e-05 - accuracy: 1.0000 - val_loss: 0.0058 - val_accuracy: 1.0000\n",
      "Epoch 206/250\n",
      "30/30 [==============================] - 0s 4ms/step - loss: 1.4411e-05 - accuracy: 1.0000 - val_loss: 0.0059 - val_accuracy: 1.0000\n",
      "Epoch 207/250\n",
      "30/30 [==============================] - 0s 3ms/step - loss: 1.3972e-05 - accuracy: 1.0000 - val_loss: 0.0058 - val_accuracy: 1.0000\n",
      "Epoch 208/250\n",
      "30/30 [==============================] - 0s 3ms/step - loss: 1.3815e-05 - accuracy: 1.0000 - val_loss: 0.0057 - val_accuracy: 1.0000\n",
      "Epoch 209/250\n",
      "30/30 [==============================] - 0s 4ms/step - loss: 1.3461e-05 - accuracy: 1.0000 - val_loss: 0.0058 - val_accuracy: 1.0000\n",
      "Epoch 210/250\n",
      "30/30 [==============================] - 0s 4ms/step - loss: 1.3229e-05 - accuracy: 1.0000 - val_loss: 0.0058 - val_accuracy: 1.0000\n",
      "Epoch 211/250\n",
      "30/30 [==============================] - 0s 4ms/step - loss: 1.2987e-05 - accuracy: 1.0000 - val_loss: 0.0057 - val_accuracy: 1.0000\n",
      "Epoch 212/250\n",
      "30/30 [==============================] - 0s 4ms/step - loss: 1.2755e-05 - accuracy: 1.0000 - val_loss: 0.0057 - val_accuracy: 1.0000\n",
      "Epoch 213/250\n",
      "30/30 [==============================] - 0s 4ms/step - loss: 1.2492e-05 - accuracy: 1.0000 - val_loss: 0.0057 - val_accuracy: 1.0000\n",
      "Epoch 214/250\n",
      "30/30 [==============================] - 0s 4ms/step - loss: 1.2265e-05 - accuracy: 1.0000 - val_loss: 0.0057 - val_accuracy: 1.0000\n",
      "Epoch 215/250\n",
      "30/30 [==============================] - 0s 4ms/step - loss: 1.2029e-05 - accuracy: 1.0000 - val_loss: 0.0057 - val_accuracy: 1.0000\n",
      "Epoch 216/250\n",
      "30/30 [==============================] - 0s 4ms/step - loss: 1.1798e-05 - accuracy: 1.0000 - val_loss: 0.0060 - val_accuracy: 1.0000\n",
      "Epoch 217/250\n",
      "30/30 [==============================] - 0s 4ms/step - loss: 1.1612e-05 - accuracy: 1.0000 - val_loss: 0.0059 - val_accuracy: 1.0000\n",
      "Epoch 218/250\n",
      "30/30 [==============================] - 0s 4ms/step - loss: 1.1322e-05 - accuracy: 1.0000 - val_loss: 0.0058 - val_accuracy: 1.0000\n",
      "Epoch 219/250\n",
      "30/30 [==============================] - 0s 4ms/step - loss: 1.1117e-05 - accuracy: 1.0000 - val_loss: 0.0056 - val_accuracy: 1.0000\n",
      "Epoch 220/250\n",
      "30/30 [==============================] - 0s 4ms/step - loss: 1.0854e-05 - accuracy: 1.0000 - val_loss: 0.0056 - val_accuracy: 1.0000\n",
      "Epoch 221/250\n",
      "30/30 [==============================] - 0s 4ms/step - loss: 1.0640e-05 - accuracy: 1.0000 - val_loss: 0.0057 - val_accuracy: 1.0000\n",
      "Epoch 222/250\n",
      "30/30 [==============================] - 0s 5ms/step - loss: 1.0425e-05 - accuracy: 1.0000 - val_loss: 0.0057 - val_accuracy: 1.0000\n",
      "Epoch 223/250\n",
      "30/30 [==============================] - 0s 5ms/step - loss: 1.0239e-05 - accuracy: 1.0000 - val_loss: 0.0056 - val_accuracy: 1.0000\n",
      "Epoch 224/250\n",
      "30/30 [==============================] - 0s 4ms/step - loss: 1.0068e-05 - accuracy: 1.0000 - val_loss: 0.0056 - val_accuracy: 1.0000\n",
      "Epoch 225/250\n",
      "30/30 [==============================] - 0s 3ms/step - loss: 9.8796e-06 - accuracy: 1.0000 - val_loss: 0.0055 - val_accuracy: 1.0000\n",
      "Epoch 226/250\n",
      "30/30 [==============================] - 0s 4ms/step - loss: 9.6664e-06 - accuracy: 1.0000 - val_loss: 0.0056 - val_accuracy: 1.0000\n",
      "Epoch 227/250\n",
      "30/30 [==============================] - 0s 4ms/step - loss: 9.4981e-06 - accuracy: 1.0000 - val_loss: 0.0055 - val_accuracy: 1.0000\n",
      "Epoch 228/250\n",
      "30/30 [==============================] - 0s 4ms/step - loss: 9.2938e-06 - accuracy: 1.0000 - val_loss: 0.0055 - val_accuracy: 1.0000\n",
      "Epoch 229/250\n",
      "30/30 [==============================] - 0s 4ms/step - loss: 9.1295e-06 - accuracy: 1.0000 - val_loss: 0.0055 - val_accuracy: 1.0000\n",
      "Epoch 230/250\n",
      "30/30 [==============================] - 0s 3ms/step - loss: 8.9885e-06 - accuracy: 1.0000 - val_loss: 0.0055 - val_accuracy: 1.0000\n",
      "Epoch 231/250\n",
      "30/30 [==============================] - 0s 4ms/step - loss: 8.8075e-06 - accuracy: 1.0000 - val_loss: 0.0056 - val_accuracy: 1.0000\n",
      "Epoch 232/250\n",
      "30/30 [==============================] - 0s 5ms/step - loss: 8.6396e-06 - accuracy: 1.0000 - val_loss: 0.0055 - val_accuracy: 1.0000\n",
      "Epoch 233/250\n",
      "30/30 [==============================] - 0s 5ms/step - loss: 8.5119e-06 - accuracy: 1.0000 - val_loss: 0.0054 - val_accuracy: 1.0000\n",
      "Epoch 234/250\n",
      "30/30 [==============================] - 0s 5ms/step - loss: 8.3228e-06 - accuracy: 1.0000 - val_loss: 0.0055 - val_accuracy: 1.0000\n",
      "Epoch 235/250\n",
      "30/30 [==============================] - 0s 4ms/step - loss: 8.1830e-06 - accuracy: 1.0000 - val_loss: 0.0055 - val_accuracy: 1.0000\n",
      "Epoch 236/250\n",
      "30/30 [==============================] - 0s 5ms/step - loss: 8.0207e-06 - accuracy: 1.0000 - val_loss: 0.0055 - val_accuracy: 1.0000\n",
      "Epoch 237/250\n",
      "30/30 [==============================] - 0s 4ms/step - loss: 7.8775e-06 - accuracy: 1.0000 - val_loss: 0.0055 - val_accuracy: 1.0000\n",
      "Epoch 238/250\n",
      "30/30 [==============================] - 0s 4ms/step - loss: 7.7723e-06 - accuracy: 1.0000 - val_loss: 0.0055 - val_accuracy: 1.0000\n",
      "Epoch 239/250\n",
      "30/30 [==============================] - 0s 4ms/step - loss: 7.5905e-06 - accuracy: 1.0000 - val_loss: 0.0057 - val_accuracy: 1.0000\n",
      "Epoch 240/250\n",
      "30/30 [==============================] - 0s 4ms/step - loss: 7.4236e-06 - accuracy: 1.0000 - val_loss: 0.0056 - val_accuracy: 1.0000\n",
      "Epoch 241/250\n",
      "30/30 [==============================] - 0s 5ms/step - loss: 7.2807e-06 - accuracy: 1.0000 - val_loss: 0.0055 - val_accuracy: 1.0000\n",
      "Epoch 242/250\n",
      "30/30 [==============================] - 0s 5ms/step - loss: 7.1331e-06 - accuracy: 1.0000 - val_loss: 0.0055 - val_accuracy: 1.0000\n",
      "Epoch 243/250\n",
      "30/30 [==============================] - 0s 4ms/step - loss: 6.9859e-06 - accuracy: 1.0000 - val_loss: 0.0055 - val_accuracy: 1.0000\n",
      "Epoch 244/250\n",
      "30/30 [==============================] - 0s 4ms/step - loss: 6.8686e-06 - accuracy: 1.0000 - val_loss: 0.0055 - val_accuracy: 1.0000\n",
      "Epoch 245/250\n",
      "30/30 [==============================] - 0s 4ms/step - loss: 6.7494e-06 - accuracy: 1.0000 - val_loss: 0.0054 - val_accuracy: 1.0000\n",
      "Epoch 246/250\n",
      "30/30 [==============================] - 0s 4ms/step - loss: 6.6284e-06 - accuracy: 1.0000 - val_loss: 0.0055 - val_accuracy: 1.0000\n",
      "Epoch 247/250\n",
      "30/30 [==============================] - 0s 4ms/step - loss: 6.4928e-06 - accuracy: 1.0000 - val_loss: 0.0054 - val_accuracy: 1.0000\n",
      "Epoch 248/250\n",
      "30/30 [==============================] - 0s 3ms/step - loss: 6.3942e-06 - accuracy: 1.0000 - val_loss: 0.0054 - val_accuracy: 1.0000\n",
      "Epoch 249/250\n",
      "30/30 [==============================] - 0s 4ms/step - loss: 6.2565e-06 - accuracy: 1.0000 - val_loss: 0.0054 - val_accuracy: 1.0000\n",
      "Epoch 250/250\n",
      "30/30 [==============================] - 0s 3ms/step - loss: 6.1554e-06 - accuracy: 1.0000 - val_loss: 0.0054 - val_accuracy: 1.0000\n"
     ]
    }
   ],
   "source": [
    "# Fit the model\n",
    "\n",
    "history = ANN.fit(x, y, validation_split = 0.30, epochs = 250, batch_size = 6)"
   ]
  },
  {
   "cell_type": "code",
   "execution_count": 158,
   "id": "8bf412bb",
   "metadata": {},
   "outputs": [
    {
     "name": "stdout",
     "output_type": "stream",
     "text": [
      "8/8 [==============================] - 0s 3ms/step - loss: 0.0016 - accuracy: 1.0000\n",
      "100.0\n"
     ]
    }
   ],
   "source": [
    "scores = ANN.evaluate(x, y)\n",
    "print( scores[1]*100 )"
   ]
  },
  {
   "cell_type": "code",
   "execution_count": 159,
   "id": "3fa74905",
   "metadata": {},
   "outputs": [
    {
     "data": {
      "text/plain": [
       "dict_keys(['loss', 'accuracy', 'val_loss', 'val_accuracy'])"
      ]
     },
     "execution_count": 159,
     "metadata": {},
     "output_type": "execute_result"
    }
   ],
   "source": [
    "# Visualize training history\n",
    "# list all data in history\n",
    "\n",
    "history.history.keys()"
   ]
  },
  {
   "cell_type": "code",
   "execution_count": 160,
   "id": "454547e6",
   "metadata": {},
   "outputs": [
    {
     "data": {
      "image/png": "[encoded data removed]",
      "text/plain": [
       "<Figure size 432x288 with 1 Axes>"
      ]
     },
     "metadata": {
      "needs_background": "light"
     },
     "output_type": "display_data"
    }
   ],
   "source": [
    "# summarize history for accuracy\n",
    "\n",
    "import matplotlib.pyplot as plt\n",
    "plt.plot(history.history['accuracy'])\n",
    "plt.plot(history.history['val_accuracy'])\n",
    "plt.title('model accuracy')\n",
    "plt.ylabel('accuracy')\n",
    "plt.xlabel('epoch')\n",
    "plt.legend(['train' , 'test'] , loc = 'upper left')\n",
    "plt.show()"
   ]
  },
  {
   "cell_type": "code",
   "execution_count": 161,
   "id": "cc05cbf5",
   "metadata": {},
   "outputs": [
    {
     "data": {
      "image/png": "[encoded data removed]",
      "text/plain": [
       "<Figure size 432x288 with 1 Axes>"
      ]
     },
     "metadata": {
      "needs_background": "light"
     },
     "output_type": "display_data"
    }
   ],
   "source": [
    "# summarize history for loss\n",
    "\n",
    "plt.plot(history.history['loss'])\n",
    "plt.plot(history.history['val_loss'])\n",
    "plt.title('model loss')\n",
    "plt.ylabel('loss')\n",
    "plt.xlabel('epoch')\n",
    "plt.legend(['train' , 'test'] , loc = 'upper left')\n",
    "plt.show()"
   ]
  },
  {
   "cell_type": "code",
   "execution_count": 162,
   "id": "fe22fd16",
   "metadata": {},
   "outputs": [],
   "source": [
    "X = scores[1]"
   ]
  },
  {
   "cell_type": "code",
   "execution_count": 163,
   "id": "90e5d5a5",
   "metadata": {},
   "outputs": [],
   "source": [
    "accscore.append(X)\n",
    "model_name.append('ANN')"
   ]
  },
  {
   "cell_type": "markdown",
   "id": "380d164d",
   "metadata": {},
   "source": [
    "### Accuracy Comparison"
   ]
  },
  {
   "cell_type": "code",
   "execution_count": 166,
   "id": "5ecfe4cd",
   "metadata": {},
   "outputs": [
    {
     "data": {
      "text/plain": [
       "<AxesSubplot:title={'center':' Accuracy Comparision '}, xlabel=' Accuracy ', ylabel=' Algorithm '>"
      ]
     },
     "execution_count": 166,
     "metadata": {},
     "output_type": "execute_result"
    },
    {
     "data": {
      "image/png": "[encoded data removed]",
      "text/plain": [
       "<Figure size 720x432 with 1 Axes>"
      ]
     },
     "metadata": {
      "needs_background": "light"
     },
     "output_type": "display_data"
    }
   ],
   "source": [
    "plt.figure(figsize = (10,6))\n",
    "plt.title(\" Accuracy Comparision \")\n",
    "plt.xlabel(\" Accuracy \")\n",
    "plt.ylabel(\" Algorithm \")\n",
    "sns.barplot(x =  accscore,y = model_name)"
   ]
  },
  {
   "cell_type": "code",
   "execution_count": 168,
   "id": "108fa91e",
   "metadata": {},
   "outputs": [
    {
     "name": "stdout",
     "output_type": "stream",
     "text": [
      "lr = 1.0\n",
      "DTC = 0.9866666666666667\n",
      "KNN = 0.9866666666666667\n",
      "svc = 1.0\n",
      "RFC = 0.9866666666666667\n",
      "gnb = 1.0\n",
      "mnb = 1.0\n",
      "ada = 0.9866666666666667\n",
      "xgb = 0.9866666666666667\n",
      "ANN = 1.0\n"
     ]
    }
   ],
   "source": [
    "accuracy_models = dict(zip(model_name, accscore))\n",
    "for k, v in accuracy_models.items():\n",
    "    print (k, '=', v)"
   ]
  },
  {
   "cell_type": "markdown",
   "id": "31227362",
   "metadata": {},
   "source": [
    "#### Choosing Logistic Regression as final models for hyperparameter tunning it giving highest accuracy."
   ]
  },
  {
   "cell_type": "markdown",
   "id": "99bbdb4f",
   "metadata": {},
   "source": [
    "#### Hyperparameter tunning of Logistic Regression\n"
   ]
  },
  {
   "cell_type": "code",
   "execution_count": 169,
   "id": "33e4b3c1",
   "metadata": {},
   "outputs": [],
   "source": [
    "from sklearn.linear_model import LogisticRegression\n",
    "LR = LogisticRegression()"
   ]
  },
  {
   "cell_type": "code",
   "execution_count": 170,
   "id": "6245702d",
   "metadata": {},
   "outputs": [],
   "source": [
    "from sklearn.model_selection import GridSearchCV\n",
    "parameter = {'penalty':[ 'l2' , ' elasticnet'], 'C' : [1,2,3,4,5,6,7,8,10,20,50,60,70,80,100],'max_iter' : [100, 200 , 300]}"
   ]
  },
  {
   "cell_type": "code",
   "execution_count": 171,
   "id": "875379a3",
   "metadata": {},
   "outputs": [
    {
     "data": {
      "text/plain": [
       "GridSearchCV(cv=5, estimator=LogisticRegression(),\n",
       "             param_grid={'C': [1, 2, 3, 4, 5, 6, 7, 8, 10, 20, 50, 60, 70, 80,\n",
       "                               100],\n",
       "                         'max_iter': [100, 200, 300],\n",
       "                         'penalty': ['l2', ' elasticnet']},\n",
       "             scoring='accuracy')"
      ]
     },
     "execution_count": 171,
     "metadata": {},
     "output_type": "execute_result"
    }
   ],
   "source": [
    "model = GridSearchCV( LR , param_grid = parameter , scoring = 'accuracy' , cv = 5)\n",
    "model"
   ]
  },
  {
   "cell_type": "code",
   "execution_count": 172,
   "id": "544b4538",
   "metadata": {},
   "outputs": [
    {
     "data": {
      "text/plain": [
       "GridSearchCV(cv=5, estimator=LogisticRegression(),\n",
       "             param_grid={'C': [1, 2, 3, 4, 5, 6, 7, 8, 10, 20, 50, 60, 70, 80,\n",
       "                               100],\n",
       "                         'max_iter': [100, 200, 300],\n",
       "                         'penalty': ['l2', ' elasticnet']},\n",
       "             scoring='accuracy')"
      ]
     },
     "execution_count": 172,
     "metadata": {},
     "output_type": "execute_result"
    }
   ],
   "source": [
    "model.fit(x_train , y_train)"
   ]
  },
  {
   "cell_type": "code",
   "execution_count": 173,
   "id": "a22597b5",
   "metadata": {},
   "outputs": [
    {
     "name": "stdout",
     "output_type": "stream",
     "text": [
      "{'C': 1, 'max_iter': 100, 'penalty': 'l2'}\n"
     ]
    }
   ],
   "source": [
    "print(model.best_params_)"
   ]
  },
  {
   "cell_type": "code",
   "execution_count": 174,
   "id": "72d5fb64",
   "metadata": {},
   "outputs": [
    {
     "name": "stdout",
     "output_type": "stream",
     "text": [
      "Accuracy score for Logistic Regression is  100.0\n"
     ]
    }
   ],
   "source": [
    "LR = LogisticRegression(penalty = 'l2' , max_iter = 100 , C = 1)\n",
    "LR.fit(x_train , y_train)\n",
    "pred_LR = LR.predict(x_test)\n",
    "print(\"Accuracy score for Logistic Regression is \" , accuracy_score(y_test , pred_LR)*100)\n"
   ]
  },
  {
   "cell_type": "code",
   "execution_count": 175,
   "id": "8ce52f97",
   "metadata": {},
   "outputs": [
    {
     "name": "stdout",
     "output_type": "stream",
     "text": [
      "              precision    recall  f1-score   support\n",
      "\n",
      "           0       1.00      1.00      1.00        25\n",
      "           1       1.00      1.00      1.00        50\n",
      "\n",
      "    accuracy                           1.00        75\n",
      "   macro avg       1.00      1.00      1.00        75\n",
      "weighted avg       1.00      1.00      1.00        75\n",
      "\n"
     ]
    }
   ],
   "source": [
    "print(classification_report(y_test , pred_LR))"
   ]
  },
  {
   "cell_type": "code",
   "execution_count": 176,
   "id": "cf6be1ed",
   "metadata": {},
   "outputs": [
    {
     "data": {
      "text/plain": [
       "array([[25,  0],\n",
       "       [ 0, 50]], dtype=int64)"
      ]
     },
     "execution_count": 176,
     "metadata": {},
     "output_type": "execute_result"
    }
   ],
   "source": [
    "confusion_matrix(y_test , pred_LR)"
   ]
  },
  {
   "cell_type": "code",
   "execution_count": null,
   "id": "6b243a84",
   "metadata": {},
   "outputs": [],
   "source": []
  },
  {
   "cell_type": "code",
   "execution_count": null,
   "id": "ee956721",
   "metadata": {},
   "outputs": [],
   "source": []
  },
  {
   "cell_type": "code",
   "execution_count": null,
   "id": "264fc5a3",
   "metadata": {},
   "outputs": [],
   "source": []
  },
  {
   "cell_type": "code",
   "execution_count": 177,
   "id": "fa5fe929",
   "metadata": {},
   "outputs": [],
   "source": []
  },
  {
   "cell_type": "code",
   "execution_count": 180,
   "id": "55daf478",
   "metadata": {},
   "outputs": [],
   "source": []
  },
  {
   "cell_type": "code",
   "execution_count": null,
   "id": "5f459161",
   "metadata": {},
   "outputs": [],
   "source": []
  },
  {
   "cell_type": "code",
   "execution_count": null,
   "id": "c8cbd66b",
   "metadata": {},
   "outputs": [],
   "source": []
  },
  {
   "cell_type": "code",
   "execution_count": null,
   "id": "e81581ff",
   "metadata": {},
   "outputs": [],
   "source": []
  },
  {
   "cell_type": "code",
   "execution_count": null,
   "id": "8b1ca240",
   "metadata": {},
   "outputs": [],
   "source": []
  },
  {
   "cell_type": "code",
   "execution_count": null,
   "id": "679b61c5",
   "metadata": {},
   "outputs": [],
   "source": []
  },
  {
   "cell_type": "code",
   "execution_count": null,
   "id": "aa96b199",
   "metadata": {},
   "outputs": [],
   "source": []
  }
 ],
 "metadata": {
  "kernelspec": {
   "display_name": "Python 3 (ipykernel)",
   "language": "python",
   "name": "python3"
  },
  "language_info": {
   "codemirror_mode": {
    "name": "ipython",
    "version": 3
   },
   "file_extension": ".py",
   "mimetype": "text/x-python",
   "name": "python",
   "nbconvert_exporter": "python",
   "pygments_lexer": "ipython3",
   "version": "3.9.12"
  }
 },
 "nbformat": 4,
 "nbformat_minor": 5
}
